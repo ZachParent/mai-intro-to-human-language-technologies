{
 "cells": [
  {
   "cell_type": "markdown",
   "metadata": {},
   "source": [
    "# IHLT Lab 2: Tokenizing and Sentence Similarity\n",
    "\n",
    "**Authors:** *Zachary Parent ([zachary.alexander.parent](mailto:zachary.alexander.parent@estudiantat.upc.edu)), Carlos Jiménez ([carlos.humberto.jimenez](mailto:carlos.humberto.jimenez@estudiantat.upc.edu))*\n",
    "\n",
    "### 2024-09-20\n",
    "\n",
    "**Instructions:**\n",
    "\n",
    "1. Read all pairs of sentences of the *SMTeuroparl* files of test set within the evaluation framework of the project.\n",
    "\n",
    "2. Compute their similarities by considering words and Jaccard distance. A distance should be obtained for each pair of sentences (a vector of similarities).\n",
    "\n",
    "3. Compare the previous results with gold standard by giving the pearson correlation between them. Only a global measure should be obtained from all previous distances.\n",
    "    ```\n",
    "    from scipy.stats import pearsonr\n",
    "    pearsonr(refs, tsts)[0]\n",
    "    ```\n"
   ]
  },
  {
   "cell_type": "code",
   "execution_count": 1,
   "metadata": {
    "colab": {
     "base_uri": "https://localhost:8080/"
    },
    "id": "oJV6CX_UbcI1",
    "outputId": "cb490fd3-eb2b-4afc-c9a9-794c7c33d144"
   },
   "outputs": [],
   "source": [
    "import pandas as pd\n",
    "import numpy as np\n",
    "from scipy.stats import pearsonr\n",
    "import matplotlib.pyplot as plt\n",
    "import nltk\n",
    "from nltk.metrics.distance import jaccard_distance\n",
    "import spacy"
   ]
  },
  {
   "cell_type": "code",
   "execution_count": 2,
   "metadata": {
    "colab": {
     "base_uri": "https://localhost:8080/"
    },
    "id": "CcngbJc-fxWy",
    "outputId": "f1d9e8ea-f719-439a-90ad-ecc1cecfa311"
   },
   "outputs": [
    {
     "name": "stderr",
     "output_type": "stream",
     "text": [
      "[nltk_data] Downloading package punkt to /home/cajifan/nltk_data...\n",
      "[nltk_data]   Package punkt is already up-to-date!\n",
      "[nltk_data] Downloading package punkt_tab to\n",
      "[nltk_data]     /home/cajifan/nltk_data...\n",
      "[nltk_data]   Package punkt_tab is already up-to-date!\n",
      "[nltk_data] Downloading package stopwords to\n",
      "[nltk_data]     /home/cajifan/nltk_data...\n",
      "[nltk_data]   Package stopwords is already up-to-date!\n"
     ]
    }
   ],
   "source": [
    "nltk.download(\"punkt\")\n",
    "nltk.download(\"punkt_tab\")\n",
    "nltk.download('stopwords')\n",
    "nlp = spacy.load(\"en_core_web_sm\")"
   ]
  },
  {
   "cell_type": "markdown",
   "metadata": {},
   "source": [
    "# Read data\n",
    "### Depending on whether you are running this on Google Colab or locally, set the `BASE_PATH` variable to the appropriate path."
   ]
  },
  {
   "cell_type": "code",
   "execution_count": 3,
   "metadata": {
    "colab": {
     "base_uri": "https://localhost:8080/"
    },
    "id": "t8CmdjmVb6Og",
    "outputId": "d364c436-b5ce-46f7-af9f-c09bf227d929"
   },
   "outputs": [],
   "source": [
    "# Read data from Google Drive\n",
    "\n",
    "# from google.colab import drive\n",
    "# drive.mount('/content/drive', force_remount=True)\n",
    "\n",
    "# BASE_PATH = '/content/drive/MyDrive/MASTER AI'"
   ]
  },
  {
   "cell_type": "code",
   "execution_count": 4,
   "metadata": {},
   "outputs": [],
   "source": [
    "# Read data from local file system\n",
    "\n",
    "BASE_PATH = '.'"
   ]
  },
  {
   "cell_type": "code",
   "execution_count": 5,
   "metadata": {},
   "outputs": [],
   "source": [
    "assert BASE_PATH is not None, \"BASE_PATH is not set\""
   ]
  },
  {
   "cell_type": "code",
   "execution_count": 6,
   "metadata": {},
   "outputs": [
    {
     "data": {
      "text/html": [
       "<div>\n",
       "<style scoped>\n",
       "    .dataframe tbody tr th:only-of-type {\n",
       "        vertical-align: middle;\n",
       "    }\n",
       "\n",
       "    .dataframe tbody tr th {\n",
       "        vertical-align: top;\n",
       "    }\n",
       "\n",
       "    .dataframe thead th {\n",
       "        text-align: right;\n",
       "    }\n",
       "</style>\n",
       "<table border=\"1\" class=\"dataframe\">\n",
       "  <thead>\n",
       "    <tr style=\"text-align: right;\">\n",
       "      <th></th>\n",
       "      <th>0</th>\n",
       "      <th>1</th>\n",
       "    </tr>\n",
       "  </thead>\n",
       "  <tbody>\n",
       "    <tr>\n",
       "      <th>0</th>\n",
       "      <td>The leaders have now been given a new chance a...</td>\n",
       "      <td>The leaders benefit aujourd' hui of a new luck...</td>\n",
       "    </tr>\n",
       "    <tr>\n",
       "      <th>1</th>\n",
       "      <td>Amendment No 7 proposes certain changes in the...</td>\n",
       "      <td>Amendment No 7 is proposing certain changes in...</td>\n",
       "    </tr>\n",
       "    <tr>\n",
       "      <th>2</th>\n",
       "      <td>Let me remind you that our allies include ferv...</td>\n",
       "      <td>I would like to remind you that among our alli...</td>\n",
       "    </tr>\n",
       "    <tr>\n",
       "      <th>3</th>\n",
       "      <td>The vote will take place today at 5.30 p.m.</td>\n",
       "      <td>The vote will take place at 5.30pm</td>\n",
       "    </tr>\n",
       "    <tr>\n",
       "      <th>4</th>\n",
       "      <td>The fishermen are inactive, tired and disappoi...</td>\n",
       "      <td>The fishermen are inactive, tired and disappoi...</td>\n",
       "    </tr>\n",
       "  </tbody>\n",
       "</table>\n",
       "</div>"
      ],
      "text/plain": [
       "                                                   0  \\\n",
       "0  The leaders have now been given a new chance a...   \n",
       "1  Amendment No 7 proposes certain changes in the...   \n",
       "2  Let me remind you that our allies include ferv...   \n",
       "3        The vote will take place today at 5.30 p.m.   \n",
       "4  The fishermen are inactive, tired and disappoi...   \n",
       "\n",
       "                                                   1  \n",
       "0  The leaders benefit aujourd' hui of a new luck...  \n",
       "1  Amendment No 7 is proposing certain changes in...  \n",
       "2  I would like to remind you that among our alli...  \n",
       "3                 The vote will take place at 5.30pm  \n",
       "4  The fishermen are inactive, tired and disappoi...  "
      ]
     },
     "execution_count": 6,
     "metadata": {},
     "output_type": "execute_result"
    }
   ],
   "source": [
    "dt = pd.read_csv(\n",
    "    f\"{BASE_PATH}/test-gold/STS.input.SMTeuroparl.txt\", sep=\"\\t\", header=None\n",
    ")\n",
    "dt.head()"
   ]
  },
  {
   "cell_type": "code",
   "execution_count": 7,
   "metadata": {},
   "outputs": [
    {
     "data": {
      "text/html": [
       "<div>\n",
       "<style scoped>\n",
       "    .dataframe tbody tr th:only-of-type {\n",
       "        vertical-align: middle;\n",
       "    }\n",
       "\n",
       "    .dataframe tbody tr th {\n",
       "        vertical-align: top;\n",
       "    }\n",
       "\n",
       "    .dataframe thead th {\n",
       "        text-align: right;\n",
       "    }\n",
       "</style>\n",
       "<table border=\"1\" class=\"dataframe\">\n",
       "  <thead>\n",
       "    <tr style=\"text-align: right;\">\n",
       "      <th></th>\n",
       "      <th>s1</th>\n",
       "      <th>s2</th>\n",
       "    </tr>\n",
       "  </thead>\n",
       "  <tbody>\n",
       "    <tr>\n",
       "      <th>0</th>\n",
       "      <td>The leaders have now been given a new chance a...</td>\n",
       "      <td>The leaders benefit aujourd' hui of a new luck...</td>\n",
       "    </tr>\n",
       "    <tr>\n",
       "      <th>1</th>\n",
       "      <td>Amendment No 7 proposes certain changes in the...</td>\n",
       "      <td>Amendment No 7 is proposing certain changes in...</td>\n",
       "    </tr>\n",
       "    <tr>\n",
       "      <th>2</th>\n",
       "      <td>Let me remind you that our allies include ferv...</td>\n",
       "      <td>I would like to remind you that among our alli...</td>\n",
       "    </tr>\n",
       "    <tr>\n",
       "      <th>3</th>\n",
       "      <td>The vote will take place today at 5.30 p.m.</td>\n",
       "      <td>The vote will take place at 5.30pm</td>\n",
       "    </tr>\n",
       "    <tr>\n",
       "      <th>4</th>\n",
       "      <td>The fishermen are inactive, tired and disappoi...</td>\n",
       "      <td>The fishermen are inactive, tired and disappoi...</td>\n",
       "    </tr>\n",
       "  </tbody>\n",
       "</table>\n",
       "</div>"
      ],
      "text/plain": [
       "                                                  s1  \\\n",
       "0  The leaders have now been given a new chance a...   \n",
       "1  Amendment No 7 proposes certain changes in the...   \n",
       "2  Let me remind you that our allies include ferv...   \n",
       "3        The vote will take place today at 5.30 p.m.   \n",
       "4  The fishermen are inactive, tired and disappoi...   \n",
       "\n",
       "                                                  s2  \n",
       "0  The leaders benefit aujourd' hui of a new luck...  \n",
       "1  Amendment No 7 is proposing certain changes in...  \n",
       "2  I would like to remind you that among our alli...  \n",
       "3                 The vote will take place at 5.30pm  \n",
       "4  The fishermen are inactive, tired and disappoi...  "
      ]
     },
     "execution_count": 7,
     "metadata": {},
     "output_type": "execute_result"
    }
   ],
   "source": [
    "dt.columns = [\"s1\", \"s2\"]\n",
    "dt.head()"
   ]
  },
  {
   "cell_type": "code",
   "execution_count": 8,
   "metadata": {
    "colab": {
     "base_uri": "https://localhost:8080/",
     "height": 424
    },
    "id": "IQgy_gemb7iI",
    "outputId": "ba8516cf-1355-4260-8b2f-6b78836da692"
   },
   "outputs": [
    {
     "data": {
      "text/html": [
       "<div>\n",
       "<style scoped>\n",
       "    .dataframe tbody tr th:only-of-type {\n",
       "        vertical-align: middle;\n",
       "    }\n",
       "\n",
       "    .dataframe tbody tr th {\n",
       "        vertical-align: top;\n",
       "    }\n",
       "\n",
       "    .dataframe thead th {\n",
       "        text-align: right;\n",
       "    }\n",
       "</style>\n",
       "<table border=\"1\" class=\"dataframe\">\n",
       "  <thead>\n",
       "    <tr style=\"text-align: right;\">\n",
       "      <th></th>\n",
       "      <th>s1</th>\n",
       "      <th>s2</th>\n",
       "      <th>gs</th>\n",
       "    </tr>\n",
       "  </thead>\n",
       "  <tbody>\n",
       "    <tr>\n",
       "      <th>0</th>\n",
       "      <td>The leaders have now been given a new chance a...</td>\n",
       "      <td>The leaders benefit aujourd' hui of a new luck...</td>\n",
       "      <td>4.50</td>\n",
       "    </tr>\n",
       "    <tr>\n",
       "      <th>1</th>\n",
       "      <td>Amendment No 7 proposes certain changes in the...</td>\n",
       "      <td>Amendment No 7 is proposing certain changes in...</td>\n",
       "      <td>5.00</td>\n",
       "    </tr>\n",
       "    <tr>\n",
       "      <th>2</th>\n",
       "      <td>Let me remind you that our allies include ferv...</td>\n",
       "      <td>I would like to remind you that among our alli...</td>\n",
       "      <td>4.25</td>\n",
       "    </tr>\n",
       "    <tr>\n",
       "      <th>3</th>\n",
       "      <td>The vote will take place today at 5.30 p.m.</td>\n",
       "      <td>The vote will take place at 5.30pm</td>\n",
       "      <td>4.50</td>\n",
       "    </tr>\n",
       "    <tr>\n",
       "      <th>4</th>\n",
       "      <td>The fishermen are inactive, tired and disappoi...</td>\n",
       "      <td>The fishermen are inactive, tired and disappoi...</td>\n",
       "      <td>5.00</td>\n",
       "    </tr>\n",
       "  </tbody>\n",
       "</table>\n",
       "</div>"
      ],
      "text/plain": [
       "                                                  s1  \\\n",
       "0  The leaders have now been given a new chance a...   \n",
       "1  Amendment No 7 proposes certain changes in the...   \n",
       "2  Let me remind you that our allies include ferv...   \n",
       "3        The vote will take place today at 5.30 p.m.   \n",
       "4  The fishermen are inactive, tired and disappoi...   \n",
       "\n",
       "                                                  s2    gs  \n",
       "0  The leaders benefit aujourd' hui of a new luck...  4.50  \n",
       "1  Amendment No 7 is proposing certain changes in...  5.00  \n",
       "2  I would like to remind you that among our alli...  4.25  \n",
       "3                 The vote will take place at 5.30pm  4.50  \n",
       "4  The fishermen are inactive, tired and disappoi...  5.00  "
      ]
     },
     "execution_count": 8,
     "metadata": {},
     "output_type": "execute_result"
    }
   ],
   "source": [
    "dt[\"gs\"] = pd.read_csv(\n",
    "    f\"{BASE_PATH}/test-gold/STS.gs.SMTeuroparl.txt\", sep=\"\\t\", header=None\n",
    ")\n",
    "dt.head()"
   ]
  },
  {
   "cell_type": "markdown",
   "metadata": {},
   "source": [
    "# Tokenization\n",
    "### Create a copy dataframe from the original and apply tokenization to each text column ['s1', 's2'] "
   ]
  },
  {
   "cell_type": "code",
   "execution_count": 9,
   "metadata": {
    "colab": {
     "base_uri": "https://localhost:8080/",
     "height": 424
    },
    "id": "CSxXTsAsb7oX",
    "outputId": "4b040401-edac-4993-c367-4865ae4c2cac"
   },
   "outputs": [
    {
     "data": {
      "text/html": [
       "<div>\n",
       "<style scoped>\n",
       "    .dataframe tbody tr th:only-of-type {\n",
       "        vertical-align: middle;\n",
       "    }\n",
       "\n",
       "    .dataframe tbody tr th {\n",
       "        vertical-align: top;\n",
       "    }\n",
       "\n",
       "    .dataframe thead th {\n",
       "        text-align: right;\n",
       "    }\n",
       "</style>\n",
       "<table border=\"1\" class=\"dataframe\">\n",
       "  <thead>\n",
       "    <tr style=\"text-align: right;\">\n",
       "      <th></th>\n",
       "      <th>s1</th>\n",
       "      <th>s2</th>\n",
       "      <th>gs</th>\n",
       "    </tr>\n",
       "  </thead>\n",
       "  <tbody>\n",
       "    <tr>\n",
       "      <th>0</th>\n",
       "      <td>[The, leaders, have, now, been, given, a, new,...</td>\n",
       "      <td>[The, leaders, benefit, aujourd, ', hui, of, a...</td>\n",
       "      <td>4.50</td>\n",
       "    </tr>\n",
       "    <tr>\n",
       "      <th>1</th>\n",
       "      <td>[Amendment, No, 7, proposes, certain, changes,...</td>\n",
       "      <td>[Amendment, No, 7, is, proposing, certain, cha...</td>\n",
       "      <td>5.00</td>\n",
       "    </tr>\n",
       "    <tr>\n",
       "      <th>2</th>\n",
       "      <td>[Let, me, remind, you, that, our, allies, incl...</td>\n",
       "      <td>[I, would, like, to, remind, you, that, among,...</td>\n",
       "      <td>4.25</td>\n",
       "    </tr>\n",
       "    <tr>\n",
       "      <th>3</th>\n",
       "      <td>[The, vote, will, take, place, today, at, 5.30...</td>\n",
       "      <td>[The, vote, will, take, place, at, 5.30pm]</td>\n",
       "      <td>4.50</td>\n",
       "    </tr>\n",
       "    <tr>\n",
       "      <th>4</th>\n",
       "      <td>[The, fishermen, are, inactive, ,, tired, and,...</td>\n",
       "      <td>[The, fishermen, are, inactive, ,, tired, and,...</td>\n",
       "      <td>5.00</td>\n",
       "    </tr>\n",
       "  </tbody>\n",
       "</table>\n",
       "</div>"
      ],
      "text/plain": [
       "                                                  s1  \\\n",
       "0  [The, leaders, have, now, been, given, a, new,...   \n",
       "1  [Amendment, No, 7, proposes, certain, changes,...   \n",
       "2  [Let, me, remind, you, that, our, allies, incl...   \n",
       "3  [The, vote, will, take, place, today, at, 5.30...   \n",
       "4  [The, fishermen, are, inactive, ,, tired, and,...   \n",
       "\n",
       "                                                  s2    gs  \n",
       "0  [The, leaders, benefit, aujourd, ', hui, of, a...  4.50  \n",
       "1  [Amendment, No, 7, is, proposing, certain, cha...  5.00  \n",
       "2  [I, would, like, to, remind, you, that, among,...  4.25  \n",
       "3         [The, vote, will, take, place, at, 5.30pm]  4.50  \n",
       "4  [The, fishermen, are, inactive, ,, tired, and,...  5.00  "
      ]
     },
     "execution_count": 9,
     "metadata": {},
     "output_type": "execute_result"
    }
   ],
   "source": [
    "tokenized_dt = dt.copy()\n",
    "tokenized_dt.loc[:, \"s1\"] = tokenized_dt.loc[:, \"s1\"].apply(\n",
    "    lambda x: nltk.word_tokenize(x)\n",
    ")\n",
    "tokenized_dt.loc[:, \"s2\"] = tokenized_dt.loc[:, \"s2\"].apply(\n",
    "    lambda x: nltk.word_tokenize(x)\n",
    ")\n",
    "\n",
    "tokenized_dt.head()"
   ]
  },
  {
   "cell_type": "markdown",
   "metadata": {},
   "source": [
    "# Computing Similarity\n",
    "### We computed the Jaccard distance between the sets of words in the sentences. We scored the Jaccard distance with the Gold Standard, using the Pearson correlation with the Gold Standard to determine if our Jaccard distance was a good measure of sentence similarity. We found a Pearson correlation of `-0.4505` with the Gold Standard."
   ]
  },
  {
   "cell_type": "code",
   "execution_count": 10,
   "metadata": {
    "id": "6uKXn4GVlC-W"
   },
   "outputs": [
    {
     "name": "stderr",
     "output_type": "stream",
     "text": [
      "/tmp/ipykernel_194165/4273636735.py:2: FutureWarning: Series.__getitem__ treating keys as positions is deprecated. In a future version, integer keys will always be treated as labels (consistent with DataFrame behavior). To access a value by position, use `ser.iloc[pos]`\n",
      "  lambda x: jaccard_distance(set(x[0]), set(x[1])), axis=1\n"
     ]
    },
    {
     "data": {
      "text/html": [
       "<div>\n",
       "<style scoped>\n",
       "    .dataframe tbody tr th:only-of-type {\n",
       "        vertical-align: middle;\n",
       "    }\n",
       "\n",
       "    .dataframe tbody tr th {\n",
       "        vertical-align: top;\n",
       "    }\n",
       "\n",
       "    .dataframe thead th {\n",
       "        text-align: right;\n",
       "    }\n",
       "</style>\n",
       "<table border=\"1\" class=\"dataframe\">\n",
       "  <thead>\n",
       "    <tr style=\"text-align: right;\">\n",
       "      <th></th>\n",
       "      <th>s1</th>\n",
       "      <th>s2</th>\n",
       "      <th>gs</th>\n",
       "      <th>jaccard</th>\n",
       "    </tr>\n",
       "  </thead>\n",
       "  <tbody>\n",
       "    <tr>\n",
       "      <th>0</th>\n",
       "      <td>[The, leaders, have, now, been, given, a, new,...</td>\n",
       "      <td>[The, leaders, benefit, aujourd, ', hui, of, a...</td>\n",
       "      <td>4.50</td>\n",
       "      <td>0.653846</td>\n",
       "    </tr>\n",
       "    <tr>\n",
       "      <th>1</th>\n",
       "      <td>[Amendment, No, 7, proposes, certain, changes,...</td>\n",
       "      <td>[Amendment, No, 7, is, proposing, certain, cha...</td>\n",
       "      <td>5.00</td>\n",
       "      <td>0.214286</td>\n",
       "    </tr>\n",
       "    <tr>\n",
       "      <th>2</th>\n",
       "      <td>[Let, me, remind, you, that, our, allies, incl...</td>\n",
       "      <td>[I, would, like, to, remind, you, that, among,...</td>\n",
       "      <td>4.25</td>\n",
       "      <td>0.608696</td>\n",
       "    </tr>\n",
       "    <tr>\n",
       "      <th>3</th>\n",
       "      <td>[The, vote, will, take, place, today, at, 5.30...</td>\n",
       "      <td>[The, vote, will, take, place, at, 5.30pm]</td>\n",
       "      <td>4.50</td>\n",
       "      <td>0.454545</td>\n",
       "    </tr>\n",
       "    <tr>\n",
       "      <th>4</th>\n",
       "      <td>[The, fishermen, are, inactive, ,, tired, and,...</td>\n",
       "      <td>[The, fishermen, are, inactive, ,, tired, and,...</td>\n",
       "      <td>5.00</td>\n",
       "      <td>0.000000</td>\n",
       "    </tr>\n",
       "  </tbody>\n",
       "</table>\n",
       "</div>"
      ],
      "text/plain": [
       "                                                  s1  \\\n",
       "0  [The, leaders, have, now, been, given, a, new,...   \n",
       "1  [Amendment, No, 7, proposes, certain, changes,...   \n",
       "2  [Let, me, remind, you, that, our, allies, incl...   \n",
       "3  [The, vote, will, take, place, today, at, 5.30...   \n",
       "4  [The, fishermen, are, inactive, ,, tired, and,...   \n",
       "\n",
       "                                                  s2    gs   jaccard  \n",
       "0  [The, leaders, benefit, aujourd, ', hui, of, a...  4.50  0.653846  \n",
       "1  [Amendment, No, 7, is, proposing, certain, cha...  5.00  0.214286  \n",
       "2  [I, would, like, to, remind, you, that, among,...  4.25  0.608696  \n",
       "3         [The, vote, will, take, place, at, 5.30pm]  4.50  0.454545  \n",
       "4  [The, fishermen, are, inactive, ,, tired, and,...  5.00  0.000000  "
      ]
     },
     "execution_count": 10,
     "metadata": {},
     "output_type": "execute_result"
    }
   ],
   "source": [
    "tokenized_dt[\"jaccard\"] = tokenized_dt[[\"s1\", \"s2\"]].apply(\n",
    "    lambda x: jaccard_distance(set(x[0]), set(x[1])), axis=1\n",
    ")\n",
    "tokenized_dt.head()"
   ]
  },
  {
   "cell_type": "markdown",
   "metadata": {},
   "source": [
    "### Compute the pearson correlation coefficient r which allows us to determine the linear relationship between two variables. "
   ]
  },
  {
   "cell_type": "code",
   "execution_count": 11,
   "metadata": {},
   "outputs": [
    {
     "name": "stdout",
     "output_type": "stream",
     "text": [
      "Pearsonr: -0.45049771693186846, pvalue: 2.5356459143056175e-24\n"
     ]
    }
   ],
   "source": [
    "pearsonr_gs_jaccard = pearsonr(tokenized_dt[\"gs\"], tokenized_dt[\"jaccard\"])\n",
    "\n",
    "print(f\"Pearsonr: {pearsonr_gs_jaccard[0]}, pvalue: {pearsonr_gs_jaccard[1]}\")\n"
   ]
  },
  {
   "cell_type": "markdown",
   "metadata": {},
   "source": [
    "### We experimented with normalizing the gold standard scores to see if that would affect our Jaccard distance's correlation with the Gold Standard. We found that it did not. The Pearson correlation was still `-0.4505`."
   ]
  },
  {
   "cell_type": "code",
   "execution_count": 12,
   "metadata": {},
   "outputs": [
    {
     "data": {
      "text/html": [
       "<div>\n",
       "<style scoped>\n",
       "    .dataframe tbody tr th:only-of-type {\n",
       "        vertical-align: middle;\n",
       "    }\n",
       "\n",
       "    .dataframe tbody tr th {\n",
       "        vertical-align: top;\n",
       "    }\n",
       "\n",
       "    .dataframe thead th {\n",
       "        text-align: right;\n",
       "    }\n",
       "</style>\n",
       "<table border=\"1\" class=\"dataframe\">\n",
       "  <thead>\n",
       "    <tr style=\"text-align: right;\">\n",
       "      <th></th>\n",
       "      <th>s1</th>\n",
       "      <th>s2</th>\n",
       "      <th>gs</th>\n",
       "      <th>jaccard</th>\n",
       "      <th>gs_normalized</th>\n",
       "    </tr>\n",
       "  </thead>\n",
       "  <tbody>\n",
       "    <tr>\n",
       "      <th>0</th>\n",
       "      <td>[The, leaders, have, now, been, given, a, new,...</td>\n",
       "      <td>[The, leaders, benefit, aujourd, ', hui, of, a...</td>\n",
       "      <td>4.50</td>\n",
       "      <td>0.653846</td>\n",
       "      <td>0.857143</td>\n",
       "    </tr>\n",
       "    <tr>\n",
       "      <th>1</th>\n",
       "      <td>[Amendment, No, 7, proposes, certain, changes,...</td>\n",
       "      <td>[Amendment, No, 7, is, proposing, certain, cha...</td>\n",
       "      <td>5.00</td>\n",
       "      <td>0.214286</td>\n",
       "      <td>1.000000</td>\n",
       "    </tr>\n",
       "    <tr>\n",
       "      <th>2</th>\n",
       "      <td>[Let, me, remind, you, that, our, allies, incl...</td>\n",
       "      <td>[I, would, like, to, remind, you, that, among,...</td>\n",
       "      <td>4.25</td>\n",
       "      <td>0.608696</td>\n",
       "      <td>0.785714</td>\n",
       "    </tr>\n",
       "    <tr>\n",
       "      <th>3</th>\n",
       "      <td>[The, vote, will, take, place, today, at, 5.30...</td>\n",
       "      <td>[The, vote, will, take, place, at, 5.30pm]</td>\n",
       "      <td>4.50</td>\n",
       "      <td>0.454545</td>\n",
       "      <td>0.857143</td>\n",
       "    </tr>\n",
       "    <tr>\n",
       "      <th>4</th>\n",
       "      <td>[The, fishermen, are, inactive, ,, tired, and,...</td>\n",
       "      <td>[The, fishermen, are, inactive, ,, tired, and,...</td>\n",
       "      <td>5.00</td>\n",
       "      <td>0.000000</td>\n",
       "      <td>1.000000</td>\n",
       "    </tr>\n",
       "  </tbody>\n",
       "</table>\n",
       "</div>"
      ],
      "text/plain": [
       "                                                  s1  \\\n",
       "0  [The, leaders, have, now, been, given, a, new,...   \n",
       "1  [Amendment, No, 7, proposes, certain, changes,...   \n",
       "2  [Let, me, remind, you, that, our, allies, incl...   \n",
       "3  [The, vote, will, take, place, today, at, 5.30...   \n",
       "4  [The, fishermen, are, inactive, ,, tired, and,...   \n",
       "\n",
       "                                                  s2    gs   jaccard  \\\n",
       "0  [The, leaders, benefit, aujourd, ', hui, of, a...  4.50  0.653846   \n",
       "1  [Amendment, No, 7, is, proposing, certain, cha...  5.00  0.214286   \n",
       "2  [I, would, like, to, remind, you, that, among,...  4.25  0.608696   \n",
       "3         [The, vote, will, take, place, at, 5.30pm]  4.50  0.454545   \n",
       "4  [The, fishermen, are, inactive, ,, tired, and,...  5.00  0.000000   \n",
       "\n",
       "   gs_normalized  \n",
       "0       0.857143  \n",
       "1       1.000000  \n",
       "2       0.785714  \n",
       "3       0.857143  \n",
       "4       1.000000  "
      ]
     },
     "execution_count": 12,
     "metadata": {},
     "output_type": "execute_result"
    }
   ],
   "source": [
    "tokenized_dt[\"gs_normalized\"] = np.interp(\n",
    "    tokenized_dt[\"gs\"], (tokenized_dt[\"gs\"].min(), tokenized_dt[\"gs\"].max()), (0, 1)\n",
    ")\n",
    "tokenized_dt.head()"
   ]
  },
  {
   "cell_type": "code",
   "execution_count": 13,
   "metadata": {},
   "outputs": [
    {
     "name": "stdout",
     "output_type": "stream",
     "text": [
      "Pearsonr normalizedd: -0.4504977169318686, pvalue normalized: 2.5356459143056175e-24\n"
     ]
    }
   ],
   "source": [
    "pearsonr_normalized_gs_jaccard = pearsonr(\n",
    "    tokenized_dt[\"gs_normalized\"], tokenized_dt[\"jaccard\"]\n",
    ")\n",
    "print(\n",
    "    f\"Pearsonr normalizedd: {pearsonr_normalized_gs_jaccard[0]}, pvalue normalized: {pearsonr_normalized_gs_jaccard[1]}\"\n",
    ")"
   ]
  },
  {
   "cell_type": "markdown",
   "metadata": {},
   "source": [
    "### Visualization of the correlation between texts when normalizing the gs vs when it is not"
   ]
  },
  {
   "cell_type": "code",
   "execution_count": 14,
   "metadata": {},
   "outputs": [
    {
     "data": {
      "image/png": "[encoded data removed]",
      "text/plain": [
       "<Figure size 1200x500 with 2 Axes>"
      ]
     },
     "metadata": {},
     "output_type": "display_data"
    }
   ],
   "source": [
    "fig, axs = plt.subplots(1, 2, figsize=(12, 5))\n",
    "\n",
    "axs[0].scatter(tokenized_dt[\"gs\"], tokenized_dt[\"jaccard\"])\n",
    "axs[0].set_xlabel(\"Gold Standard\")\n",
    "axs[0].set_ylabel(\"Jaccard Distance\")\n",
    "axs[0].set_title(\"Jaccard Distance vs. Gold Standard\")\n",
    "axs[0].text(\n",
    "    0.1,\n",
    "    0.1,\n",
    "    f\"Pearsonr: {pearsonr_gs_jaccard[0]:.4f}\",\n",
    "    transform=axs[0].transAxes,\n",
    "    ha=\"left\",\n",
    "    va=\"center\",\n",
    ")\n",
    "\n",
    "axs[1].scatter(tokenized_dt[\"gs_normalized\"], tokenized_dt[\"jaccard\"])\n",
    "axs[1].set_xlabel(\"Gold Standard (normal)\")\n",
    "axs[1].set_ylabel(\"Jaccard Distance\")\n",
    "axs[1].set_title(\"Jaccard Distance vs. Gold Standard (normalized)\")\n",
    "axs[1].text(\n",
    "    0.1,\n",
    "    0.1,\n",
    "    f\"Pearsonr: {pearsonr_normalized_gs_jaccard[0]:.4f}\",\n",
    "    transform=axs[1].transAxes,\n",
    "    ha=\"left\",\n",
    "    va=\"center\",\n",
    ")\n",
    "fig.suptitle(\"Jaccard Distance vs. Gold Standard\", fontsize=16)\n",
    "\n",
    "plt.show()\n"
   ]
  },
  {
   "cell_type": "markdown",
   "metadata": {},
   "source": [
    "\n",
    "# Removing stopwords experiment\n",
    "### We also tried using the Jaccard distance with stopwords and without stopwords. We found that the Jaccard distance without stopwords had lower correlation with the Gold Standard. Removing stopwords resulted in a Pearson correlation of `-0.4247` with the Gold Standard."
   ]
  },
  {
   "cell_type": "code",
   "execution_count": 15,
   "metadata": {},
   "outputs": [
    {
     "data": {
      "text/html": [
       "<div>\n",
       "<style scoped>\n",
       "    .dataframe tbody tr th:only-of-type {\n",
       "        vertical-align: middle;\n",
       "    }\n",
       "\n",
       "    .dataframe tbody tr th {\n",
       "        vertical-align: top;\n",
       "    }\n",
       "\n",
       "    .dataframe thead th {\n",
       "        text-align: right;\n",
       "    }\n",
       "</style>\n",
       "<table border=\"1\" class=\"dataframe\">\n",
       "  <thead>\n",
       "    <tr style=\"text-align: right;\">\n",
       "      <th></th>\n",
       "      <th>s1</th>\n",
       "      <th>s2</th>\n",
       "      <th>gs</th>\n",
       "      <th>jaccard</th>\n",
       "      <th>gs_normalized</th>\n",
       "    </tr>\n",
       "  </thead>\n",
       "  <tbody>\n",
       "    <tr>\n",
       "      <th>0</th>\n",
       "      <td>[The, leaders, given, new, chance, let, us, ho...</td>\n",
       "      <td>[The, leaders, benefit, aujourd, ', hui, new, ...</td>\n",
       "      <td>4.50</td>\n",
       "      <td>0.653846</td>\n",
       "      <td>0.857143</td>\n",
       "    </tr>\n",
       "    <tr>\n",
       "      <th>1</th>\n",
       "      <td>[Amendment, No, 7, proposes, certain, changes,...</td>\n",
       "      <td>[Amendment, No, 7, proposing, certain, changes...</td>\n",
       "      <td>5.00</td>\n",
       "      <td>0.214286</td>\n",
       "      <td>1.000000</td>\n",
       "    </tr>\n",
       "    <tr>\n",
       "      <th>2</th>\n",
       "      <td>[Let, remind, allies, include, fervent, suppor...</td>\n",
       "      <td>[I, would, like, remind, among, allies, ,, str...</td>\n",
       "      <td>4.25</td>\n",
       "      <td>0.608696</td>\n",
       "      <td>0.785714</td>\n",
       "    </tr>\n",
       "    <tr>\n",
       "      <th>3</th>\n",
       "      <td>[The, vote, take, place, today, 5.30, p.m, .]</td>\n",
       "      <td>[The, vote, take, place, 5.30pm]</td>\n",
       "      <td>4.50</td>\n",
       "      <td>0.454545</td>\n",
       "      <td>0.857143</td>\n",
       "    </tr>\n",
       "    <tr>\n",
       "      <th>4</th>\n",
       "      <td>[The, fishermen, inactive, ,, tired, disappoin...</td>\n",
       "      <td>[The, fishermen, inactive, ,, tired, disappoin...</td>\n",
       "      <td>5.00</td>\n",
       "      <td>0.000000</td>\n",
       "      <td>1.000000</td>\n",
       "    </tr>\n",
       "  </tbody>\n",
       "</table>\n",
       "</div>"
      ],
      "text/plain": [
       "                                                  s1  \\\n",
       "0  [The, leaders, given, new, chance, let, us, ho...   \n",
       "1  [Amendment, No, 7, proposes, certain, changes,...   \n",
       "2  [Let, remind, allies, include, fervent, suppor...   \n",
       "3      [The, vote, take, place, today, 5.30, p.m, .]   \n",
       "4  [The, fishermen, inactive, ,, tired, disappoin...   \n",
       "\n",
       "                                                  s2    gs   jaccard  \\\n",
       "0  [The, leaders, benefit, aujourd, ', hui, new, ...  4.50  0.653846   \n",
       "1  [Amendment, No, 7, proposing, certain, changes...  5.00  0.214286   \n",
       "2  [I, would, like, remind, among, allies, ,, str...  4.25  0.608696   \n",
       "3                   [The, vote, take, place, 5.30pm]  4.50  0.454545   \n",
       "4  [The, fishermen, inactive, ,, tired, disappoin...  5.00  0.000000   \n",
       "\n",
       "   gs_normalized  \n",
       "0       0.857143  \n",
       "1       1.000000  \n",
       "2       0.785714  \n",
       "3       0.857143  \n",
       "4       1.000000  "
      ]
     },
     "execution_count": 15,
     "metadata": {},
     "output_type": "execute_result"
    }
   ],
   "source": [
    "tokenized_dt_without_stopwords = tokenized_dt.copy()\n",
    "\n",
    "tokenized_dt_without_stopwords.loc[:, \"s1\"] = tokenized_dt_without_stopwords.loc[\n",
    "    :, \"s1\"\n",
    "].apply(\n",
    "    lambda x: [word for word in x if word not in nltk.corpus.stopwords.words(\"english\")]\n",
    ")\n",
    "tokenized_dt_without_stopwords.loc[:, \"s2\"] = tokenized_dt_without_stopwords.loc[\n",
    "    :, \"s2\"\n",
    "].apply(\n",
    "    lambda x: [word for word in x if word not in nltk.corpus.stopwords.words(\"english\")]\n",
    ")\n",
    "\n",
    "tokenized_dt_without_stopwords.head()"
   ]
  },
  {
   "cell_type": "code",
   "execution_count": 16,
   "metadata": {},
   "outputs": [
    {
     "name": "stderr",
     "output_type": "stream",
     "text": [
      "/tmp/ipykernel_194165/866717555.py:3: FutureWarning: Series.__getitem__ treating keys as positions is deprecated. In a future version, integer keys will always be treated as labels (consistent with DataFrame behavior). To access a value by position, use `ser.iloc[pos]`\n",
      "  ].apply(lambda x: jaccard_distance(set(x[0]), set(x[1])), axis=1)\n"
     ]
    },
    {
     "data": {
      "image/png": "[encoded data removed]",
      "text/plain": [
       "<Figure size 1200x500 with 2 Axes>"
      ]
     },
     "metadata": {},
     "output_type": "display_data"
    },
    {
     "name": "stdout",
     "output_type": "stream",
     "text": [
      "Pearsonr: -0.42468224616360856, pvalue: 1.5957837509380772e-21\n",
      "Pearsonr normalized: -0.42468224616360867, pvalue normalized: 1.5957837509380772e-21\n"
     ]
    }
   ],
   "source": [
    "tokenized_dt_without_stopwords[\"jaccard\"] = tokenized_dt_without_stopwords[\n",
    "    [\"s1\", \"s2\"]\n",
    "].apply(lambda x: jaccard_distance(set(x[0]), set(x[1])), axis=1)\n",
    "\n",
    "fig, axs = plt.subplots(1, 2, figsize=(12, 5))\n",
    "\n",
    "pearsonr_gs_jaccard = pearsonr(\n",
    "    tokenized_dt_without_stopwords[\"gs\"], tokenized_dt_without_stopwords[\"jaccard\"]\n",
    ")\n",
    "pearsonr_normalized_gs_jaccard = pearsonr(\n",
    "    tokenized_dt_without_stopwords[\"gs_normalized\"],\n",
    "    tokenized_dt_without_stopwords[\"jaccard\"],\n",
    ")\n",
    "\n",
    "axs[0].scatter(\n",
    "    tokenized_dt_without_stopwords[\"gs\"], tokenized_dt_without_stopwords[\"jaccard\"]\n",
    ")\n",
    "axs[0].set_xlabel(\"Gold Standard\")\n",
    "axs[0].set_ylabel(\"Jaccard Distance\")\n",
    "axs[0].set_title(\"Jaccard Distance vs. Gold Standard\")\n",
    "axs[0].text(\n",
    "    0.1,\n",
    "    0.1,\n",
    "    f\"Pearsonr: {pearsonr_gs_jaccard[0]:.4f}\",\n",
    "    transform=axs[0].transAxes,\n",
    "    ha=\"left\",\n",
    "    va=\"center\",\n",
    ")\n",
    "\n",
    "axs[1].scatter(\n",
    "    tokenized_dt_without_stopwords[\"gs_normalized\"],\n",
    "    tokenized_dt_without_stopwords[\"jaccard\"],\n",
    ")\n",
    "axs[1].set_xlabel(\"Gold Standard (normal)\")\n",
    "axs[1].set_ylabel(\"Jaccard Distance\")\n",
    "axs[1].set_title(\"Jaccard Distance vs. Gold Standard (normalized)\")\n",
    "axs[1].text(\n",
    "    0.1,\n",
    "    0.1,\n",
    "    f\"Pearsonr: {pearsonr_normalized_gs_jaccard[0]:.4f}\",\n",
    "    transform=axs[1].transAxes,\n",
    "    ha=\"left\",\n",
    "    va=\"center\",\n",
    ")\n",
    "fig.suptitle(\"Jaccard Distance vs. Gold Standard, without stopwords\", fontsize=16)\n",
    "\n",
    "plt.show()\n",
    "\n",
    "print(f\"Pearsonr: {pearsonr_gs_jaccard[0]}, pvalue: {pearsonr_gs_jaccard[1]}\")\n",
    "print(\n",
    "    f\"Pearsonr normalized: {pearsonr_normalized_gs_jaccard[0]}, pvalue normalized: {pearsonr_normalized_gs_jaccard[1]}\"\n",
    ")"
   ]
  },
  {
   "cell_type": "markdown",
   "metadata": {},
   "source": [
    "# Conclusions\n",
    "\n",
    "- We chose to use NLTK's word tokenizer because the API was straightforward and easy to use. We also experimented with Spacy's tokenizer, but found the API to be more complex and less intuitive.\n",
    "- The Pearson correlation coefficient of `-0.4505` suggests that the gold standard and jaccard distance have a tendency to show a moderate negative linear relationship (as depicted in the plots).\n",
    "- Normalizing the gold standard scores did not have any affect in the Jaccard distance's correlation with the Gold Standard. It was still `-0.4505`.\n",
    "- Removing stopwords resulted in a Pearson correlation of `-0.4247` with the Gold Standard which suggests that it slightly weakened the negative linear relationship between the gold standard and jaccard distance.\n",
    "\n"
   ]
  }
 ],
 "metadata": {
  "colab": {
   "provenance": []
  },
  "kernelspec": {
   "display_name": "Python 3 (ipykernel)",
   "language": "python",
   "name": "python3"
  },
  "language_info": {
   "codemirror_mode": {
    "name": "ipython",
    "version": 3
   },
   "file_extension": ".py",
   "mimetype": "text/x-python",
   "name": "python",
   "nbconvert_exporter": "python",
   "pygments_lexer": "ipython3",
   "version": "3.9.5"
  }
 },
 "nbformat": 4,
 "nbformat_minor": 4
}
