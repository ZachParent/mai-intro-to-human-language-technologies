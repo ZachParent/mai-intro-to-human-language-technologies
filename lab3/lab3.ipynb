{
 "cells": [
  {
   "cell_type": "markdown",
   "metadata": {},
   "source": [
    "# IHLT Lab 3: Morphology\n",
    "\n",
    "**Authors:** *Zachary Parent ([zachary.parent](mailto:zachary.parent@estudiantat.upc.edu)), Carlos Jiménez ([carlos.humberto.jimenez](mailto:carlos.humberto.jimenez@estudiantat.upc.edu))*\n",
    "\n",
    "### 2024-10-03\n",
    "\n",
    "**Instructions:**\n",
    "\n",
    "1. Read all pairs of sentences of the *SMTeuroparl* files of test set within the evaluation framework of the project.\n",
    "2. Compute their similarities by considering lemmas and Jaccard distance.\n",
    "3. Compare the results with those in session 2 (*document structure*) in which words were considered.\n",
    "4. Compare the results with gold standard by giving the pearson correlation between them.\n",
    "5. Questions (justify the answers):\n",
    "\n",
    "    - Which is better: words or lemmas?\n",
    "    - Do you think that could perform better for any pair of texts?\n",
    "\n",
    "\n",
    "## Notes\n",
    "- we should compare with previous results\n",
    "- we should expect better results with lemmas\n",
    "- we may find counter examples in which words are better than lemmas\n"
   ]
  },
  {
   "cell_type": "code",
   "execution_count": 2,
   "metadata": {},
   "outputs": [],
   "source": [
    "import numpy as np\n",
    "import pandas as pd\n",
    "import matplotlib.pyplot as plt\n",
    "from scipy.stats import pearsonr\n",
    "import nltk\n",
    "from nltk.metrics.distance import jaccard_distance"
   ]
  },
  {
   "cell_type": "code",
   "execution_count": 29,
   "metadata": {},
   "outputs": [
    {
     "name": "stderr",
     "output_type": "stream",
     "text": [
      "[nltk_data] Downloading package averaged_perceptron_tagger_eng to\n",
      "[nltk_data]     /home/carlos.jimenez/nltk_data...\n",
      "[nltk_data]   Package averaged_perceptron_tagger_eng is already up-to-\n",
      "[nltk_data]       date!\n",
      "[nltk_data] Downloading package averaged_perceptron_tagger to\n",
      "[nltk_data]     /home/carlos.jimenez/nltk_data...\n",
      "[nltk_data]   Package averaged_perceptron_tagger is already up-to-\n",
      "[nltk_data]       date!\n",
      "[nltk_data] Downloading package wordnet to\n",
      "[nltk_data]     /home/carlos.jimenez/nltk_data...\n",
      "[nltk_data]   Package wordnet is already up-to-date!\n",
      "[nltk_data] Downloading package omw-1.4 to\n",
      "[nltk_data]     /home/carlos.jimenez/nltk_data...\n",
      "[nltk_data]   Package omw-1.4 is already up-to-date!\n",
      "[nltk_data] Downloading package punkt to\n",
      "[nltk_data]     /home/carlos.jimenez/nltk_data...\n",
      "[nltk_data]   Package punkt is already up-to-date!\n",
      "[nltk_data] Downloading package stopwords to\n",
      "[nltk_data]     /home/carlos.jimenez/nltk_data...\n",
      "[nltk_data]   Unzipping corpora/stopwords.zip.\n"
     ]
    },
    {
     "data": {
      "text/plain": [
       "True"
      ]
     },
     "execution_count": 29,
     "metadata": {},
     "output_type": "execute_result"
    }
   ],
   "source": [
    "nltk.download('averaged_perceptron_tagger_eng')\n",
    "nltk.download('averaged_perceptron_tagger')\n",
    "nltk.download('wordnet')\n",
    "nltk.download('omw-1.4')\n",
    "nltk.download('punkt')\n",
    "nltk.download('stopwords')"
   ]
  },
  {
   "cell_type": "code",
   "execution_count": 15,
   "metadata": {},
   "outputs": [],
   "source": [
    "# Read data from Google Drive\n",
    "\n",
    "# from google.colab import drive\n",
    "# drive.mount('/content/drive', force_remount=True)\n",
    "\n",
    "# BASE_PATH = '/content/drive/MyDrive/MASTER AI'"
   ]
  },
  {
   "cell_type": "code",
   "execution_count": 30,
   "metadata": {},
   "outputs": [],
   "source": [
    "# Read data from local file system\n",
    "\n",
    "BASE_PATH = '.'"
   ]
  },
  {
   "cell_type": "code",
   "execution_count": 31,
   "metadata": {},
   "outputs": [],
   "source": [
    "assert BASE_PATH is not None, \"BASE_PATH is not set\"\n"
   ]
  },
  {
   "cell_type": "markdown",
   "metadata": {},
   "source": [
    "## Load the data"
   ]
  },
  {
   "cell_type": "code",
   "execution_count": 61,
   "metadata": {},
   "outputs": [
    {
     "data": {
      "text/html": [
       "<div>\n",
       "<style scoped>\n",
       "    .dataframe tbody tr th:only-of-type {\n",
       "        vertical-align: middle;\n",
       "    }\n",
       "\n",
       "    .dataframe tbody tr th {\n",
       "        vertical-align: top;\n",
       "    }\n",
       "\n",
       "    .dataframe thead th {\n",
       "        text-align: right;\n",
       "    }\n",
       "</style>\n",
       "<table border=\"1\" class=\"dataframe\">\n",
       "  <thead>\n",
       "    <tr style=\"text-align: right;\">\n",
       "      <th></th>\n",
       "      <th>s1</th>\n",
       "      <th>s2</th>\n",
       "      <th>gs</th>\n",
       "    </tr>\n",
       "  </thead>\n",
       "  <tbody>\n",
       "    <tr>\n",
       "      <th>0</th>\n",
       "      <td>The leaders have now been given a new chance a...</td>\n",
       "      <td>The leaders benefit aujourd' hui of a new luck...</td>\n",
       "      <td>4.50</td>\n",
       "    </tr>\n",
       "    <tr>\n",
       "      <th>1</th>\n",
       "      <td>Amendment No 7 proposes certain changes in the...</td>\n",
       "      <td>Amendment No 7 is proposing certain changes in...</td>\n",
       "      <td>5.00</td>\n",
       "    </tr>\n",
       "    <tr>\n",
       "      <th>2</th>\n",
       "      <td>Let me remind you that our allies include ferv...</td>\n",
       "      <td>I would like to remind you that among our alli...</td>\n",
       "      <td>4.25</td>\n",
       "    </tr>\n",
       "    <tr>\n",
       "      <th>3</th>\n",
       "      <td>The vote will take place today at 5.30 p.m.</td>\n",
       "      <td>The vote will take place at 5.30pm</td>\n",
       "      <td>4.50</td>\n",
       "    </tr>\n",
       "    <tr>\n",
       "      <th>4</th>\n",
       "      <td>The fishermen are inactive, tired and disappoi...</td>\n",
       "      <td>The fishermen are inactive, tired and disappoi...</td>\n",
       "      <td>5.00</td>\n",
       "    </tr>\n",
       "  </tbody>\n",
       "</table>\n",
       "</div>"
      ],
      "text/plain": [
       "                                                  s1  \\\n",
       "0  The leaders have now been given a new chance a...   \n",
       "1  Amendment No 7 proposes certain changes in the...   \n",
       "2  Let me remind you that our allies include ferv...   \n",
       "3        The vote will take place today at 5.30 p.m.   \n",
       "4  The fishermen are inactive, tired and disappoi...   \n",
       "\n",
       "                                                  s2    gs  \n",
       "0  The leaders benefit aujourd' hui of a new luck...  4.50  \n",
       "1  Amendment No 7 is proposing certain changes in...  5.00  \n",
       "2  I would like to remind you that among our alli...  4.25  \n",
       "3                 The vote will take place at 5.30pm  4.50  \n",
       "4  The fishermen are inactive, tired and disappoi...  5.00  "
      ]
     },
     "execution_count": 61,
     "metadata": {},
     "output_type": "execute_result"
    }
   ],
   "source": [
    "dt = pd.read_csv(\n",
    "    f\"{BASE_PATH}/test-gold/STS.input.SMTeuroparl.txt\", sep=\"\\t\", header=None\n",
    ")\n",
    "dt.columns = [\"s1\", \"s2\"]\n",
    "gs = pd.read_csv(\n",
    "    f\"{BASE_PATH}/test-gold/STS.gs.SMTeuroparl.txt\", sep=\"\\t\", header=None\n",
    ")\n",
    "dt[\"gs\"] = gs[0]\n",
    "dt.head()"
   ]
  },
  {
   "cell_type": "markdown",
   "metadata": {},
   "source": [
    "## Lemmatizer & Helper methods"
   ]
  },
  {
   "cell_type": "code",
   "execution_count": 62,
   "metadata": {},
   "outputs": [],
   "source": [
    "# Lemmatization methods\n",
    "wnl = nltk.stem.WordNetLemmatizer()\n",
    "def lemmatize_one(word):\n",
    "    x, pos = nltk.pos_tag([word])[0]\n",
    "    d = {'NN': 'n', 'NNS': 'n', \n",
    "       'JJ': 'a', 'JJR': 'a', 'JJS': 'a', \n",
    "       'VB': 'v', 'VBD': 'v', 'VBG': 'v', 'VBN': 'v', 'VBP': 'v', 'VBZ': 'v', \n",
    "       'RB': 'r', 'RBR': 'r', 'RBS': 'r'}\n",
    "    if pos in d:\n",
    "        return wnl.lemmatize(word, pos=d[pos])\n",
    "    return x\n",
    "\n",
    "def lemmatize_many(words):\n",
    "    return [lemmatize_one(word) for word in words]"
   ]
  },
  {
   "cell_type": "code",
   "execution_count": 63,
   "metadata": {},
   "outputs": [],
   "source": [
    "# Token pre-processing methods\n",
    "def remove_non_alnum(tokens):\n",
    "    return [token for token in tokens if token.isalnum()]\n",
    "\n",
    "def lower(tokens):\n",
    "    return [token.lower() for token in tokens]\n",
    "\n",
    "def remove_stopwords(tokens):\n",
    "    return [token for token in tokens if token not in nltk.corpus.stopwords.words(\"english\")]"
   ]
  },
  {
   "cell_type": "code",
   "execution_count": 64,
   "metadata": {},
   "outputs": [],
   "source": [
    "# Scoring methods\n",
    "def jaccard_vector(s1, s2):\n",
    "    return pd.concat([s1, s2], axis=1).apply(lambda x: jaccard_distance(set(x.iloc[0]), set(x.iloc[1])), axis=1)\n",
    "\n",
    "def score_jaccard_vector(jaccard_vector):\n",
    "    return pearsonr(gs[0], jaccard_vector)[0]"
   ]
  },
  {
   "cell_type": "markdown",
   "metadata": {},
   "source": [
    "## Compute jaccard distance for different preprocessing approaches and compare"
   ]
  },
  {
   "cell_type": "code",
   "execution_count": 80,
   "metadata": {},
   "outputs": [
    {
     "name": "stdout",
     "output_type": "stream",
     "text": [
      "\u001b[1mJaccard Distance Correlation with Gold Standard after Each Preprocessing Step:\u001b[0m\n",
      "\n",
      "       tokenize     lower  remove_non_alnum  lemmatize\n",
      "score -0.450498 -0.462495         -0.490289  -0.495849\n"
     ]
    }
   ],
   "source": [
    "results = pd.DataFrame(index=['score'])\n",
    "\n",
    "# Tokenize\n",
    "s1_tokens = dt['s1'].apply(nltk.word_tokenize)\n",
    "s2_tokens = dt['s2'].apply(nltk.word_tokenize)\n",
    "results['tokenize'] = score_jaccard_vector(jaccard_vector(s1_tokens, s2_tokens))\n",
    "\n",
    "dt[\"jaccard\"] = jaccard_vector(s1_tokens, s2_tokens)\n",
    "\n",
    "# Lower\n",
    "s1_lower = s1_tokens.apply(lower)\n",
    "s2_lower = s2_tokens.apply(lower)\n",
    "results['lower'] = score_jaccard_vector(jaccard_vector(s1_lower, s2_lower))\n",
    "\n",
    "# Remove non-alphanumeric\n",
    "s1_alnum = s1_lower.apply(remove_non_alnum)\n",
    "s2_alnum = s2_lower.apply(remove_non_alnum)\n",
    "results['remove_non_alnum'] = score_jaccard_vector(jaccard_vector(s1_alnum, s2_alnum))\n",
    "\n",
    "# Lemmatize\n",
    "s1_lemmas = s1_alnum.apply(lemmatize_many)\n",
    "s2_lemmas = s2_alnum.apply(lemmatize_many)\n",
    "results['lemmatize'] = score_jaccard_vector(jaccard_vector(s1_lemmas, s2_lemmas))\n",
    "\n",
    "dt[\"jaccard_lemmatized\"] = jaccard_vector(s1_lemmas, s2_lemmas)\n",
    "dt[\"gs\"] = gs[0]\n",
    "\n",
    "print(\"\\033[1mJaccard Distance Correlation with Gold Standard after Each Preprocessing Step:\\033[0m\")\n",
    "print()\n",
    "print(results)\n"
   ]
  },
  {
   "cell_type": "markdown",
   "metadata": {},
   "source": [
    "## Compute jaccard distance removing stopwords (lab2 camparison criterion)"
   ]
  },
  {
   "cell_type": "code",
   "execution_count": 81,
   "metadata": {},
   "outputs": [
    {
     "name": "stdout",
     "output_type": "stream",
     "text": [
      "\u001b[1mJaccard Distance Correlation with Gold Standard removing stop words:\u001b[0m\n",
      "\n",
      "       tokenize  remove_stopwords     lower  remove_non_alnum  lemmatize\n",
      "score -0.450498         -0.424682 -0.432894         -0.465416  -0.489301\n"
     ]
    }
   ],
   "source": [
    "results_no_stopwords = pd.DataFrame(index=['score'])\n",
    "\n",
    "# Tokenize\n",
    "s1_tokens = dt['s1'].apply(nltk.word_tokenize)\n",
    "s2_tokens = dt['s2'].apply(nltk.word_tokenize)\n",
    "results_no_stopwords['tokenize'] = score_jaccard_vector(jaccard_vector(s1_tokens, s2_tokens))\n",
    "\n",
    "# Remove stopwords\n",
    "s1_no_stopwords = s1_tokens.apply(remove_stopwords)\n",
    "s2_no_stopwords = s2_tokens.apply(remove_stopwords)\n",
    "results_no_stopwords['remove_stopwords'] = score_jaccard_vector(jaccard_vector(s1_no_stopwords, s2_no_stopwords))\n",
    "\n",
    "dt[\"jaccard_no_stopwords\"] = jaccard_vector(s1_no_stopwords, s2_no_stopwords)\n",
    "\n",
    "# Lower\n",
    "s1_lower_no_stopwords = s1_no_stopwords.apply(lower)\n",
    "s2_lower_no_stopwords = s2_no_stopwords.apply(lower)\n",
    "results_no_stopwords['lower'] = score_jaccard_vector(jaccard_vector(s1_lower_no_stopwords, s2_lower_no_stopwords))\n",
    "\n",
    "# Remove non-alphanumeric\n",
    "s1_alnum_no_stopwords = s1_lower_no_stopwords.apply(remove_non_alnum)\n",
    "s2_alnum_no_stopwords = s2_lower_no_stopwords.apply(remove_non_alnum)\n",
    "results_no_stopwords['remove_non_alnum'] = score_jaccard_vector(jaccard_vector(s1_alnum_no_stopwords, s2_alnum_no_stopwords))\n",
    "\n",
    "# Lemmatize\n",
    "s1_lemmas_no_stopwords = s1_alnum_no_stopwords.apply(lemmatize_many)\n",
    "s2_lemmas_no_stopwords = s2_alnum_no_stopwords.apply(lemmatize_many)\n",
    "results_no_stopwords['lemmatize'] = score_jaccard_vector(jaccard_vector(s1_lemmas_no_stopwords, s2_lemmas_no_stopwords))\n",
    "\n",
    "dt[\"jaccard_lemmatized_no_stopwords\"] = jaccard_vector(s1_lemmas_no_stopwords, s2_lemmas_no_stopwords)\n",
    "# dt[\"gs\"] = gs[0]\n",
    "\n",
    "print(\"\\033[1mJaccard Distance Correlation with Gold Standard removing stop words:\\033[0m\")\n",
    "print()\n",
    "print(results_no_stopwords)"
   ]
  },
  {
   "cell_type": "markdown",
   "metadata": {},
   "source": [
    "## Visualizations of the jaccard distance correlation scores for each preprocessing step"
   ]
  },
  {
   "cell_type": "code",
   "execution_count": 76,
   "metadata": {},
   "outputs": [
    {
     "data": {
      "text/plain": [
       "<Figure size 720x432 with 0 Axes>"
      ]
     },
     "metadata": {},
     "output_type": "display_data"
    },
    {
     "data": {
      "image/png": "[encoded data removed]",
      "text/plain": [
       "<Figure size 432x288 with 1 Axes>"
      ]
     },
     "metadata": {
      "needs_background": "light"
     },
     "output_type": "display_data"
    }
   ],
   "source": [
    "# Plot bar chart\n",
    "plt.figure(figsize=(10, 6))\n",
    "results.T.plot(kind='bar', color=['purple'])\n",
    "plt.title('Jaccard Distance Scores after Each Preprocessing Step')\n",
    "plt.xlabel('Preprocessing Step')\n",
    "plt.ylabel('Pearson correlation with Gold Standard')\n",
    "plt.xticks(rotation=45)\n",
    "plt.tight_layout()\n",
    "\n",
    "# Annotate bar chart values\n",
    "for i, v in enumerate(results.values[0]):\n",
    "    plt.text(i, v, f'{v:.3f}', ha='center', va='bottom', color='black')\n",
    "plt.show()"
   ]
  },
  {
   "cell_type": "code",
   "execution_count": 77,
   "metadata": {},
   "outputs": [
    {
     "data": {
      "text/plain": [
       "<Figure size 720x432 with 0 Axes>"
      ]
     },
     "metadata": {},
     "output_type": "display_data"
    },
    {
     "data": {
      "image/png": "[encoded data removed]",
      "text/plain": [
       "<Figure size 432x288 with 1 Axes>"
      ]
     },
     "metadata": {
      "needs_background": "light"
     },
     "output_type": "display_data"
    }
   ],
   "source": [
    "# Plot bar chart\n",
    "plt.figure(figsize=(10, 6))\n",
    "results_no_stopwords.T.plot(kind='bar', color=['purple'])\n",
    "plt.title('Jaccard Distance Scores removing stop words')\n",
    "plt.xlabel('Preprocessing Step')\n",
    "plt.ylabel('Pearson correlation with Gold Standard')\n",
    "plt.xticks(rotation=45)\n",
    "plt.tight_layout()\n",
    "\n",
    "# Annotate bar chart values\n",
    "for i, v in enumerate(results_no_stopwords.values[0]):\n",
    "    plt.text(i, v, f'{v:.3f}', ha='center', va='bottom', color='black')\n",
    "plt.show()"
   ]
  },
  {
   "cell_type": "markdown",
   "metadata": {},
   "source": [
    "## Visualizations of the correlation between scores (jaccard vs GS) using lemmatization"
   ]
  },
  {
   "cell_type": "code",
   "execution_count": 69,
   "metadata": {},
   "outputs": [
    {
     "data": {
      "image/png": "[encoded data removed]",
      "text/plain": [
       "<Figure size 432x360 with 1 Axes>"
      ]
     },
     "metadata": {
      "needs_background": "light"
     },
     "output_type": "display_data"
    }
   ],
   "source": [
    "fig = plt.figure(figsize=(6, 5))\n",
    "ax = plt.axes()\n",
    "\n",
    "plt.scatter(dt[\"gs\"], dt[\"jaccard\"], color='purple')\n",
    "plt.xlabel(\"Gold Standard\")\n",
    "plt.ylabel(\"Jaccard Distance\")\n",
    "plt.title(\"Jaccard Distance vs. Gold Standard\")\n",
    "plt.text(\n",
    "    0.1,\n",
    "    0.1,\n",
    "    f\"Pearsonr gs vs jaccard: {results['lemmatize'].iloc[0]:.4f}\",\n",
    "    transform=ax.transAxes,\n",
    "    ha=\"left\",\n",
    "    va=\"center\",\n",
    ")\n",
    "plt.show()"
   ]
  },
  {
   "cell_type": "code",
   "execution_count": 73,
   "metadata": {},
   "outputs": [
    {
     "data": {
      "image/png": "[encoded data removed]",
      "text/plain": [
       "<Figure size 432x360 with 1 Axes>"
      ]
     },
     "metadata": {
      "needs_background": "light"
     },
     "output_type": "display_data"
    }
   ],
   "source": [
    "fig = plt.figure(figsize=(6, 5))\n",
    "ax = plt.axes()\n",
    "\n",
    "plt.scatter(dt[\"gs\"], dt[\"jaccard_no_stopwords\"], color='purple')\n",
    "plt.xlabel(\"Gold Standard\")\n",
    "plt.ylabel(\"Jaccard Distance\")\n",
    "plt.title(\"Jaccard Distance vs. Gold Standard (removing stopwords)\")\n",
    "plt.text(\n",
    "    0.1,\n",
    "    0.1,\n",
    "    f\"Pearsonr gs vs jaccard: {results_no_stopwords['lemmatize'].iloc[0]:.4f}\",\n",
    "    transform=ax.transAxes,\n",
    "    ha=\"left\",\n",
    "    va=\"center\",\n",
    ")\n",
    "plt.show()"
   ]
  },
  {
   "cell_type": "markdown",
   "metadata": {},
   "source": [
    "# Conclusions"
   ]
  },
  {
   "cell_type": "markdown",
   "metadata": {},
   "source": [
    "## Which is better: words or lemmas?\n",
    "\n",
    "#### In this lab we dived into a new approach for computing simmilarities/distance between sentences using ***lemmatization***.\n",
    "\n",
    "#### We performed a series of preprocessing steps in order to compare the similaries. The results showed that using lemmatization (in average) improved the jaccard distance correlation between the sentences, not only that, we discovered that each of the selected preprocessing steps (*i.e.*, lowercase, remove non alphanumeric values) also helped to improve the scores as shown in the following table.\n",
    "\n",
    "|  | tokenize | lower | remove_non_alnum | lemmatize |\n",
    "| ----------- | ----------- | ----------- | ----------- | ----------- |\n",
    "| **regular** | -0.450498 | -0.462495 | -0.490289 | -0.495849 |\n",
    "| **removing stopwords** | -0.424682 | -0.432894 | -0.465416 | -0.489301 |\n",
    "\n",
    "#### Notably, the present work supports the findings from Lab 2 regarding the removal of stopwords, showing that this step does not improve the Jaccard distance correlation of the sentences, even when lemmatization is used."
   ]
  },
  {
   "cell_type": "markdown",
   "metadata": {},
   "source": [
    "## Do you think that lemmas could perform better for any pair of texts?\n",
    "\n",
    "#### - We cannot assume that lemmas will always perform better for every single text, we have to take into consideration several aspects, including the language, length of the text, format, etc.\n",
    "\n",
    "#### - For instance, within our lab corpus (*SMTeuroparl*), we can point out some examples in our dataframe, as follows:\n"
   ]
  },
  {
   "cell_type": "code",
   "execution_count": 92,
   "metadata": {},
   "outputs": [
    {
     "data": {
      "text/html": [
       "<div>\n",
       "<style scoped>\n",
       "    .dataframe tbody tr th:only-of-type {\n",
       "        vertical-align: middle;\n",
       "    }\n",
       "\n",
       "    .dataframe tbody tr th {\n",
       "        vertical-align: top;\n",
       "    }\n",
       "\n",
       "    .dataframe thead th {\n",
       "        text-align: right;\n",
       "    }\n",
       "</style>\n",
       "<table border=\"1\" class=\"dataframe\">\n",
       "  <thead>\n",
       "    <tr style=\"text-align: right;\">\n",
       "      <th></th>\n",
       "      <th>s1</th>\n",
       "      <th>s2</th>\n",
       "      <th>gs</th>\n",
       "      <th>jaccard</th>\n",
       "      <th>jaccard_no_stopwords</th>\n",
       "      <th>jaccard_lemmatized</th>\n",
       "      <th>jaccard_lemmatized_no_stopwords</th>\n",
       "    </tr>\n",
       "  </thead>\n",
       "  <tbody>\n",
       "    <tr>\n",
       "      <th>0</th>\n",
       "      <td>The leaders have now been given a new chance a...</td>\n",
       "      <td>The leaders benefit aujourd' hui of a new luck...</td>\n",
       "      <td>4.50</td>\n",
       "      <td>0.653846</td>\n",
       "      <td>0.647059</td>\n",
       "      <td>0.652174</td>\n",
       "      <td>0.642857</td>\n",
       "    </tr>\n",
       "    <tr>\n",
       "      <th>1</th>\n",
       "      <td>Amendment No 7 proposes certain changes in the...</td>\n",
       "      <td>Amendment No 7 is proposing certain changes in...</td>\n",
       "      <td>5.00</td>\n",
       "      <td>0.214286</td>\n",
       "      <td>0.200000</td>\n",
       "      <td>0.230769</td>\n",
       "      <td>0.222222</td>\n",
       "    </tr>\n",
       "    <tr>\n",
       "      <th>2</th>\n",
       "      <td>Let me remind you that our allies include ferv...</td>\n",
       "      <td>I would like to remind you that among our alli...</td>\n",
       "      <td>4.25</td>\n",
       "      <td>0.608696</td>\n",
       "      <td>0.714286</td>\n",
       "      <td>0.619048</td>\n",
       "      <td>0.750000</td>\n",
       "    </tr>\n",
       "    <tr>\n",
       "      <th>3</th>\n",
       "      <td>The vote will take place today at 5.30 p.m.</td>\n",
       "      <td>The vote will take place at 5.30pm</td>\n",
       "      <td>4.50</td>\n",
       "      <td>0.454545</td>\n",
       "      <td>0.555556</td>\n",
       "      <td>0.142857</td>\n",
       "      <td>0.200000</td>\n",
       "    </tr>\n",
       "    <tr>\n",
       "      <th>4</th>\n",
       "      <td>The fishermen are inactive, tired and disappoi...</td>\n",
       "      <td>The fishermen are inactive, tired and disappoi...</td>\n",
       "      <td>5.00</td>\n",
       "      <td>0.000000</td>\n",
       "      <td>0.000000</td>\n",
       "      <td>0.000000</td>\n",
       "      <td>0.000000</td>\n",
       "    </tr>\n",
       "  </tbody>\n",
       "</table>\n",
       "</div>"
      ],
      "text/plain": [
       "                                                  s1  \\\n",
       "0  The leaders have now been given a new chance a...   \n",
       "1  Amendment No 7 proposes certain changes in the...   \n",
       "2  Let me remind you that our allies include ferv...   \n",
       "3        The vote will take place today at 5.30 p.m.   \n",
       "4  The fishermen are inactive, tired and disappoi...   \n",
       "\n",
       "                                                  s2    gs   jaccard  \\\n",
       "0  The leaders benefit aujourd' hui of a new luck...  4.50  0.653846   \n",
       "1  Amendment No 7 is proposing certain changes in...  5.00  0.214286   \n",
       "2  I would like to remind you that among our alli...  4.25  0.608696   \n",
       "3                 The vote will take place at 5.30pm  4.50  0.454545   \n",
       "4  The fishermen are inactive, tired and disappoi...  5.00  0.000000   \n",
       "\n",
       "   jaccard_no_stopwords  jaccard_lemmatized  jaccard_lemmatized_no_stopwords  \n",
       "0              0.647059            0.652174                         0.642857  \n",
       "1              0.200000            0.230769                         0.222222  \n",
       "2              0.714286            0.619048                         0.750000  \n",
       "3              0.555556            0.142857                         0.200000  \n",
       "4              0.000000            0.000000                         0.000000  "
      ]
     },
     "execution_count": 92,
     "metadata": {},
     "output_type": "execute_result"
    }
   ],
   "source": [
    "dt.head()"
   ]
  },
  {
   "cell_type": "code",
   "execution_count": 99,
   "metadata": {},
   "outputs": [
    {
     "data": {
      "text/plain": [
       "['The leaders have now been given a new chance and let us hope they seize it.',\n",
       " \"The leaders benefit aujourd' hui of a new luck and let's let them therefore seize it.\"]"
      ]
     },
     "execution_count": 99,
     "metadata": {},
     "output_type": "execute_result"
    }
   ],
   "source": [
    "list(dt.iloc[0,:][['s1','s2']])"
   ]
  },
  {
   "cell_type": "code",
   "execution_count": 100,
   "metadata": {},
   "outputs": [
    {
     "data": {
      "text/plain": [
       "['The vote will take place today at 5.30 p.m.',\n",
       " 'The vote will take place at 5.30pm']"
      ]
     },
     "execution_count": 100,
     "metadata": {},
     "output_type": "execute_result"
    }
   ],
   "source": [
    "list(dt.iloc[3,:][['s1','s2']])"
   ]
  },
  {
   "cell_type": "markdown",
   "metadata": {},
   "source": [
    "#### Rows 0 and 3 are examples of regular tokenization performing better than lemmatization for computing similarities. In these cases the cause may be mixing languages (*i.e.*, english and french) or using different formats (*i.e.*, 5.30p.m. & 5.30pm)"
   ]
  }
 ],
 "metadata": {
  "kernelspec": {
   "display_name": "Python 3 (ipykernel)",
   "language": "python",
   "name": "python3"
  },
  "language_info": {
   "codemirror_mode": {
    "name": "ipython",
    "version": 3
   },
   "file_extension": ".py",
   "mimetype": "text/x-python",
   "name": "python",
   "nbconvert_exporter": "python",
   "pygments_lexer": "ipython3",
   "version": "3.8.10"
  }
 },
 "nbformat": 4,
 "nbformat_minor": 4
}
