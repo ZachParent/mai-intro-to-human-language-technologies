{
 "cells": [
  {
   "cell_type": "markdown",
   "metadata": {},
   "source": [
    "# IHLT Lab 3: Morphology\n",
    "\n",
    "**Authors:** *Zachary Parent ([zachary.parent](mailto:zachary.parent@estudiantat.upc.edu)), Carlos Jiménez ([carlos.humberto.jimenez](mailto:carlos.humberto.jimenez@estudiantat.upc.edu))*\n",
    "\n",
    "### 2024-10-03\n",
    "\n",
    "**Instructions:**\n",
    "\n",
    "1. Read all pairs of sentences of the *SMTeuroparl* files of test set within the evaluation framework of the project.\n",
    "2. Compute their similarities by considering lemmas and Jaccard distance.\n",
    "3. Compare the results with those in session 2 (*document structure*) in which words were considered.\n",
    "4. Compare the results with gold standard by giving the pearson correlation between them.\n",
    "5. Questions (justify the answers):\n",
    "\n",
    "    - Which is better: words or lemmas?\n",
    "    - Do you think that could perform better for any pair of texts?\n",
    "\n",
    "\n",
    "## Notes\n",
    "- we should compare with previous results\n",
    "- we should expect better results with lemmas\n",
    "- we may find counter examples in which words are better than lemmas\n"
   ]
  },
  {
   "cell_type": "code",
   "execution_count": 1,
   "metadata": {},
   "outputs": [],
   "source": [
    "import numpy as np\n",
    "import pandas as pd\n",
    "import matplotlib.pyplot as plt\n",
    "from scipy.stats import pearsonr\n",
    "import nltk\n",
    "from nltk.metrics.distance import jaccard_distance"
   ]
  },
  {
   "cell_type": "code",
   "execution_count": 2,
   "metadata": {},
   "outputs": [
    {
     "name": "stderr",
     "output_type": "stream",
     "text": [
      "[nltk_data] Downloading package averaged_perceptron_tagger_eng to\n",
      "[nltk_data]     /Users/zachparent/nltk_data...\n",
      "[nltk_data]   Package averaged_perceptron_tagger_eng is already up-to-\n",
      "[nltk_data]       date!\n",
      "[nltk_data] Downloading package wordnet to\n",
      "[nltk_data]     /Users/zachparent/nltk_data...\n",
      "[nltk_data]   Package wordnet is already up-to-date!\n",
      "[nltk_data] Downloading package omw-1.4 to\n",
      "[nltk_data]     /Users/zachparent/nltk_data...\n",
      "[nltk_data]   Package omw-1.4 is already up-to-date!\n"
     ]
    },
    {
     "data": {
      "text/plain": [
       "True"
      ]
     },
     "execution_count": 2,
     "metadata": {},
     "output_type": "execute_result"
    }
   ],
   "source": [
    "nltk.download('averaged_perceptron_tagger_eng')\n",
    "nltk.download('wordnet')\n",
    "nltk.download('omw-1.4')"
   ]
  },
  {
   "cell_type": "code",
   "execution_count": 3,
   "metadata": {},
   "outputs": [],
   "source": [
    "# Read data from Google Drive\n",
    "\n",
    "# from google.colab import drive\n",
    "# drive.mount('/content/drive', force_remount=True)\n",
    "\n",
    "# BASE_PATH = '/content/drive/MyDrive/MASTER AI'"
   ]
  },
  {
   "cell_type": "code",
   "execution_count": 4,
   "metadata": {},
   "outputs": [],
   "source": [
    "# Read data from local file system\n",
    "\n",
    "BASE_PATH = '.'"
   ]
  },
  {
   "cell_type": "code",
   "execution_count": 5,
   "metadata": {},
   "outputs": [],
   "source": [
    "assert BASE_PATH is not None, \"BASE_PATH is not set\"\n"
   ]
  },
  {
   "cell_type": "code",
   "execution_count": 6,
   "metadata": {},
   "outputs": [
    {
     "data": {
      "text/html": [
       "<div>\n",
       "<style scoped>\n",
       "    .dataframe tbody tr th:only-of-type {\n",
       "        vertical-align: middle;\n",
       "    }\n",
       "\n",
       "    .dataframe tbody tr th {\n",
       "        vertical-align: top;\n",
       "    }\n",
       "\n",
       "    .dataframe thead th {\n",
       "        text-align: right;\n",
       "    }\n",
       "</style>\n",
       "<table border=\"1\" class=\"dataframe\">\n",
       "  <thead>\n",
       "    <tr style=\"text-align: right;\">\n",
       "      <th></th>\n",
       "      <th>s1</th>\n",
       "      <th>s2</th>\n",
       "      <th>gs</th>\n",
       "    </tr>\n",
       "  </thead>\n",
       "  <tbody>\n",
       "    <tr>\n",
       "      <th>0</th>\n",
       "      <td>The leaders have now been given a new chance a...</td>\n",
       "      <td>The leaders benefit aujourd' hui of a new luck...</td>\n",
       "      <td>4.50</td>\n",
       "    </tr>\n",
       "    <tr>\n",
       "      <th>1</th>\n",
       "      <td>Amendment No 7 proposes certain changes in the...</td>\n",
       "      <td>Amendment No 7 is proposing certain changes in...</td>\n",
       "      <td>5.00</td>\n",
       "    </tr>\n",
       "    <tr>\n",
       "      <th>2</th>\n",
       "      <td>Let me remind you that our allies include ferv...</td>\n",
       "      <td>I would like to remind you that among our alli...</td>\n",
       "      <td>4.25</td>\n",
       "    </tr>\n",
       "    <tr>\n",
       "      <th>3</th>\n",
       "      <td>The vote will take place today at 5.30 p.m.</td>\n",
       "      <td>The vote will take place at 5.30pm</td>\n",
       "      <td>4.50</td>\n",
       "    </tr>\n",
       "    <tr>\n",
       "      <th>4</th>\n",
       "      <td>The fishermen are inactive, tired and disappoi...</td>\n",
       "      <td>The fishermen are inactive, tired and disappoi...</td>\n",
       "      <td>5.00</td>\n",
       "    </tr>\n",
       "  </tbody>\n",
       "</table>\n",
       "</div>"
      ],
      "text/plain": [
       "                                                  s1  \\\n",
       "0  The leaders have now been given a new chance a...   \n",
       "1  Amendment No 7 proposes certain changes in the...   \n",
       "2  Let me remind you that our allies include ferv...   \n",
       "3        The vote will take place today at 5.30 p.m.   \n",
       "4  The fishermen are inactive, tired and disappoi...   \n",
       "\n",
       "                                                  s2    gs  \n",
       "0  The leaders benefit aujourd' hui of a new luck...  4.50  \n",
       "1  Amendment No 7 is proposing certain changes in...  5.00  \n",
       "2  I would like to remind you that among our alli...  4.25  \n",
       "3                 The vote will take place at 5.30pm  4.50  \n",
       "4  The fishermen are inactive, tired and disappoi...  5.00  "
      ]
     },
     "execution_count": 6,
     "metadata": {},
     "output_type": "execute_result"
    }
   ],
   "source": [
    "dt = pd.read_csv(\n",
    "    f\"{BASE_PATH}/test-gold/STS.input.SMTeuroparl.txt\", sep=\"\\t\", header=None\n",
    ")\n",
    "dt.columns = [\"s1\", \"s2\"]\n",
    "dt[\"gs\"] = pd.read_csv(\n",
    "    f\"{BASE_PATH}/test-gold/STS.gs.SMTeuroparl.txt\", sep=\"\\t\", header=None\n",
    ")\n",
    "dt.head()"
   ]
  },
  {
   "cell_type": "code",
   "execution_count": 7,
   "metadata": {},
   "outputs": [],
   "source": [
    "wnl = nltk.stem.WordNetLemmatizer()\n",
    "def lemmatize_one(word):\n",
    "  x, pos = nltk.pos_tag([word])[0]\n",
    "  d = {'NN': 'n', 'NNS': 'n', \n",
    "       'JJ': 'a', 'JJR': 'a', 'JJS': 'a', \n",
    "       'VB': 'v', 'VBD': 'v', 'VBG': 'v', 'VBN': 'v', 'VBP': 'v', 'VBZ': 'v', \n",
    "       'RB': 'r', 'RBR': 'r', 'RBS': 'r'}\n",
    "  if pos in d:\n",
    "    return wnl.lemmatize(word, pos=d[pos])\n",
    "  return x\n",
    "\n",
    "def lemmatize_many(words):\n",
    "  return [lemmatize_one(word) for word in words]"
   ]
  },
  {
   "cell_type": "code",
   "execution_count": 8,
   "metadata": {},
   "outputs": [
    {
     "data": {
      "text/html": [
       "<div>\n",
       "<style scoped>\n",
       "    .dataframe tbody tr th:only-of-type {\n",
       "        vertical-align: middle;\n",
       "    }\n",
       "\n",
       "    .dataframe tbody tr th {\n",
       "        vertical-align: top;\n",
       "    }\n",
       "\n",
       "    .dataframe thead th {\n",
       "        text-align: right;\n",
       "    }\n",
       "</style>\n",
       "<table border=\"1\" class=\"dataframe\">\n",
       "  <thead>\n",
       "    <tr style=\"text-align: right;\">\n",
       "      <th></th>\n",
       "      <th>s1_lemmas</th>\n",
       "      <th>s2_lemmas</th>\n",
       "    </tr>\n",
       "  </thead>\n",
       "  <tbody>\n",
       "    <tr>\n",
       "      <th>0</th>\n",
       "      <td>[The, leader, have, now, be, give, a, new, cha...</td>\n",
       "      <td>[The, leader, benefit, aujourd, ', hui, of, a,...</td>\n",
       "    </tr>\n",
       "    <tr>\n",
       "      <th>1</th>\n",
       "      <td>[Amendment, No, 7, proposes, certain, change, ...</td>\n",
       "      <td>[Amendment, No, 7, be, propose, certain, chang...</td>\n",
       "    </tr>\n",
       "    <tr>\n",
       "      <th>2</th>\n",
       "      <td>[Let, me, remind, you, that, our, ally, includ...</td>\n",
       "      <td>[I, would, like, to, remind, you, that, among,...</td>\n",
       "    </tr>\n",
       "    <tr>\n",
       "      <th>3</th>\n",
       "      <td>[The, vote, will, take, place, today, at, 5.30...</td>\n",
       "      <td>[The, vote, will, take, place, at, 5.30pm]</td>\n",
       "    </tr>\n",
       "    <tr>\n",
       "      <th>4</th>\n",
       "      <td>[The, fisherman, be, inactive, ,, tire, and, d...</td>\n",
       "      <td>[The, fisherman, be, inactive, ,, tire, and, d...</td>\n",
       "    </tr>\n",
       "    <tr>\n",
       "      <th>5</th>\n",
       "      <td>[Neither, be, there, a, qualify, majority, wit...</td>\n",
       "      <td>[There, be, not, a, majority, voting, in, Parl...</td>\n",
       "    </tr>\n",
       "    <tr>\n",
       "      <th>6</th>\n",
       "      <td>[It, increase, the, power, of, the, big, count...</td>\n",
       "      <td>[It, have, the, effect, of, augment, the, pote...</td>\n",
       "    </tr>\n",
       "    <tr>\n",
       "      <th>7</th>\n",
       "      <td>[The, fisherman, be, inactive, ,, tire, and, d...</td>\n",
       "      <td>[The, fisher, be, inactive, ,, tire, and, disa...</td>\n",
       "    </tr>\n",
       "    <tr>\n",
       "      <th>8</th>\n",
       "      <td>[The, leader, have, now, be, give, a, new, cha...</td>\n",
       "      <td>[Leaders, now, have, another, chance, to, let,...</td>\n",
       "    </tr>\n",
       "    <tr>\n",
       "      <th>9</th>\n",
       "      <td>[The, vote, will, take, place, today, at, 5.30...</td>\n",
       "      <td>[The, vote, will, take, place, at, 17h30, .]</td>\n",
       "    </tr>\n",
       "  </tbody>\n",
       "</table>\n",
       "</div>"
      ],
      "text/plain": [
       "                                           s1_lemmas  \\\n",
       "0  [The, leader, have, now, be, give, a, new, cha...   \n",
       "1  [Amendment, No, 7, proposes, certain, change, ...   \n",
       "2  [Let, me, remind, you, that, our, ally, includ...   \n",
       "3  [The, vote, will, take, place, today, at, 5.30...   \n",
       "4  [The, fisherman, be, inactive, ,, tire, and, d...   \n",
       "5  [Neither, be, there, a, qualify, majority, wit...   \n",
       "6  [It, increase, the, power, of, the, big, count...   \n",
       "7  [The, fisherman, be, inactive, ,, tire, and, d...   \n",
       "8  [The, leader, have, now, be, give, a, new, cha...   \n",
       "9  [The, vote, will, take, place, today, at, 5.30...   \n",
       "\n",
       "                                           s2_lemmas  \n",
       "0  [The, leader, benefit, aujourd, ', hui, of, a,...  \n",
       "1  [Amendment, No, 7, be, propose, certain, chang...  \n",
       "2  [I, would, like, to, remind, you, that, among,...  \n",
       "3         [The, vote, will, take, place, at, 5.30pm]  \n",
       "4  [The, fisherman, be, inactive, ,, tire, and, d...  \n",
       "5  [There, be, not, a, majority, voting, in, Parl...  \n",
       "6  [It, have, the, effect, of, augment, the, pote...  \n",
       "7  [The, fisher, be, inactive, ,, tire, and, disa...  \n",
       "8  [Leaders, now, have, another, chance, to, let,...  \n",
       "9       [The, vote, will, take, place, at, 17h30, .]  "
      ]
     },
     "execution_count": 8,
     "metadata": {},
     "output_type": "execute_result"
    }
   ],
   "source": [
    "dt[\"s1_lemmas\"] = dt[\"s1\"].apply(lambda x: lemmatize_many(nltk.word_tokenize(x)))\n",
    "dt[\"s2_lemmas\"] = dt[\"s2\"].apply(lambda x: lemmatize_many(nltk.word_tokenize(x)))\n",
    "dt[\"gs\"] = dt.pop(\"gs\")\n",
    "dt.head(10)[['s1_lemmas', 's2_lemmas']]"
   ]
  },
  {
   "cell_type": "code",
   "execution_count": 9,
   "metadata": {},
   "outputs": [
    {
     "data": {
      "text/html": [
       "<div>\n",
       "<style scoped>\n",
       "    .dataframe tbody tr th:only-of-type {\n",
       "        vertical-align: middle;\n",
       "    }\n",
       "\n",
       "    .dataframe tbody tr th {\n",
       "        vertical-align: top;\n",
       "    }\n",
       "\n",
       "    .dataframe thead th {\n",
       "        text-align: right;\n",
       "    }\n",
       "</style>\n",
       "<table border=\"1\" class=\"dataframe\">\n",
       "  <thead>\n",
       "    <tr style=\"text-align: right;\">\n",
       "      <th></th>\n",
       "      <th>s1</th>\n",
       "      <th>s2</th>\n",
       "      <th>s1_lemmas</th>\n",
       "      <th>s2_lemmas</th>\n",
       "      <th>gs</th>\n",
       "      <th>jaccard</th>\n",
       "    </tr>\n",
       "  </thead>\n",
       "  <tbody>\n",
       "    <tr>\n",
       "      <th>0</th>\n",
       "      <td>The leaders have now been given a new chance a...</td>\n",
       "      <td>The leaders benefit aujourd' hui of a new luck...</td>\n",
       "      <td>[The, leader, have, now, be, give, a, new, cha...</td>\n",
       "      <td>[The, leader, benefit, aujourd, ', hui, of, a,...</td>\n",
       "      <td>4.50</td>\n",
       "      <td>0.653846</td>\n",
       "    </tr>\n",
       "    <tr>\n",
       "      <th>1</th>\n",
       "      <td>Amendment No 7 proposes certain changes in the...</td>\n",
       "      <td>Amendment No 7 is proposing certain changes in...</td>\n",
       "      <td>[Amendment, No, 7, proposes, certain, change, ...</td>\n",
       "      <td>[Amendment, No, 7, be, propose, certain, chang...</td>\n",
       "      <td>5.00</td>\n",
       "      <td>0.214286</td>\n",
       "    </tr>\n",
       "    <tr>\n",
       "      <th>2</th>\n",
       "      <td>Let me remind you that our allies include ferv...</td>\n",
       "      <td>I would like to remind you that among our alli...</td>\n",
       "      <td>[Let, me, remind, you, that, our, ally, includ...</td>\n",
       "      <td>[I, would, like, to, remind, you, that, among,...</td>\n",
       "      <td>4.25</td>\n",
       "      <td>0.608696</td>\n",
       "    </tr>\n",
       "    <tr>\n",
       "      <th>3</th>\n",
       "      <td>The vote will take place today at 5.30 p.m.</td>\n",
       "      <td>The vote will take place at 5.30pm</td>\n",
       "      <td>[The, vote, will, take, place, today, at, 5.30...</td>\n",
       "      <td>[The, vote, will, take, place, at, 5.30pm]</td>\n",
       "      <td>4.50</td>\n",
       "      <td>0.454545</td>\n",
       "    </tr>\n",
       "    <tr>\n",
       "      <th>4</th>\n",
       "      <td>The fishermen are inactive, tired and disappoi...</td>\n",
       "      <td>The fishermen are inactive, tired and disappoi...</td>\n",
       "      <td>[The, fisherman, be, inactive, ,, tire, and, d...</td>\n",
       "      <td>[The, fisherman, be, inactive, ,, tire, and, d...</td>\n",
       "      <td>5.00</td>\n",
       "      <td>0.000000</td>\n",
       "    </tr>\n",
       "  </tbody>\n",
       "</table>\n",
       "</div>"
      ],
      "text/plain": [
       "                                                  s1  \\\n",
       "0  The leaders have now been given a new chance a...   \n",
       "1  Amendment No 7 proposes certain changes in the...   \n",
       "2  Let me remind you that our allies include ferv...   \n",
       "3        The vote will take place today at 5.30 p.m.   \n",
       "4  The fishermen are inactive, tired and disappoi...   \n",
       "\n",
       "                                                  s2  \\\n",
       "0  The leaders benefit aujourd' hui of a new luck...   \n",
       "1  Amendment No 7 is proposing certain changes in...   \n",
       "2  I would like to remind you that among our alli...   \n",
       "3                 The vote will take place at 5.30pm   \n",
       "4  The fishermen are inactive, tired and disappoi...   \n",
       "\n",
       "                                           s1_lemmas  \\\n",
       "0  [The, leader, have, now, be, give, a, new, cha...   \n",
       "1  [Amendment, No, 7, proposes, certain, change, ...   \n",
       "2  [Let, me, remind, you, that, our, ally, includ...   \n",
       "3  [The, vote, will, take, place, today, at, 5.30...   \n",
       "4  [The, fisherman, be, inactive, ,, tire, and, d...   \n",
       "\n",
       "                                           s2_lemmas    gs   jaccard  \n",
       "0  [The, leader, benefit, aujourd, ', hui, of, a,...  4.50  0.653846  \n",
       "1  [Amendment, No, 7, be, propose, certain, chang...  5.00  0.214286  \n",
       "2  [I, would, like, to, remind, you, that, among,...  4.25  0.608696  \n",
       "3         [The, vote, will, take, place, at, 5.30pm]  4.50  0.454545  \n",
       "4  [The, fisherman, be, inactive, ,, tire, and, d...  5.00  0.000000  "
      ]
     },
     "execution_count": 9,
     "metadata": {},
     "output_type": "execute_result"
    }
   ],
   "source": [
    "dt[\"jaccard\"] = dt[[\"s1_lemmas\", \"s2_lemmas\"]].apply(\n",
    "    lambda x: jaccard_distance(set(x.iloc[0]), set(x.iloc[1])), axis=1\n",
    ")\n",
    "dt.head()"
   ]
  },
  {
   "cell_type": "code",
   "execution_count": 10,
   "metadata": {},
   "outputs": [
    {
     "name": "stdout",
     "output_type": "stream",
     "text": [
      "Pearsonr gs vs jaccard: -0.45419311522108746, pvalue gs_jaccard: 9.6271177012704e-25\n"
     ]
    }
   ],
   "source": [
    "pearsonr_gs_jaccard = pearsonr(\n",
    "    dt[\"gs\"], dt[\"jaccard\"]\n",
    ")\n",
    "print(\n",
    "    f\"Pearsonr gs vs jaccard: {pearsonr_gs_jaccard[0]}, pvalue gs_jaccard: {pearsonr_gs_jaccard[1]}\"\n",
    ")"
   ]
  },
  {
   "cell_type": "code",
   "execution_count": 11,
   "metadata": {},
   "outputs": [
    {
     "data": {
      "image/png": "[encoded data removed]",
      "text/plain": [
       "<Figure size 600x500 with 1 Axes>"
      ]
     },
     "metadata": {},
     "output_type": "display_data"
    }
   ],
   "source": [
    "fig = plt.figure(figsize=(6, 5))\n",
    "ax = plt.axes()\n",
    "\n",
    "plt.scatter(dt[\"gs\"], dt[\"jaccard\"])\n",
    "plt.xlabel(\"Gold Standard\")\n",
    "plt.ylabel(\"Jaccard Distance\")\n",
    "plt.title(\"Jaccard Distance vs. Gold Standard\")\n",
    "plt.text(\n",
    "    0.1,\n",
    "    0.1,\n",
    "    f\"Pearsonr gs vs jaccard: {pearsonr_gs_jaccard[0]:.4f}\",\n",
    "    transform=ax.transAxes,\n",
    "    ha=\"left\",\n",
    "    va=\"center\",\n",
    ")\n",
    "plt.show()"
   ]
  }
 ],
 "metadata": {
  "kernelspec": {
   "display_name": ".venv",
   "language": "python",
   "name": "python3"
  },
  "language_info": {
   "codemirror_mode": {
    "name": "ipython",
    "version": 3
   },
   "file_extension": ".py",
   "mimetype": "text/x-python",
   "name": "python",
   "nbconvert_exporter": "python",
   "pygments_lexer": "ipython3",
   "version": "3.12.5"
  }
 },
 "nbformat": 4,
 "nbformat_minor": 2
}
