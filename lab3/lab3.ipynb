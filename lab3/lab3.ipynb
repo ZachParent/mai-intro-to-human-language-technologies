{
 "cells": [
  {
   "cell_type": "markdown",
   "metadata": {},
   "source": [
    "# IHLT Lab 3: Morphology\n",
    "\n",
    "**Authors:** *Zachary Parent ([zachary.parent](mailto:zachary.parent@estudiantat.upc.edu)), Carlos Jiménez ([carlos.humberto.jimenez](mailto:carlos.humberto.jimenez@estudiantat.upc.edu))*\n",
    "\n",
    "### 2024-10-03\n",
    "\n",
    "**Instructions:**\n",
    "\n",
    "1. Read all pairs of sentences of the *SMTeuroparl* files of test set within the evaluation framework of the project.\n",
    "2. Compute their similarities by considering lemmas and Jaccard distance.\n",
    "3. Compare the results with those in session 2 (*document structure*) in which words were considered.\n",
    "4. Compare the results with gold standard by giving the pearson correlation between them.\n",
    "5. Questions (justify the answers):\n",
    "\n",
    "    - Which is better: words or lemmas?\n",
    "    - Do you think that could perform better for any pair of texts?\n",
    "\n"
   ]
  }
 ],
 "metadata": {
  "language_info": {
   "name": "python"
  }
 },
 "nbformat": 4,
 "nbformat_minor": 2
}
