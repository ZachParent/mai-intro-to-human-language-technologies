{
 "cells": [
  {
   "cell_type": "code",
   "execution_count": null,
   "id": "8cd0c996",
   "metadata": {
    "lines_to_next_cell": 2
   },
   "outputs": [],
   "source": [
    "import spacy\n",
    "from typing import Tuple\n",
    "import nltk\n",
    "import numpy as np\n",
    "import pandas as pd\n",
    "from functools import partial\n",
    "from sklearn.neural_network import MLPRegressor\n",
    "from sklearn.svm import SVR\n",
    "from sklearn.model_selection import GridSearchCV, train_test_split\n",
    "from scipy.stats import pearsonr\n",
    "\n",
    "from zp_ihlt_project.config import TRAIN_DATA_DIR, TEST_DATA_DIR"
   ]
  },
  {
   "cell_type": "code",
   "execution_count": null,
   "id": "22294439",
   "metadata": {},
   "outputs": [],
   "source": [
    "all_train_dt = pd.read_csv(\"../data/processed/train_data_with_features.csv\")\n",
    "all_test_dt = pd.read_csv(\"../data/processed/test_data_with_features.csv\")\n",
    "feature_names = [col for col in all_train_dt.columns if col.startswith(\"score_\")]"
   ]
  },
  {
   "cell_type": "code",
   "execution_count": null,
   "id": "17ee8f39",
   "metadata": {},
   "outputs": [],
   "source": [
    "from sklearn.feature_selection import SelectKBest, mutual_info_regression\n",
    "\n",
    "kbest = SelectKBest(mutual_info_regression, k=600).fit(all_train_dt[feature_names], all_train_dt.gs)\n",
    "selected_features = np.array(feature_names)[kbest.get_support()]"
   ]
  },
  {
   "cell_type": "code",
   "execution_count": null,
   "id": "b82c824a",
   "metadata": {},
   "outputs": [],
   "source": [
    "train_datasets = all_train_dt.dataset.unique().tolist()\n",
    "test_datasets = all_test_dt.dataset.unique().tolist()"
   ]
  },
  {
   "cell_type": "code",
   "execution_count": null,
   "id": "dcfcbfac",
   "metadata": {
    "lines_to_next_cell": 0
   },
   "outputs": [],
   "source": [
    "results = []\n",
    "\n",
    "for dataset in train_datasets:\n",
    "    dataset_results = []\n",
    "    dataset_results.append(dataset)\n",
    "    dt = all_train_dt[all_train_dt.dataset == dataset]\n",
    "    test_dt = all_test_dt[all_test_dt.dataset == dataset]\n",
    "\n",
    "    X_train, X_val, y_train, y_val = train_test_split(dt[selected_features], dt.gs, test_size=0.2, random_state=42)\n",
    "    X_test = test_dt[selected_features]\n",
    "    y_test = test_dt.gs\n",
    "\n",
    "    # Define parameter grid\n",
    "    param_grid = {\n",
    "        'C': [0.01, 0.1, 1, 10],\n",
    "        'kernel': ['linear', 'rbf', 'poly'],\n",
    "        'gamma': ['scale', 'auto'],\n",
    "        'epsilon': [0.1]\n",
    "    }\n",
    "\n",
    "    svr = SVR()\n",
    "\n",
    "    # Perform grid search with 5-fold cross validation\n",
    "    grid_search = GridSearchCV(\n",
    "        svr, \n",
    "        param_grid,\n",
    "        cv=5,\n",
    "        scoring='neg_mean_squared_error',\n",
    "        n_jobs=-1,\n",
    "        verbose=1\n",
    "    )\n",
    "\n",
    "    # Fit grid search\n",
    "    grid_search.fit(X_train, y_train)\n",
    "\n",
    "    # Print best parameters and score\n",
    "    print(\"Best parameters:\", grid_search.best_params_)\n",
    "    print(\"Best RMSE:\", np.sqrt(-grid_search.best_score_))\n",
    "\n",
    "    best_mlp = grid_search.best_estimator_\n",
    "    best_mlp.fit(X_train, y_train)\n",
    "    preds = best_mlp.predict(X_train)\n",
    "    dataset_results.append(pearsonr(y_train, preds)[0])\n",
    "\n",
    "    preds = best_mlp.predict(X_val)\n",
    "    dataset_results.append(pearsonr(y_val, preds)[0])\n",
    "\n",
    "    preds = best_mlp.predict(X_test[selected_features])\n",
    "    dataset_results.append(pearsonr(y_test, preds)[0])\n",
    "\n",
    "    results.append(dataset_results)\n",
    "\n",
    "results = pd.DataFrame(results, columns=[\"dataset\", \"train_pearson\", \"val_pearson\", \"test_pearson\"])\n",
    "results"
   ]
  },
  {
   "cell_type": "code",
   "execution_count": null,
   "id": "6bae48f1",
   "metadata": {},
   "outputs": [],
   "source": [
    "dt = all_train_dt\n",
    "\n",
    "X_train, X_val, y_train, y_val = train_test_split(dt[selected_features], dt.gs, test_size=0.2, random_state=42)\n",
    "X_test = all_test_dt[selected_features]\n",
    "y_test = all_test_dt.gs\n",
    "\n",
    "results = []\n",
    "\n",
    "# Define parameter grid\n",
    "param_grid = {\n",
    "    'C': [0.01, 0.1, 1, 10],\n",
    "    'kernel': ['linear', 'rbf', 'poly'],\n",
    "    'gamma': ['scale', 'auto'],\n",
    "    'epsilon': [0.1]\n",
    "}\n",
    "\n",
    "svr = SVR()\n",
    "\n",
    "# Perform grid search with 5-fold cross validation\n",
    "grid_search = GridSearchCV(\n",
    "    svr, \n",
    "    param_grid,\n",
    "    cv=5,\n",
    "    scoring='neg_mean_squared_error',\n",
    "    n_jobs=-1,\n",
    "    verbose=1\n",
    ")\n",
    "\n",
    "# Fit grid search\n",
    "grid_search.fit(X_train, y_train)\n",
    "\n",
    "# Print best parameters and score\n",
    "print(\"Best parameters:\", grid_search.best_params_)\n",
    "print(\"Best RMSE:\", np.sqrt(-grid_search.best_score_))\n",
    "\n",
    "best_mlp = grid_search.best_estimator_\n",
    "preds = best_mlp.predict(X_train)\n",
    "results.append(pearsonr(y_train, preds)[0])\n",
    "\n",
    "preds = best_mlp.predict(X_val)\n",
    "results.append(pearsonr(y_val, preds)[0])\n",
    "\n",
    "preds = best_mlp.predict(X_test)\n",
    "results.append(pearsonr(y_test, preds)[0])\n",
    "\n",
    "results = pd.DataFrame([results], columns=[\"train_pearson\", \"val_pearson\", \"test_pearson\"], index=[\"all\"])\n",
    "results"
   ]
  },
  {
   "cell_type": "code",
   "execution_count": null,
   "id": "cc2e7123",
   "metadata": {},
   "outputs": [],
   "source": [
    "best_mlp.fit(dt[selected_features], dt.gs)"
   ]
  },
  {
   "cell_type": "code",
   "execution_count": null,
   "id": "476b0454",
   "metadata": {
    "lines_to_next_cell": 0
   },
   "outputs": [],
   "source": [
    "train_results = []\n",
    "datasets = train_datasets\n",
    "for dataset in datasets:\n",
    "    dataset_results = []\n",
    "    dataset_results.append(dataset)\n",
    "    dt = all_train_dt[all_train_dt.dataset == dataset]\n",
    "    test_dt = all_test_dt[all_test_dt.dataset == dataset]\n",
    "\n",
    "    X_train, X_val, y_train, y_val = train_test_split(dt[selected_features], dt.gs, test_size=0.2, random_state=42)\n",
    "    X_test = test_dt[selected_features]\n",
    "    y_test = test_dt.gs\n",
    "\n",
    "    preds = best_mlp.predict(X_train)\n",
    "    dataset_results.append(pearsonr(y_train, preds)[0])\n",
    "\n",
    "    preds = best_mlp.predict(X_val)\n",
    "    dataset_results.append(pearsonr(y_val, preds)[0])\n",
    "\n",
    "    preds = best_mlp.predict(X_test[selected_features])\n",
    "    dataset_results.append(pearsonr(y_test, preds)[0])\n",
    "\n",
    "    train_results.append(dataset_results)\n",
    "\n",
    "train_results = pd.DataFrame(train_results, columns=[\"dataset\", \"train_pearson\", \"val_pearson\", \"test_pearson\"])\n",
    "train_results"
   ]
  },
  {
   "cell_type": "code",
   "execution_count": null,
   "id": "229edcef",
   "metadata": {
    "lines_to_next_cell": 0
   },
   "outputs": [],
   "source": [
    "test_results = []\n",
    "datasets = test_datasets\n",
    "for dataset in datasets:\n",
    "    dataset_results = []\n",
    "    dataset_results.append(dataset)\n",
    "    test_dt = all_test_dt[all_test_dt.dataset == dataset]\n",
    "\n",
    "    X_test = test_dt[selected_features]\n",
    "    y_test = test_dt.gs\n",
    "\n",
    "    preds = best_mlp.predict(X_test[selected_features])\n",
    "    dataset_results.append(pearsonr(y_test, preds)[0])\n",
    "\n",
    "    test_results.append(dataset_results)\n",
    "\n",
    "preds = best_mlp.predict(all_test_dt[selected_features])\n",
    "test_results.append(['all', pearsonr(all_test_dt.gs, preds)[0]])\n",
    "test_results = pd.DataFrame(test_results, columns=[\"dataset\", \"test_pearson\"])\n",
    "test_results"
   ]
  },
  {
   "cell_type": "code",
   "execution_count": null,
   "id": "dbe9f6bf",
   "metadata": {
    "lines_to_next_cell": 2
   },
   "outputs": [],
   "source": [
    "results_to_beat = pd.DataFrame(np.array([[.683, .873, .528, .664, .493, 0.823]]).T, index=[*test_datasets, 'all'], columns=[\"pearson_to_beat\"])\n",
    "results_to_beat"
   ]
  }
 ],
 "metadata": {
  "jupytext": {
   "cell_metadata_filter": "-all",
   "custom_cell_magics": "kql"
  },
  "kernelspec": {
   "display_name": ".venv-ihlt",
   "language": "python",
   "name": "python3"
  },
  "language_info": {
   "name": "python",
   "version": "3.12.7"
  }
 },
 "nbformat": 4,
 "nbformat_minor": 5
}
