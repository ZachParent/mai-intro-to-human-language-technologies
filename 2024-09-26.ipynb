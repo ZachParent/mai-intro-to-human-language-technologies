{
 "cells": [
  {
   "cell_type": "code",
   "execution_count": 1,
   "metadata": {},
   "outputs": [
    {
     "name": "stdout",
     "output_type": "stream",
     "text": [
      "     c    o    m    e\n",
      "d  0.1  0.7  0.5  0.1\n",
      "o  0.8  0.0  0.4  0.6\n",
      "m  0.4  0.4  0.0  0.6\n"
     ]
    }
   ],
   "source": [
    "import pandas as pd\n",
    "\n",
    "word1 = 'dom'\n",
    "word2 = 'come'\n",
    "\n",
    "edit_distance = pd.DataFrame([[0 for _ in range(len(word2))] for _ in range(len(word1))],\n",
    "                            index=list(word1),\n",
    "                            columns=list(word2), dtype=float)\n",
    "\n",
    "edit_distance.loc['d', 'c'] = 0.1\n",
    "edit_distance.loc['d', 'o'] = 0.7\n",
    "edit_distance.loc['d', 'm'] = 0.5\n",
    "edit_distance.loc['d', 'e'] = 0.1\n",
    "edit_distance.loc['o', 'c'] = 0.8\n",
    "edit_distance.loc['o', 'm'] = 0.4\n",
    "edit_distance.loc['o', 'e'] = 0.6\n",
    "edit_distance.loc['m', 'c'] = 0.4\n",
    "edit_distance.loc['m', 'o'] = 0.4\n",
    "edit_distance.loc['m', 'e'] = 0.6\n",
    "\n",
    "\n",
    "print(edit_distance)"
   ]
  },
  {
   "cell_type": "code",
   "execution_count": 2,
   "metadata": {},
   "outputs": [
    {
     "name": "stdout",
     "output_type": "stream",
     "text": [
      "     a    b    c    d    e    f    g    h    i    j  ...    q    r    s    t  \\\n",
      "a  0.0  0.5  0.3  0.2  0.3  0.3  0.4  0.5  0.8  0.6  ...  0.1  0.4  0.1  0.5   \n",
      "b  0.5  0.0  0.2  0.3  0.4  0.2  0.1  0.2  0.5  0.3  ...  0.6  0.3  0.4  0.2   \n",
      "c  0.3  0.2  0.0  0.1  0.2  0.2  0.3  0.4  0.7  0.5  ...  0.4  0.3  0.2  0.4   \n",
      "d  0.2  0.3  0.1  0.0  0.1  0.1  0.2  0.3  0.6  0.4  ...  0.3  0.2  0.1  0.3   \n",
      "e  0.3  0.4  0.2  0.1  0.0  0.2  0.3  0.4  0.5  0.5  ...  0.2  0.1  0.2  0.2   \n",
      "f  0.3  0.2  0.2  0.1  0.2  0.0  0.1  0.2  0.5  0.3  ...  0.4  0.1  0.2  0.2   \n",
      "g  0.4  0.1  0.3  0.2  0.3  0.1  0.0  0.1  0.4  0.2  ...  0.5  0.2  0.3  0.1   \n",
      "h  0.5  0.2  0.4  0.3  0.4  0.2  0.1  0.0  0.3  0.1  ...  0.6  0.3  0.4  0.2   \n",
      "i  0.8  0.5  0.7  0.6  0.5  0.5  0.4  0.3  0.0  0.2  ...  0.7  0.4  0.7  0.3   \n",
      "j  0.6  0.3  0.5  0.4  0.5  0.3  0.2  0.1  0.2  0.0  ...  0.7  0.4  0.5  0.3   \n",
      "k  0.7  0.4  0.6  0.5  0.6  0.4  0.3  0.2  0.1  0.1  ...  0.8  0.5  0.6  0.4   \n",
      "l  0.8  0.5  0.7  0.6  0.7  0.5  0.4  0.3  0.2  0.2  ...  0.9  0.6  0.7  0.5   \n",
      "m  0.7  0.2  0.4  0.5  0.6  0.4  0.3  0.2  0.3  0.1  ...  0.8  0.5  0.6  0.4   \n",
      "n  0.6  0.1  0.3  0.4  0.5  0.3  0.2  0.1  0.4  0.2  ...  0.7  0.4  0.5  0.3   \n",
      "o  0.9  0.6  0.8  0.7  0.6  0.6  0.5  0.4  0.1  0.3  ...  0.8  0.5  0.8  0.4   \n",
      "p  1.0  0.7  0.9  0.8  0.7  0.7  0.6  0.5  0.2  0.4  ...  0.9  0.6  0.9  0.5   \n",
      "q  0.1  0.6  0.4  0.3  0.2  0.4  0.5  0.6  0.7  0.7  ...  0.0  0.3  0.2  0.4   \n",
      "r  0.4  0.3  0.3  0.2  0.1  0.1  0.2  0.3  0.4  0.4  ...  0.3  0.0  0.3  0.1   \n",
      "s  0.1  0.4  0.2  0.1  0.2  0.2  0.3  0.4  0.7  0.5  ...  0.2  0.3  0.0  0.4   \n",
      "t  0.5  0.2  0.4  0.3  0.2  0.2  0.1  0.2  0.3  0.3  ...  0.4  0.1  0.4  0.0   \n",
      "u  0.7  0.4  0.6  0.5  0.4  0.4  0.3  0.2  0.1  0.1  ...  0.6  0.3  0.6  0.2   \n",
      "v  0.4  0.1  0.1  0.2  0.3  0.1  0.2  0.3  0.6  0.4  ...  0.5  0.2  0.3  0.3   \n",
      "w  0.2  0.5  0.3  0.2  0.1  0.3  0.4  0.5  0.6  0.6  ...  0.1  0.2  0.1  0.3   \n",
      "x  0.2  0.3  0.1  0.2  0.3  0.3  0.4  0.5  0.8  0.6  ...  0.3  0.4  0.1  0.5   \n",
      "y  0.6  0.3  0.5  0.4  0.3  0.3  0.2  0.1  0.2  0.2  ...  0.5  0.2  0.5  0.1   \n",
      "z  0.1  0.4  0.2  0.3  0.4  0.4  0.5  0.6  0.9  0.7  ...  0.2  0.5  0.2  0.6   \n",
      "\n",
      "     u    v    w    x    y    z  \n",
      "a  0.7  0.4  0.2  0.2  0.6  0.1  \n",
      "b  0.4  0.1  0.5  0.3  0.3  0.4  \n",
      "c  0.6  0.1  0.3  0.1  0.5  0.2  \n",
      "d  0.5  0.2  0.2  0.2  0.4  0.3  \n",
      "e  0.4  0.3  0.1  0.3  0.3  0.4  \n",
      "f  0.4  0.1  0.3  0.3  0.3  0.4  \n",
      "g  0.3  0.2  0.4  0.4  0.2  0.5  \n",
      "h  0.2  0.3  0.5  0.5  0.1  0.6  \n",
      "i  0.1  0.6  0.6  0.8  0.2  0.9  \n",
      "j  0.1  0.4  0.6  0.6  0.2  0.7  \n",
      "k  0.2  0.5  0.7  0.7  0.3  0.8  \n",
      "l  0.3  0.6  0.8  0.8  0.4  0.9  \n",
      "m  0.2  0.3  0.7  0.5  0.3  0.6  \n",
      "n  0.3  0.2  0.6  0.4  0.2  0.5  \n",
      "o  0.2  0.7  0.7  0.9  0.3  1.0  \n",
      "p  0.3  0.8  0.8  1.0  0.4  1.1  \n",
      "q  0.6  0.5  0.1  0.3  0.5  0.2  \n",
      "r  0.3  0.2  0.2  0.4  0.2  0.5  \n",
      "s  0.6  0.3  0.1  0.1  0.5  0.2  \n",
      "t  0.2  0.3  0.3  0.5  0.1  0.6  \n",
      "u  0.0  0.5  0.5  0.7  0.1  0.8  \n",
      "v  0.5  0.0  0.4  0.2  0.4  0.3  \n",
      "w  0.5  0.4  0.0  0.2  0.4  0.3  \n",
      "x  0.7  0.2  0.2  0.0  0.6  0.1  \n",
      "y  0.1  0.4  0.4  0.6  0.0  0.7  \n",
      "z  0.8  0.3  0.3  0.1  0.7  0.0  \n",
      "\n",
      "[26 rows x 26 columns]\n"
     ]
    }
   ],
   "source": [
    "def manhattan_distance(a, b):\n",
    "    return abs(a[0] - b[0]) + abs(a[1] - b[1])\n",
    "\n",
    "keyboard = [\n",
    "    'qwertyuiop',\n",
    "    'asdfghjkl',\n",
    "    'zxcvbnm'\n",
    "]\n",
    "\n",
    "letter_positions = {}\n",
    "for i, row in enumerate(keyboard):\n",
    "    for j, letter in enumerate(row):\n",
    "        letter_positions[letter] = (i, j)\n",
    "\n",
    "letters = 'abcdefghijklmnopqrstuvwxyz'\n",
    "edit_distance = pd.DataFrame(index=list(letters), columns=list(letters), dtype=float)\n",
    "\n",
    "for i, letter1 in enumerate(letters):\n",
    "    for j, letter2 in enumerate(letters):\n",
    "        if letter1 in letter_positions and letter2 in letter_positions:\n",
    "            distance = manhattan_distance(letter_positions[letter1], letter_positions[letter2])\n",
    "            edit_distance.loc[letter1, letter2] = distance / 10.0\n",
    "        else:\n",
    "            edit_distance.loc[letter1, letter2] = 1.0  # Default to 1.0 for letters not on the keyboard\n",
    "\n",
    "print(edit_distance)\n"
   ]
  },
  {
   "cell_type": "code",
   "execution_count": 3,
   "metadata": {},
   "outputs": [
    {
     "name": "stdout",
     "output_type": "stream",
     "text": [
      "     c    o    m    e\n",
      "d  0.1  0.7  0.5  0.1\n",
      "o  0.8  0.0  0.4  0.6\n",
      "m  0.4  0.4  0.0  0.6\n"
     ]
    }
   ],
   "source": [
    "print(edit_distance.loc[['d', 'o', 'm'], ['c', 'o', 'm', 'e']])\n"
   ]
  },
  {
   "cell_type": "code",
   "execution_count": 4,
   "metadata": {},
   "outputs": [
    {
     "name": "stdout",
     "output_type": "stream",
     "text": [
      "     -    c    o    m    e\n",
      "-  0.0  1.0  2.0  3.0  4.0\n",
      "d  1.0  0.1  1.1  2.1  3.1\n",
      "o  2.0  1.1  0.1  1.1  2.1\n",
      "m  3.0  2.1  1.1  0.1  1.1\n"
     ]
    }
   ],
   "source": [
    "cost = pd.DataFrame([[0.0 for _ in range(len(word2) + 1)] for _ in range(len(word1) + 1)],\n",
    "                    index=['-'] + list(word1),\n",
    "                    columns=['-'] + list(word2), dtype=float)\n",
    "cost.iloc[0] = range(len(word2) + 1)\n",
    "cost.iloc[:, 0] = range(len(word1) + 1)\n",
    "# cost = edit_distance.copy().map(lambda x: 0.0)\n",
    "# cost.insert(1, list(0))\n",
    "\n",
    "for i in range(1, len(word1) + 1):\n",
    "    for j in range(1, len(word2) + 1):\n",
    "\n",
    "        # Calculate the cost for deletion, insertion, and substitution\n",
    "        deletion_cost = cost.iloc[i-1, j] + 1\n",
    "        insertion_cost = cost.iloc[i, j-1] + 1\n",
    "        substitution_cost = cost.iloc[i-1, j-1] + edit_distance.loc[word1[i-1], word2[j-1]]\n",
    "\n",
    "        # Choose the minimum cost\n",
    "        cost.iloc[i, j] = min(deletion_cost, insertion_cost, substitution_cost)\n",
    "\n",
    "print(cost)"
   ]
  }
 ],
 "metadata": {
  "kernelspec": {
   "display_name": ".venv-ihlt",
   "language": "python",
   "name": "python3"
  },
  "language_info": {
   "codemirror_mode": {
    "name": "ipython",
    "version": 3
   },
   "file_extension": ".py",
   "mimetype": "text/x-python",
   "name": "python",
   "nbconvert_exporter": "python",
   "pygments_lexer": "ipython3",
   "version": "3.12.5"
  }
 },
 "nbformat": 4,
 "nbformat_minor": 2
}
