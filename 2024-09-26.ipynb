{
 "cells": [
  {
   "cell_type": "code",
   "execution_count": 1,
   "metadata": {},
   "outputs": [
    {
     "name": "stdout",
     "output_type": "stream",
     "text": [
      "     c    o    m    e\n",
      "d  0.1  0.7  0.5  0.1\n",
      "o  0.8  0.0  0.4  0.6\n",
      "m  0.4  0.4  0.0  0.6\n"
     ]
    }
   ],
   "source": [
    "import pandas as pd\n",
    "\n",
    "word1 = 'dom'\n",
    "word2 = 'come'\n",
    "\n",
    "edit_distance = pd.DataFrame([[0 for _ in range(len(word2))] for _ in range(len(word1))],\n",
    "                            index=list(word1),\n",
    "                            columns=list(word2), dtype=float)\n",
    "\n",
    "edit_distance.loc['d', 'c'] = 0.1\n",
    "edit_distance.loc['d', 'o'] = 0.7\n",
    "edit_distance.loc['d', 'm'] = 0.5\n",
    "edit_distance.loc['d', 'e'] = 0.1\n",
    "edit_distance.loc['o', 'c'] = 0.8\n",
    "edit_distance.loc['o', 'm'] = 0.4\n",
    "edit_distance.loc['o', 'e'] = 0.6\n",
    "edit_distance.loc['m', 'c'] = 0.4\n",
    "edit_distance.loc['m', 'o'] = 0.4\n",
    "edit_distance.loc['m', 'e'] = 0.6\n",
    "\n",
    "\n",
    "print(edit_distance)"
   ]
  },
  {
   "cell_type": "code",
   "execution_count": 2,
   "metadata": {},
   "outputs": [
    {
     "name": "stdout",
     "output_type": "stream",
     "text": [
      "     -    c    o    m    e\n",
      "-  0.0  1.0  2.0  3.0  4.0\n",
      "d  1.0  0.1  1.1  2.1  3.1\n",
      "o  2.0  1.1  0.1  1.1  2.1\n",
      "m  3.0  2.1  1.1  0.1  1.1\n"
     ]
    }
   ],
   "source": [
    "cost = pd.DataFrame([[0.0 for _ in range(len(word2) + 1)] for _ in range(len(word1) + 1)],\n",
    "                    index=['-'] + list(word1),\n",
    "                    columns=['-'] + list(word2), dtype=float)\n",
    "cost.iloc[0] = range(len(word2) + 1)\n",
    "cost.iloc[:, 0] = range(len(word1) + 1)\n",
    "# cost = edit_distance.copy().map(lambda x: 0.0)\n",
    "# cost.insert(1, list(0))\n",
    "\n",
    "for i in range(1, len(word1) + 1):\n",
    "    for j in range(1, len(word2) + 1):\n",
    "\n",
    "        # Calculate the cost for deletion, insertion, and substitution\n",
    "        deletion_cost = cost.iloc[i-1, j] + 1\n",
    "        insertion_cost = cost.iloc[i, j-1] + 1\n",
    "        substitution_cost = cost.iloc[i-1, j-1] + edit_distance.loc[word1[i-1], word2[j-1]]\n",
    "\n",
    "        # Choose the minimum cost\n",
    "        cost.iloc[i, j] = min(deletion_cost, insertion_cost, substitution_cost)\n",
    "\n",
    "print(cost)"
   ]
  }
 ],
 "metadata": {
  "kernelspec": {
   "display_name": ".venv-ihlt",
   "language": "python",
   "name": "python3"
  },
  "language_info": {
   "codemirror_mode": {
    "name": "ipython",
    "version": 3
   },
   "file_extension": ".py",
   "mimetype": "text/x-python",
   "name": "python",
   "nbconvert_exporter": "python",
   "pygments_lexer": "ipython3",
   "version": "3.12.5"
  }
 },
 "nbformat": 4,
 "nbformat_minor": 2
}
