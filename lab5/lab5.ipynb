{
 "cells": [
  {
   "cell_type": "markdown",
   "id": "dc2c244a",
   "metadata": {},
   "source": [
    "# IHLT Lab 5: Lexical Semantics\n",
    "\n",
    "**Authors:** *Zachary Parent ([zachary.parent](mailto:zachary.parent@estudiantat.upc.edu)), Carlos Jiménez ([carlos.humberto.jimenez](mailto:carlos.humberto.jimenez@estudiantat.upc.edu))*\n",
    "\n",
    "### 2024-10-17\n",
    "\n",
    "**Instructions:**\n",
    "\n",
    "- Given the following (lemma, category) pairs:\n",
    "\n",
    "`(’the’,’DT’), (’man’,’NN’), (’swim’,’VB’), (’with’, ’PR’), (’a’, ’DT’),\n",
    "(’girl’,’NN’), (’and’, ’CC’), (’a’, ’DT’), (’boy’, ’NN’), (’whilst’, ’PR’),\n",
    "(’the’, ’DT’), (’woman’, ’NN’), (’walk’, ’VB’)`\n",
    "\n",
    "- For each pair, when possible, print their most frequent WordNet synset\n",
    "\n",
    "- For each pair of words, when possible, print their corresponding least common subsumer (LCS) and their similarity value, using the following functions:\n",
    "\n",
    "    - Path Similarity\n",
    "\n",
    "    - Peacock-Chodorow Similarity\n",
    "\n",
    "    - Wu-Palmer Similarity\n",
    "\n",
    "    - Lin Similarity\n",
    "\n",
    "Normalize similarity values when necessary. What similarity seems better?\n",
    "\n",
    "## Notes\n",
    "\n",
    "- we should normalize the lch_similarity (not all trees have the same depth)\n",
    "- most frequent ~= most likely\n",
    "- lemmas have an attribute 'count'\n",
    "- given synsets we can get lemmas and counts\n",
    "- we should established rules/criteria to identify which similarity is 'best'\n",
    "- not all the words have an entry in wordnet, in that case computing the similarity is not possible\n",
    "  - we should compute our own sorting method by lemmas count\n"
   ]
  },
  {
   "cell_type": "markdown",
   "id": "a20d2b7a",
   "metadata": {},
   "source": [
    "## Setup"
   ]
  },
  {
   "cell_type": "code",
   "execution_count": 1,
   "id": "dae18201",
   "metadata": {},
   "outputs": [],
   "source": [
    "import nltk\n",
    "from nltk.corpus import wordnet as wn\n",
    "from nltk.corpus import wordnet_ic\n",
    "from nltk.corpus import sentiwordnet as swn"
   ]
  },
  {
   "cell_type": "code",
   "execution_count": 2,
   "id": "d79eb47f",
   "metadata": {},
   "outputs": [
    {
     "name": "stderr",
     "output_type": "stream",
     "text": [
      "[nltk_data] Downloading package wordnet to\n",
      "[nltk_data]     /Users/zachparent/nltk_data...\n",
      "[nltk_data]   Package wordnet is already up-to-date!\n",
      "[nltk_data] Downloading package omw-1.4 to\n",
      "[nltk_data]     /Users/zachparent/nltk_data...\n",
      "[nltk_data]   Package omw-1.4 is already up-to-date!\n",
      "[nltk_data] Downloading package sentiwordnet to\n",
      "[nltk_data]     /Users/zachparent/nltk_data...\n",
      "[nltk_data]   Package sentiwordnet is already up-to-date!\n",
      "[nltk_data] Downloading package wordnet_ic to\n",
      "[nltk_data]     /Users/zachparent/nltk_data...\n",
      "[nltk_data]   Package wordnet_ic is already up-to-date!\n"
     ]
    },
    {
     "data": {
      "text/plain": [
       "True"
      ]
     },
     "execution_count": 2,
     "metadata": {},
     "output_type": "execute_result"
    }
   ],
   "source": [
    "nltk.download('wordnet')\n",
    "nltk.download('omw-1.4')\n",
    "nltk.download('sentiwordnet')\n",
    "nltk.download('wordnet_ic')"
   ]
  },
  {
   "cell_type": "code",
   "execution_count": 3,
   "id": "9d671dcc",
   "metadata": {},
   "outputs": [],
   "source": [
    "dog = wn.synset('dog.n.01')\n",
    "cat = wn.synset('cat.n.01')"
   ]
  },
  {
   "cell_type": "code",
   "execution_count": 4,
   "id": "4ddbb174",
   "metadata": {},
   "outputs": [],
   "source": [
    "def getRelations(ss):\n",
    "    lexRels = ['hypernyms', 'instance_hypernyms', 'hyponyms', \\\n",
    "       'instance_hyponyms', 'member_holonyms', 'substance_holonyms', \\\n",
    "       'part_holonyms', 'member_meronyms', 'substance_meronyms', \\\n",
    "       'part_meronyms', 'attributes', 'entailments', 'causes', 'also_sees', \\\n",
    "       'verb_groups', 'similar_tos']\n",
    "    def getRelValue(ss, rel):\n",
    "        method = getattr(ss, rel)\n",
    "        return method()\n",
    "    \n",
    "    results = {}\n",
    "    for rel in lexRels:\n",
    "        val = getRelValue(ss, rel)\n",
    "        if val != []:\n",
    "            results[rel] = val\n",
    "    return results"
   ]
  },
  {
   "cell_type": "markdown",
   "id": "5f859140",
   "metadata": {},
   "source": [
    "## WordNet Similarities"
   ]
  },
  {
   "cell_type": "code",
   "execution_count": 5,
   "id": "1b2e8d76",
   "metadata": {},
   "outputs": [
    {
     "data": {
      "text/plain": [
       "[Synset('carnivore.n.01')]"
      ]
     },
     "execution_count": 5,
     "metadata": {},
     "output_type": "execute_result"
    }
   ],
   "source": [
    "dog.lowest_common_hypernyms(cat) "
   ]
  },
  {
   "cell_type": "code",
   "execution_count": 6,
   "id": "96e94792",
   "metadata": {},
   "outputs": [
    {
     "data": {
      "text/plain": [
       "0.2"
      ]
     },
     "execution_count": 6,
     "metadata": {},
     "output_type": "execute_result"
    }
   ],
   "source": [
    "dog.path_similarity(cat)"
   ]
  },
  {
   "cell_type": "code",
   "execution_count": 7,
   "id": "acf5cbfa",
   "metadata": {},
   "outputs": [
    {
     "data": {
      "text/plain": [
       "2.0281482472922856"
      ]
     },
     "execution_count": 7,
     "metadata": {},
     "output_type": "execute_result"
    }
   ],
   "source": [
    "dog.lch_similarity(cat) \n"
   ]
  },
  {
   "cell_type": "code",
   "execution_count": 8,
   "id": "6d700f7b",
   "metadata": {},
   "outputs": [
    {
     "data": {
      "text/plain": [
       "0.8571428571428571"
      ]
     },
     "execution_count": 8,
     "metadata": {},
     "output_type": "execute_result"
    }
   ],
   "source": [
    "dog.wup_similarity(cat) "
   ]
  },
  {
   "cell_type": "code",
   "execution_count": 9,
   "id": "021749b2",
   "metadata": {},
   "outputs": [
    {
     "data": {
      "text/plain": [
       "0.8768009843733973"
      ]
     },
     "execution_count": 9,
     "metadata": {},
     "output_type": "execute_result"
    }
   ],
   "source": [
    "brown_ic = wordnet_ic.ic('ic-brown.dat')\n",
    "dog.lin_similarity(cat,brown_ic)"
   ]
  },
  {
   "cell_type": "markdown",
   "id": "32044e4f",
   "metadata": {},
   "source": [
    "## SentiWordnet "
   ]
  },
  {
   "cell_type": "code",
   "execution_count": 10,
   "id": "6a455744",
   "metadata": {},
   "outputs": [
    {
     "data": {
      "text/plain": [
       "(0.75, 0.0, 0.25)"
      ]
     },
     "execution_count": 10,
     "metadata": {},
     "output_type": "execute_result"
    }
   ],
   "source": [
    "# getting the wordnet synset\n",
    "synset = wn.synset('good.a.1')\n",
    "# getting the sentiwordnet synset\n",
    "sentiSynset = swn.senti_synset(synset.name())\n",
    "\n",
    "sentiSynset.pos_score(), sentiSynset.neg_score(), sentiSynset.obj_score()"
   ]
  },
  {
   "cell_type": "code",
   "execution_count": 11,
   "id": "daba631f",
   "metadata": {},
   "outputs": [],
   "source": [
    "words = [('the','DT'), ('man','NN'), ('swim','VB'), ('with', 'PR'), ('a', 'DT'),\n",
    "('girl','NN'), ('and', 'CC'), ('a', 'DT'), ('boy', 'NN'), ('whilst', 'PR'),\n",
    "('the', 'DT'), ('woman', 'NN'), ('walk', 'VB')]"
   ]
  },
  {
   "cell_type": "code",
   "execution_count": 12,
   "id": "222b18f9",
   "metadata": {},
   "outputs": [
    {
     "name": "stdout",
     "output_type": "stream",
     "text": [
      "Null values: word          0\n",
      "pos           0\n",
      "synset_pos    7\n",
      "dtype: int64\n",
      "Null values: word          0\n",
      "pos           0\n",
      "synset_pos    0\n",
      "dtype: int64\n"
     ]
    },
    {
     "data": {
      "text/html": [
       "<div>\n",
       "<style scoped>\n",
       "    .dataframe tbody tr th:only-of-type {\n",
       "        vertical-align: middle;\n",
       "    }\n",
       "\n",
       "    .dataframe tbody tr th {\n",
       "        vertical-align: top;\n",
       "    }\n",
       "\n",
       "    .dataframe thead th {\n",
       "        text-align: right;\n",
       "    }\n",
       "</style>\n",
       "<table border=\"1\" class=\"dataframe\">\n",
       "  <thead>\n",
       "    <tr style=\"text-align: right;\">\n",
       "      <th></th>\n",
       "      <th>word</th>\n",
       "      <th>pos</th>\n",
       "      <th>synset_pos</th>\n",
       "      <th>synset_accessor</th>\n",
       "    </tr>\n",
       "  </thead>\n",
       "  <tbody>\n",
       "    <tr>\n",
       "      <th>1</th>\n",
       "      <td>man</td>\n",
       "      <td>NN</td>\n",
       "      <td>n</td>\n",
       "      <td>man.n.01</td>\n",
       "    </tr>\n",
       "    <tr>\n",
       "      <th>2</th>\n",
       "      <td>swim</td>\n",
       "      <td>VB</td>\n",
       "      <td>v</td>\n",
       "      <td>swim.v.01</td>\n",
       "    </tr>\n",
       "    <tr>\n",
       "      <th>5</th>\n",
       "      <td>girl</td>\n",
       "      <td>NN</td>\n",
       "      <td>n</td>\n",
       "      <td>girl.n.01</td>\n",
       "    </tr>\n",
       "    <tr>\n",
       "      <th>8</th>\n",
       "      <td>boy</td>\n",
       "      <td>NN</td>\n",
       "      <td>n</td>\n",
       "      <td>boy.n.01</td>\n",
       "    </tr>\n",
       "    <tr>\n",
       "      <th>11</th>\n",
       "      <td>woman</td>\n",
       "      <td>NN</td>\n",
       "      <td>n</td>\n",
       "      <td>woman.n.01</td>\n",
       "    </tr>\n",
       "    <tr>\n",
       "      <th>12</th>\n",
       "      <td>walk</td>\n",
       "      <td>VB</td>\n",
       "      <td>v</td>\n",
       "      <td>walk.v.01</td>\n",
       "    </tr>\n",
       "  </tbody>\n",
       "</table>\n",
       "</div>"
      ],
      "text/plain": [
       "     word pos synset_pos synset_accessor\n",
       "1     man  NN          n        man.n.01\n",
       "2    swim  VB          v       swim.v.01\n",
       "5    girl  NN          n       girl.n.01\n",
       "8     boy  NN          n        boy.n.01\n",
       "11  woman  NN          n      woman.n.01\n",
       "12   walk  VB          v       walk.v.01"
      ]
     },
     "execution_count": 12,
     "metadata": {},
     "output_type": "execute_result"
    }
   ],
   "source": [
    "import pandas as pd\n",
    "synset_pos_converter = {\n",
    "    'NN': 'n',\n",
    "    'VB': 'v',\n",
    "}\n",
    "\n",
    "words_df = pd.DataFrame(words,columns=['word', 'pos'])\n",
    "words_df['synset_pos'] = words_df['pos'].apply(lambda pos: synset_pos_converter[pos] if pos in synset_pos_converter else None)\n",
    "\n",
    "print(f\"Null values: {words_df.isnull().sum()}\")\n",
    "words_df.dropna(inplace=True)\n",
    "print(f\"Null values: {words_df.isnull().sum()}\")\n",
    "\n",
    "words_df['synset_accessor'] = words_df.apply(lambda row: f\"{row['word']}.{row['synset_pos']}.01\", axis=1)\n",
    "words_df\n"
   ]
  },
  {
   "cell_type": "code",
   "execution_count": 13,
   "id": "75c32983",
   "metadata": {},
   "outputs": [],
   "source": [
    "def get_similarity_matrix(words_df: pd.DataFrame, similarity_fn: callable) -> pd.DataFrame:\n",
    "    similarity_matrix = pd.DataFrame(columns=words_df['word'], index=words_df['word'])\n",
    "    for _, (word1, _, _, word1_synset_accessor) in words_df.iterrows():\n",
    "        word1_synset = wn.synset(word1_synset_accessor)\n",
    "        for _, (word2, _, _, word2_synset_accessor) in words_df.iterrows():\n",
    "            word2_synset = wn.synset(word2_synset_accessor)\n",
    "            similarity_matrix.loc[word1, word2] = similarity_fn(word1_synset, word2_synset)\n",
    "    return similarity_matrix"
   ]
  },
  {
   "cell_type": "code",
   "execution_count": 14,
   "id": "8d132fa2",
   "metadata": {},
   "outputs": [
    {
     "data": {
      "text/html": [
       "<div>\n",
       "<style scoped>\n",
       "    .dataframe tbody tr th:only-of-type {\n",
       "        vertical-align: middle;\n",
       "    }\n",
       "\n",
       "    .dataframe tbody tr th {\n",
       "        vertical-align: top;\n",
       "    }\n",
       "\n",
       "    .dataframe thead th {\n",
       "        text-align: right;\n",
       "    }\n",
       "</style>\n",
       "<table border=\"1\" class=\"dataframe\">\n",
       "  <thead>\n",
       "    <tr style=\"text-align: right;\">\n",
       "      <th>word</th>\n",
       "      <th>man</th>\n",
       "      <th>swim</th>\n",
       "      <th>girl</th>\n",
       "      <th>boy</th>\n",
       "      <th>woman</th>\n",
       "      <th>walk</th>\n",
       "    </tr>\n",
       "  </thead>\n",
       "  <tbody>\n",
       "    <tr>\n",
       "      <th>man</th>\n",
       "      <td>3.637586</td>\n",
       "      <td>NaN</td>\n",
       "      <td>2.251292</td>\n",
       "      <td>2.538974</td>\n",
       "      <td>2.538974</td>\n",
       "      <td>NaN</td>\n",
       "    </tr>\n",
       "    <tr>\n",
       "      <th>swim</th>\n",
       "      <td>NaN</td>\n",
       "      <td>3.258097</td>\n",
       "      <td>NaN</td>\n",
       "      <td>NaN</td>\n",
       "      <td>NaN</td>\n",
       "      <td>2.159484</td>\n",
       "    </tr>\n",
       "    <tr>\n",
       "      <th>girl</th>\n",
       "      <td>2.251292</td>\n",
       "      <td>NaN</td>\n",
       "      <td>3.637586</td>\n",
       "      <td>1.845827</td>\n",
       "      <td>2.944439</td>\n",
       "      <td>NaN</td>\n",
       "    </tr>\n",
       "    <tr>\n",
       "      <th>boy</th>\n",
       "      <td>2.538974</td>\n",
       "      <td>NaN</td>\n",
       "      <td>1.845827</td>\n",
       "      <td>3.637586</td>\n",
       "      <td>2.028148</td>\n",
       "      <td>NaN</td>\n",
       "    </tr>\n",
       "    <tr>\n",
       "      <th>woman</th>\n",
       "      <td>2.538974</td>\n",
       "      <td>NaN</td>\n",
       "      <td>2.944439</td>\n",
       "      <td>2.028148</td>\n",
       "      <td>3.637586</td>\n",
       "      <td>NaN</td>\n",
       "    </tr>\n",
       "    <tr>\n",
       "      <th>walk</th>\n",
       "      <td>NaN</td>\n",
       "      <td>2.159484</td>\n",
       "      <td>NaN</td>\n",
       "      <td>NaN</td>\n",
       "      <td>NaN</td>\n",
       "      <td>3.258097</td>\n",
       "    </tr>\n",
       "  </tbody>\n",
       "</table>\n",
       "</div>"
      ],
      "text/plain": [
       "word        man      swim      girl       boy     woman      walk\n",
       "man    3.637586       NaN  2.251292  2.538974  2.538974       NaN\n",
       "swim        NaN  3.258097       NaN       NaN       NaN  2.159484\n",
       "girl   2.251292       NaN  3.637586  1.845827  2.944439       NaN\n",
       "boy    2.538974       NaN  1.845827  3.637586  2.028148       NaN\n",
       "woman  2.538974       NaN  2.944439  2.028148  3.637586       NaN\n",
       "walk        NaN  2.159484       NaN       NaN       NaN  3.258097"
      ]
     },
     "execution_count": 14,
     "metadata": {},
     "output_type": "execute_result"
    }
   ],
   "source": [
    "import pandas as pd\n",
    "\n",
    "path_similarities = get_similarity_matrix(words_df, wn.path_similarity)\n",
    "\n",
    "lch_similarities = pd.DataFrame(index=words_df['word'].to_list(), columns=words_df['word'])\n",
    "verb_words = words_df[words_df['synset_pos'] == 'v']['word'].tolist()\n",
    "lch_similarities.loc[verb_words, verb_words] = get_similarity_matrix(words_df[words_df['synset_pos'] == 'v'], wn.lch_similarity)\n",
    "\n",
    "noun_words = words_df[words_df['synset_pos'] == 'n']['word'].tolist()\n",
    "lch_similarities.loc[noun_words, noun_words] = get_similarity_matrix(words_df[words_df['synset_pos'] == 'n'], wn.lch_similarity)\n",
    "\n",
    "lch_similarities\n"
   ]
  },
  {
   "cell_type": "code",
   "execution_count": 15,
   "id": "65a7cb2c",
   "metadata": {},
   "outputs": [
    {
     "data": {
      "text/plain": [
       "<bound method WordNetCorpusReader.synset of <WordNetCorpusReader in '/Users/zachparent/nltk_data/corpora/wordnet.zip/wordnet/'>>"
      ]
     },
     "execution_count": 15,
     "metadata": {},
     "output_type": "execute_result"
    }
   ],
   "source": [
    "wn.synset"
   ]
  }
 ],
 "metadata": {
  "kernelspec": {
   "display_name": "Python 3 (ipykernel)",
   "language": "python",
   "name": "python3"
  },
  "language_info": {
   "codemirror_mode": {
    "name": "ipython",
    "version": 3
   },
   "file_extension": ".py",
   "mimetype": "text/x-python",
   "name": "python",
   "nbconvert_exporter": "python",
   "pygments_lexer": "ipython3",
   "version": "3.12.5"
  }
 },
 "nbformat": 4,
 "nbformat_minor": 5
}
