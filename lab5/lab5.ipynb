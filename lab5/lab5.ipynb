{
 "cells": [
  {
   "cell_type": "markdown",
   "id": "1e6c2d84",
   "metadata": {},
   "source": [
    "# IHLT Lab 5: Lexical Semantics\n",
    "\n",
    "**Authors:** *Zachary Parent ([zachary.parent](mailto:zachary.parent@estudiantat.upc.edu)), Carlos Jiménez ([carlos.humberto.jimenez](mailto:carlos.humberto.jimenez@estudiantat.upc.edu))*\n",
    "\n",
    "### 2024-10-17\n",
    "\n",
    "**Instructions:**\n",
    "\n",
    "- Given the following (lemma, category) pairs:\n",
    "\n",
    "`(’the’,’DT’), (’man’,’NN’), (’swim’,’VB’), (’with’, ’PR’), (’a’, ’DT’),\n",
    "(’girl’,’NN’), (’and’, ’CC’), (’a’, ’DT’), (’boy’, ’NN’), (’whilst’, ’PR’),\n",
    "(’the’, ’DT’), (’woman’, ’NN’), (’walk’, ’VB’)`\n",
    "\n",
    "- For each pair, when possible, print their most frequent WordNet synset\n",
    "\n",
    "- For each pair of words, when possible, print their corresponding least common subsumer (LCS) and their similarity value, using the following functions:\n",
    "\n",
    "    - Path Similarity\n",
    "\n",
    "    - Peacock-Chodorow Similarity\n",
    "\n",
    "    - Wu-Palmer Similarity\n",
    "\n",
    "    - Lin Similarity\n",
    "\n",
    "Normalize similarity values when necessary. What similarity seems better?\n",
    "\n",
    "## Notes\n",
    "\n",
    "- we should normalize the lch_similarity (not all trees have the same depth)\n",
    "- most frequent ~= most likely\n",
    "- lemmas have an attribute 'count'\n",
    "- given synsets we can get lemmas and counts\n",
    "- we should established rules/criteria to identify which similarity is 'best'\n",
    "- not all the words have an entry in wordnet, in that case computing the similarity is not possible\n",
    "  - we should compute our own sorting method by lemmas count\n"
   ]
  },
  {
   "cell_type": "markdown",
   "id": "c0b181df",
   "metadata": {},
   "source": [
    "## Setup"
   ]
  },
  {
   "cell_type": "code",
   "execution_count": 150,
   "id": "de33e21f",
   "metadata": {},
   "outputs": [],
   "source": [
    "import nltk\n",
    "from nltk.corpus import wordnet as wn\n",
    "from nltk.corpus import wordnet_ic\n",
    "from nltk.corpus import sentiwordnet as swn\n",
    "import math\n",
    "import numpy as np\n",
    "import pandas as pd\n",
    "import matplotlib.pyplot as plt\n",
    "import seaborn as sns\n",
    "from functools import partial\n",
    "import itertools"
   ]
  },
  {
   "cell_type": "code",
   "execution_count": 91,
   "id": "7c7651a0",
   "metadata": {},
   "outputs": [
    {
     "name": "stderr",
     "output_type": "stream",
     "text": [
      "[nltk_data] Downloading package wordnet to\n",
      "[nltk_data]     /home/carlos.jimenez/nltk_data...\n",
      "[nltk_data]   Package wordnet is already up-to-date!\n",
      "[nltk_data] Downloading package omw-1.4 to\n",
      "[nltk_data]     /home/carlos.jimenez/nltk_data...\n",
      "[nltk_data]   Package omw-1.4 is already up-to-date!\n",
      "[nltk_data] Downloading package sentiwordnet to\n",
      "[nltk_data]     /home/carlos.jimenez/nltk_data...\n",
      "[nltk_data]   Package sentiwordnet is already up-to-date!\n",
      "[nltk_data] Downloading package wordnet_ic to\n",
      "[nltk_data]     /home/carlos.jimenez/nltk_data...\n",
      "[nltk_data]   Package wordnet_ic is already up-to-date!\n"
     ]
    },
    {
     "data": {
      "text/plain": [
       "True"
      ]
     },
     "execution_count": 91,
     "metadata": {},
     "output_type": "execute_result"
    }
   ],
   "source": [
    "nltk.download('wordnet')\n",
    "nltk.download('omw-1.4')\n",
    "nltk.download('sentiwordnet')\n",
    "nltk.download('wordnet_ic')"
   ]
  },
  {
   "cell_type": "markdown",
   "id": "5970d0d9",
   "metadata": {},
   "source": [
    "## LCH Normalization"
   ]
  },
  {
   "cell_type": "code",
   "execution_count": 92,
   "id": "e9830a77",
   "metadata": {},
   "outputs": [],
   "source": [
    "def get_max_depth(pos: str):\n",
    "    return max(synset.max_depth() for synset in wn.all_synsets(pos))\n",
    "\n",
    "max_lch = {\n",
    "    'n': math.log(2 * get_max_depth('n')),\n",
    "    'v': math.log(2 * get_max_depth('v'))\n",
    "}\n",
    "\n",
    "def normalized_lch_similarity(synset1, synset2, pos: str):\n",
    "    lch_sim = wn.lch_similarity(synset1, synset2)\n",
    "    return lch_sim / max_lch[pos]  # Sigmoid function\n"
   ]
  },
  {
   "cell_type": "markdown",
   "id": "d265adf7",
   "metadata": {},
   "source": [
    "## WordNet Similarities"
   ]
  },
  {
   "cell_type": "code",
   "execution_count": 93,
   "id": "ec2ec545",
   "metadata": {},
   "outputs": [],
   "source": [
    "words = [('the','DT'), ('man','NN'), ('swim','VB'), ('with', 'PR'), ('a', 'DT'),\n",
    "('girl','NN'), ('and', 'CC'), ('a', 'DT'), ('boy', 'NN'), ('whilst', 'PR'),\n",
    "('the', 'DT'), ('woman', 'NN'), ('walk', 'VB')]"
   ]
  },
  {
   "cell_type": "code",
   "execution_count": 94,
   "id": "2bd1d96b",
   "metadata": {},
   "outputs": [],
   "source": [
    "synset_pos_converter = {\n",
    "    'NN': 'n',\n",
    "    'VB': 'v',\n",
    "}"
   ]
  },
  {
   "cell_type": "code",
   "execution_count": 151,
   "id": "59b240fe",
   "metadata": {},
   "outputs": [],
   "source": [
    "def get_most_frequent_synset(word, pos):\n",
    "    max_count = 0\n",
    "    most_frequent_synset = None \n",
    "\n",
    "    for synset in wn.synsets(word, pos):\n",
    "        for lemma in synset.lemmas():\n",
    "            if lemma.name() == word and lemma.count() > max_count:\n",
    "                max_count = lemma.count()\n",
    "                most_frequent_synset = synset.name()\n",
    "                    \n",
    "    return most_frequent_synset"
   ]
  },
  {
   "cell_type": "markdown",
   "id": "723a5bf7",
   "metadata": {},
   "source": [
    "## Getting Least Common Subsumer (LCS) for each pair of words (when possible)"
   ]
  },
  {
   "cell_type": "code",
   "execution_count": 169,
   "id": "5b2b24bb",
   "metadata": {},
   "outputs": [],
   "source": [
    "def get_lcs(word1, word2):\n",
    "    try:\n",
    "        w1, p1 = word1\n",
    "        w2, p2 = word2\n",
    "\n",
    "        s1 = get_most_frequent_synset(w1, p1)\n",
    "        s2 = get_most_frequent_synset(w2, p2)\n",
    "        \n",
    "        s1 = wn.synset(s1)\n",
    "        s2 = wn.synset(s2)\n",
    "\n",
    "        if s1 and s2:\n",
    "            lcs = s1.lowest_common_hypernyms(s2)\n",
    "            if lcs:\n",
    "                print(f\"LCS for '{w1}' and '{w2}': {lcs[0].name()}\")\n",
    "        else:\n",
    "            print(f\"No synsets found for '{s1}' or '{s2}'\")\n",
    "            \n",
    "    except Exception as e:\n",
    "        print(f\"Error finding LCS: {e}\")"
   ]
  },
  {
   "cell_type": "code",
   "execution_count": 170,
   "id": "9251d0d8",
   "metadata": {},
   "outputs": [
    {
     "name": "stdout",
     "output_type": "stream",
     "text": [
      "LCS for 'man' and 'girl': adult.n.01\n",
      "LCS for 'man' and 'boy': male.n.02\n",
      "LCS for 'man' and 'woman': adult.n.01\n",
      "LCS for 'swim' and 'walk': travel.v.01\n",
      "LCS for 'girl' and 'boy': person.n.01\n",
      "LCS for 'girl' and 'woman': woman.n.01\n",
      "LCS for 'boy' and 'woman': person.n.01\n"
     ]
    }
   ],
   "source": [
    "for i in range(len(words)):\n",
    "    for j in range(i + 1, len(words)):\n",
    "        word1, pos1 = words[i]\n",
    "        word2, pos2 = words[j]\n",
    "        \n",
    "        pos1 = synset_pos_converter.get(pos1)\n",
    "        pos2 = synset_pos_converter.get(pos2)\n",
    "        \n",
    "\n",
    "        # Only compare words with noun (NN) or verb (VB) POS tags\n",
    "        if pos1 and pos2:\n",
    "    #         print(word1, word2)\n",
    "            get_lcs((word1,pos1), (word2, pos2))"
   ]
  },
  {
   "cell_type": "code",
   "execution_count": 96,
   "id": "a61921ac",
   "metadata": {},
   "outputs": [
    {
     "name": "stdout",
     "output_type": "stream",
     "text": [
      "Null values:\n",
      "word          0\n",
      "pos           0\n",
      "synset_pos    7\n",
      "dtype: int64\n",
      "Null values:\n",
      "word          0\n",
      "pos           0\n",
      "synset_pos    0\n",
      "dtype: int64\n"
     ]
    },
    {
     "data": {
      "text/html": [
       "<div>\n",
       "<style scoped>\n",
       "    .dataframe tbody tr th:only-of-type {\n",
       "        vertical-align: middle;\n",
       "    }\n",
       "\n",
       "    .dataframe tbody tr th {\n",
       "        vertical-align: top;\n",
       "    }\n",
       "\n",
       "    .dataframe thead th {\n",
       "        text-align: right;\n",
       "    }\n",
       "</style>\n",
       "<table border=\"1\" class=\"dataframe\">\n",
       "  <thead>\n",
       "    <tr style=\"text-align: right;\">\n",
       "      <th></th>\n",
       "      <th>word</th>\n",
       "      <th>pos</th>\n",
       "      <th>synset_pos</th>\n",
       "      <th>synset_accessor</th>\n",
       "    </tr>\n",
       "  </thead>\n",
       "  <tbody>\n",
       "    <tr>\n",
       "      <th>0</th>\n",
       "      <td>man</td>\n",
       "      <td>NN</td>\n",
       "      <td>n</td>\n",
       "      <td>man.n.01</td>\n",
       "    </tr>\n",
       "    <tr>\n",
       "      <th>1</th>\n",
       "      <td>girl</td>\n",
       "      <td>NN</td>\n",
       "      <td>n</td>\n",
       "      <td>girl.n.01</td>\n",
       "    </tr>\n",
       "    <tr>\n",
       "      <th>2</th>\n",
       "      <td>boy</td>\n",
       "      <td>NN</td>\n",
       "      <td>n</td>\n",
       "      <td>male_child.n.01</td>\n",
       "    </tr>\n",
       "    <tr>\n",
       "      <th>3</th>\n",
       "      <td>woman</td>\n",
       "      <td>NN</td>\n",
       "      <td>n</td>\n",
       "      <td>woman.n.01</td>\n",
       "    </tr>\n",
       "    <tr>\n",
       "      <th>4</th>\n",
       "      <td>swim</td>\n",
       "      <td>VB</td>\n",
       "      <td>v</td>\n",
       "      <td>swim.v.01</td>\n",
       "    </tr>\n",
       "    <tr>\n",
       "      <th>5</th>\n",
       "      <td>walk</td>\n",
       "      <td>VB</td>\n",
       "      <td>v</td>\n",
       "      <td>walk.v.01</td>\n",
       "    </tr>\n",
       "  </tbody>\n",
       "</table>\n",
       "</div>"
      ],
      "text/plain": [
       "    word pos synset_pos  synset_accessor\n",
       "0    man  NN          n         man.n.01\n",
       "1   girl  NN          n        girl.n.01\n",
       "2    boy  NN          n  male_child.n.01\n",
       "3  woman  NN          n       woman.n.01\n",
       "4   swim  VB          v        swim.v.01\n",
       "5   walk  VB          v        walk.v.01"
      ]
     },
     "execution_count": 96,
     "metadata": {},
     "output_type": "execute_result"
    }
   ],
   "source": [
    "words_df = pd.DataFrame(words,columns=['word', 'pos'])\n",
    "words_df['synset_pos'] = words_df['pos'].apply(lambda pos: synset_pos_converter[pos] if pos in synset_pos_converter else None)\n",
    "words_df.sort_values(by='synset_pos', inplace=True)\n",
    "words_df.reset_index(drop=True, inplace=True)\n",
    "\n",
    "print(f\"Null values:\\n{words_df.isnull().sum()}\")\n",
    "words_df.dropna(inplace=True)\n",
    "print(f\"Null values:\\n{words_df.isnull().sum()}\")\n",
    "\n",
    "words_df['synset_accessor'] = words_df.apply(lambda row: get_most_frequent_synset(row['word'], row['synset_pos']), axis=1)\n",
    "words_df"
   ]
  },
  {
   "cell_type": "markdown",
   "id": "fc53995a",
   "metadata": {},
   "source": [
    "# Computing Similarities"
   ]
  },
  {
   "cell_type": "code",
   "execution_count": 97,
   "id": "3e67c138",
   "metadata": {},
   "outputs": [],
   "source": [
    "def get_similarity_matrix(words_df: pd.DataFrame, similarity_fn: callable) -> pd.DataFrame:\n",
    "    similarity_matrix = pd.DataFrame(columns=words_df['word'], index=words_df['word'])\n",
    "    for _, (word1, _, _, word1_synset_accessor) in words_df.iterrows():\n",
    "        word1_synset = wn.synset(word1_synset_accessor)\n",
    "        for _, (word2, _, _, word2_synset_accessor) in words_df.iterrows():\n",
    "            word2_synset = wn.synset(word2_synset_accessor)\n",
    "            similarity_matrix.loc[word1, word2] = similarity_fn(word1_synset, word2_synset)\n",
    "    return similarity_matrix"
   ]
  },
  {
   "cell_type": "markdown",
   "id": "7484e56f",
   "metadata": {},
   "source": [
    "## Path Similarity\n",
    "- Calculates the shortest path distance between two synsets in the WordNet hierarchy.\n",
    "- Lower values indicate higher similarity.\n",
    "- It's simple to compute but can be misleading for concepts with multiple inheritance paths."
   ]
  },
  {
   "cell_type": "code",
   "execution_count": 98,
   "id": "fcbc53ba",
   "metadata": {},
   "outputs": [],
   "source": [
    "verb_words = words_df[words_df['synset_pos'] == 'v']['word'].tolist()\n",
    "noun_words = words_df[words_df['synset_pos'] == 'n']['word'].tolist()"
   ]
  },
  {
   "cell_type": "code",
   "execution_count": 99,
   "id": "915a83d7",
   "metadata": {},
   "outputs": [
    {
     "data": {
      "text/html": [
       "<div>\n",
       "<style scoped>\n",
       "    .dataframe tbody tr th:only-of-type {\n",
       "        vertical-align: middle;\n",
       "    }\n",
       "\n",
       "    .dataframe tbody tr th {\n",
       "        vertical-align: top;\n",
       "    }\n",
       "\n",
       "    .dataframe thead th {\n",
       "        text-align: right;\n",
       "    }\n",
       "</style>\n",
       "<table border=\"1\" class=\"dataframe\">\n",
       "  <thead>\n",
       "    <tr style=\"text-align: right;\">\n",
       "      <th>word</th>\n",
       "      <th>man</th>\n",
       "      <th>girl</th>\n",
       "      <th>boy</th>\n",
       "      <th>woman</th>\n",
       "      <th>swim</th>\n",
       "      <th>walk</th>\n",
       "    </tr>\n",
       "  </thead>\n",
       "  <tbody>\n",
       "    <tr>\n",
       "      <th>man</th>\n",
       "      <td>1.000000</td>\n",
       "      <td>0.250000</td>\n",
       "      <td>0.333333</td>\n",
       "      <td>0.333333</td>\n",
       "      <td>0.000000</td>\n",
       "      <td>0.000000</td>\n",
       "    </tr>\n",
       "    <tr>\n",
       "      <th>girl</th>\n",
       "      <td>0.250000</td>\n",
       "      <td>1.000000</td>\n",
       "      <td>0.166667</td>\n",
       "      <td>0.500000</td>\n",
       "      <td>0.000000</td>\n",
       "      <td>0.000000</td>\n",
       "    </tr>\n",
       "    <tr>\n",
       "      <th>boy</th>\n",
       "      <td>0.333333</td>\n",
       "      <td>0.166667</td>\n",
       "      <td>1.000000</td>\n",
       "      <td>0.200000</td>\n",
       "      <td>0.000000</td>\n",
       "      <td>0.000000</td>\n",
       "    </tr>\n",
       "    <tr>\n",
       "      <th>woman</th>\n",
       "      <td>0.333333</td>\n",
       "      <td>0.500000</td>\n",
       "      <td>0.200000</td>\n",
       "      <td>1.000000</td>\n",
       "      <td>0.000000</td>\n",
       "      <td>0.000000</td>\n",
       "    </tr>\n",
       "    <tr>\n",
       "      <th>swim</th>\n",
       "      <td>0.000000</td>\n",
       "      <td>0.000000</td>\n",
       "      <td>0.000000</td>\n",
       "      <td>0.000000</td>\n",
       "      <td>1.000000</td>\n",
       "      <td>0.333333</td>\n",
       "    </tr>\n",
       "    <tr>\n",
       "      <th>walk</th>\n",
       "      <td>0.000000</td>\n",
       "      <td>0.000000</td>\n",
       "      <td>0.000000</td>\n",
       "      <td>0.000000</td>\n",
       "      <td>0.333333</td>\n",
       "      <td>1.000000</td>\n",
       "    </tr>\n",
       "  </tbody>\n",
       "</table>\n",
       "</div>"
      ],
      "text/plain": [
       "word        man      girl       boy     woman      swim      walk\n",
       "man    1.000000  0.250000  0.333333  0.333333  0.000000  0.000000\n",
       "girl   0.250000  1.000000  0.166667  0.500000  0.000000  0.000000\n",
       "boy    0.333333  0.166667  1.000000  0.200000  0.000000  0.000000\n",
       "woman  0.333333  0.500000  0.200000  1.000000  0.000000  0.000000\n",
       "swim   0.000000  0.000000  0.000000  0.000000  1.000000  0.333333\n",
       "walk   0.000000  0.000000  0.000000  0.000000  0.333333  1.000000"
      ]
     },
     "execution_count": 99,
     "metadata": {},
     "output_type": "execute_result"
    }
   ],
   "source": [
    "# path_similarities = get_similarity_matrix(words_df, wn.path_similarity)\n",
    "path_similarities = pd.DataFrame(index=words_df['word'].to_list(), columns=words_df['word'])\n",
    "path_similarities.loc[verb_words, verb_words] = get_similarity_matrix(words_df[words_df['synset_pos'] == 'v'], wn.path_similarity)\n",
    "path_similarities.loc[noun_words, noun_words] = get_similarity_matrix(words_df[words_df['synset_pos'] == 'n'], wn.path_similarity)\n",
    "path_similarities = path_similarities.astype(float).fillna(0)\n",
    "\n",
    "path_similarities"
   ]
  },
  {
   "cell_type": "markdown",
   "id": "ee206344",
   "metadata": {},
   "source": [
    "## Leacock-Chodorow Similarity\n",
    "\n",
    "- Considers the depth of the least common subsumer (LCS) and the path length to it.\n",
    "- Higher values indicate higher similarity.\n",
    "- It incorporates depth information but is sensitive to the overall depth of the taxonomy."
   ]
  },
  {
   "cell_type": "code",
   "execution_count": 100,
   "id": "fcce00dd",
   "metadata": {},
   "outputs": [
    {
     "data": {
      "text/html": [
       "<div>\n",
       "<style scoped>\n",
       "    .dataframe tbody tr th:only-of-type {\n",
       "        vertical-align: middle;\n",
       "    }\n",
       "\n",
       "    .dataframe tbody tr th {\n",
       "        vertical-align: top;\n",
       "    }\n",
       "\n",
       "    .dataframe thead th {\n",
       "        text-align: right;\n",
       "    }\n",
       "</style>\n",
       "<table border=\"1\" class=\"dataframe\">\n",
       "  <thead>\n",
       "    <tr style=\"text-align: right;\">\n",
       "      <th>word</th>\n",
       "      <th>man</th>\n",
       "      <th>girl</th>\n",
       "      <th>boy</th>\n",
       "      <th>woman</th>\n",
       "      <th>swim</th>\n",
       "      <th>walk</th>\n",
       "    </tr>\n",
       "  </thead>\n",
       "  <tbody>\n",
       "    <tr>\n",
       "      <th>man</th>\n",
       "      <td>1.000000</td>\n",
       "      <td>0.618897</td>\n",
       "      <td>0.697983</td>\n",
       "      <td>0.697983</td>\n",
       "      <td>0.000000</td>\n",
       "      <td>0.000000</td>\n",
       "    </tr>\n",
       "    <tr>\n",
       "      <th>girl</th>\n",
       "      <td>0.618897</td>\n",
       "      <td>1.000000</td>\n",
       "      <td>0.507432</td>\n",
       "      <td>0.809449</td>\n",
       "      <td>0.000000</td>\n",
       "      <td>0.000000</td>\n",
       "    </tr>\n",
       "    <tr>\n",
       "      <th>boy</th>\n",
       "      <td>0.697983</td>\n",
       "      <td>0.507432</td>\n",
       "      <td>1.000000</td>\n",
       "      <td>0.557553</td>\n",
       "      <td>0.000000</td>\n",
       "      <td>0.000000</td>\n",
       "    </tr>\n",
       "    <tr>\n",
       "      <th>woman</th>\n",
       "      <td>0.697983</td>\n",
       "      <td>0.809449</td>\n",
       "      <td>0.557553</td>\n",
       "      <td>1.000000</td>\n",
       "      <td>0.000000</td>\n",
       "      <td>0.000000</td>\n",
       "    </tr>\n",
       "    <tr>\n",
       "      <th>swim</th>\n",
       "      <td>0.000000</td>\n",
       "      <td>0.000000</td>\n",
       "      <td>0.000000</td>\n",
       "      <td>0.000000</td>\n",
       "      <td>1.025186</td>\n",
       "      <td>0.679499</td>\n",
       "    </tr>\n",
       "    <tr>\n",
       "      <th>walk</th>\n",
       "      <td>0.000000</td>\n",
       "      <td>0.000000</td>\n",
       "      <td>0.000000</td>\n",
       "      <td>0.000000</td>\n",
       "      <td>0.679499</td>\n",
       "      <td>1.025186</td>\n",
       "    </tr>\n",
       "  </tbody>\n",
       "</table>\n",
       "</div>"
      ],
      "text/plain": [
       "word        man      girl       boy     woman      swim      walk\n",
       "man    1.000000  0.618897  0.697983  0.697983  0.000000  0.000000\n",
       "girl   0.618897  1.000000  0.507432  0.809449  0.000000  0.000000\n",
       "boy    0.697983  0.507432  1.000000  0.557553  0.000000  0.000000\n",
       "woman  0.697983  0.809449  0.557553  1.000000  0.000000  0.000000\n",
       "swim   0.000000  0.000000  0.000000  0.000000  1.025186  0.679499\n",
       "walk   0.000000  0.000000  0.000000  0.000000  0.679499  1.025186"
      ]
     },
     "execution_count": 100,
     "metadata": {},
     "output_type": "execute_result"
    }
   ],
   "source": [
    "lch_similarities = pd.DataFrame(index=words_df['word'].to_list(), columns=words_df['word'])\n",
    "lch_similarities.loc[verb_words, verb_words] = get_similarity_matrix(words_df[words_df['synset_pos'] == 'v'], partial(normalized_lch_similarity, pos='v'))\n",
    "lch_similarities.loc[noun_words, noun_words] = get_similarity_matrix(words_df[words_df['synset_pos'] == 'n'], partial(normalized_lch_similarity, pos='n'))\n",
    "lch_similarities = lch_similarities.astype(float).fillna(0)\n",
    "\n",
    "lch_similarities"
   ]
  },
  {
   "cell_type": "markdown",
   "id": "4b973f2d",
   "metadata": {},
   "source": [
    "## Wu-Palmer Similarity\n",
    "\n",
    "- Calculates similarity based on the depth of the LCS and the depths of the two synsets.\n",
    "- Higher values indicate higher similarity.\n",
    "- It's more robust than Path similarity and less sensitive to taxonomy depth than LCH."
   ]
  },
  {
   "cell_type": "code",
   "execution_count": 101,
   "id": "78454b22",
   "metadata": {},
   "outputs": [
    {
     "data": {
      "text/html": [
       "<div>\n",
       "<style scoped>\n",
       "    .dataframe tbody tr th:only-of-type {\n",
       "        vertical-align: middle;\n",
       "    }\n",
       "\n",
       "    .dataframe tbody tr th {\n",
       "        vertical-align: top;\n",
       "    }\n",
       "\n",
       "    .dataframe thead th {\n",
       "        text-align: right;\n",
       "    }\n",
       "</style>\n",
       "<table border=\"1\" class=\"dataframe\">\n",
       "  <thead>\n",
       "    <tr style=\"text-align: right;\">\n",
       "      <th>word</th>\n",
       "      <th>man</th>\n",
       "      <th>girl</th>\n",
       "      <th>boy</th>\n",
       "      <th>woman</th>\n",
       "      <th>swim</th>\n",
       "      <th>walk</th>\n",
       "    </tr>\n",
       "  </thead>\n",
       "  <tbody>\n",
       "    <tr>\n",
       "      <th>man</th>\n",
       "      <td>1.000000</td>\n",
       "      <td>0.631579</td>\n",
       "      <td>0.666667</td>\n",
       "      <td>0.666667</td>\n",
       "      <td>0.181818</td>\n",
       "      <td>0.181818</td>\n",
       "    </tr>\n",
       "    <tr>\n",
       "      <th>girl</th>\n",
       "      <td>0.631579</td>\n",
       "      <td>1.000000</td>\n",
       "      <td>0.631579</td>\n",
       "      <td>0.631579</td>\n",
       "      <td>0.166667</td>\n",
       "      <td>0.166667</td>\n",
       "    </tr>\n",
       "    <tr>\n",
       "      <th>boy</th>\n",
       "      <td>0.666667</td>\n",
       "      <td>0.631579</td>\n",
       "      <td>1.000000</td>\n",
       "      <td>0.666667</td>\n",
       "      <td>0.181818</td>\n",
       "      <td>0.181818</td>\n",
       "    </tr>\n",
       "    <tr>\n",
       "      <th>woman</th>\n",
       "      <td>0.666667</td>\n",
       "      <td>0.947368</td>\n",
       "      <td>0.666667</td>\n",
       "      <td>1.000000</td>\n",
       "      <td>0.181818</td>\n",
       "      <td>0.181818</td>\n",
       "    </tr>\n",
       "    <tr>\n",
       "      <th>swim</th>\n",
       "      <td>0.181818</td>\n",
       "      <td>0.166667</td>\n",
       "      <td>0.181818</td>\n",
       "      <td>0.181818</td>\n",
       "      <td>1.000000</td>\n",
       "      <td>0.333333</td>\n",
       "    </tr>\n",
       "    <tr>\n",
       "      <th>walk</th>\n",
       "      <td>0.181818</td>\n",
       "      <td>0.166667</td>\n",
       "      <td>0.181818</td>\n",
       "      <td>0.181818</td>\n",
       "      <td>0.333333</td>\n",
       "      <td>1.000000</td>\n",
       "    </tr>\n",
       "  </tbody>\n",
       "</table>\n",
       "</div>"
      ],
      "text/plain": [
       "word        man      girl       boy     woman      swim      walk\n",
       "man    1.000000  0.631579  0.666667  0.666667  0.181818  0.181818\n",
       "girl   0.631579  1.000000  0.631579  0.631579  0.166667  0.166667\n",
       "boy    0.666667  0.631579  1.000000  0.666667  0.181818  0.181818\n",
       "woman  0.666667  0.947368  0.666667  1.000000  0.181818  0.181818\n",
       "swim   0.181818  0.166667  0.181818  0.181818  1.000000  0.333333\n",
       "walk   0.181818  0.166667  0.181818  0.181818  0.333333  1.000000"
      ]
     },
     "execution_count": 101,
     "metadata": {},
     "output_type": "execute_result"
    }
   ],
   "source": [
    "wup_similarities = pd.DataFrame(index=words_df['word'].to_list(), columns=words_df['word'])\n",
    "wup_similarities.loc[:] = get_similarity_matrix(words_df, wn.wup_similarity)\n",
    "wup_similarities = wup_similarities.astype(float)\n",
    "\n",
    "wup_similarities"
   ]
  },
  {
   "cell_type": "markdown",
   "id": "94bd91b4",
   "metadata": {},
   "source": [
    "## Lin Similarity\n",
    "\n",
    "- Uses the Information Content (IC) of the LCS and the two synsets. \n",
    "- Higher values indicate higher similarity.\n",
    "- It incorporates information content, reflecting the specificity of concepts, but requires pre-computed IC values."
   ]
  },
  {
   "cell_type": "code",
   "execution_count": 113,
   "id": "90092f80",
   "metadata": {},
   "outputs": [
    {
     "data": {
      "text/html": [
       "<div>\n",
       "<style scoped>\n",
       "    .dataframe tbody tr th:only-of-type {\n",
       "        vertical-align: middle;\n",
       "    }\n",
       "\n",
       "    .dataframe tbody tr th {\n",
       "        vertical-align: top;\n",
       "    }\n",
       "\n",
       "    .dataframe thead th {\n",
       "        text-align: right;\n",
       "    }\n",
       "</style>\n",
       "<table border=\"1\" class=\"dataframe\">\n",
       "  <thead>\n",
       "    <tr style=\"text-align: right;\">\n",
       "      <th>word</th>\n",
       "      <th>man</th>\n",
       "      <th>girl</th>\n",
       "      <th>boy</th>\n",
       "      <th>woman</th>\n",
       "      <th>swim</th>\n",
       "      <th>walk</th>\n",
       "    </tr>\n",
       "  </thead>\n",
       "  <tbody>\n",
       "    <tr>\n",
       "      <th>man</th>\n",
       "      <td>1.000000</td>\n",
       "      <td>0.713511</td>\n",
       "      <td>0.729472</td>\n",
       "      <td>0.787084</td>\n",
       "      <td>0.000000</td>\n",
       "      <td>0.000000</td>\n",
       "    </tr>\n",
       "    <tr>\n",
       "      <th>girl</th>\n",
       "      <td>0.713511</td>\n",
       "      <td>1.000000</td>\n",
       "      <td>0.292728</td>\n",
       "      <td>0.906780</td>\n",
       "      <td>0.000000</td>\n",
       "      <td>0.000000</td>\n",
       "    </tr>\n",
       "    <tr>\n",
       "      <th>boy</th>\n",
       "      <td>0.729472</td>\n",
       "      <td>0.292728</td>\n",
       "      <td>1.000000</td>\n",
       "      <td>0.318423</td>\n",
       "      <td>0.000000</td>\n",
       "      <td>0.000000</td>\n",
       "    </tr>\n",
       "    <tr>\n",
       "      <th>woman</th>\n",
       "      <td>0.787084</td>\n",
       "      <td>0.906780</td>\n",
       "      <td>0.318423</td>\n",
       "      <td>1.000000</td>\n",
       "      <td>0.000000</td>\n",
       "      <td>0.000000</td>\n",
       "    </tr>\n",
       "    <tr>\n",
       "      <th>swim</th>\n",
       "      <td>0.000000</td>\n",
       "      <td>0.000000</td>\n",
       "      <td>0.000000</td>\n",
       "      <td>0.000000</td>\n",
       "      <td>1.000000</td>\n",
       "      <td>0.491005</td>\n",
       "    </tr>\n",
       "    <tr>\n",
       "      <th>walk</th>\n",
       "      <td>0.000000</td>\n",
       "      <td>0.000000</td>\n",
       "      <td>0.000000</td>\n",
       "      <td>0.000000</td>\n",
       "      <td>0.491005</td>\n",
       "      <td>1.000000</td>\n",
       "    </tr>\n",
       "  </tbody>\n",
       "</table>\n",
       "</div>"
      ],
      "text/plain": [
       "word        man      girl       boy     woman      swim      walk\n",
       "man    1.000000  0.713511  0.729472  0.787084  0.000000  0.000000\n",
       "girl   0.713511  1.000000  0.292728  0.906780  0.000000  0.000000\n",
       "boy    0.729472  0.292728  1.000000  0.318423  0.000000  0.000000\n",
       "woman  0.787084  0.906780  0.318423  1.000000  0.000000  0.000000\n",
       "swim   0.000000  0.000000  0.000000  0.000000  1.000000  0.491005\n",
       "walk   0.000000  0.000000  0.000000  0.000000  0.491005  1.000000"
      ]
     },
     "execution_count": 113,
     "metadata": {},
     "output_type": "execute_result"
    }
   ],
   "source": [
    "brown_ic = wordnet_ic.ic('ic-brown.dat') # information content\n",
    "\n",
    "lin_similarities = pd.DataFrame(index=words_df['word'].to_list(), columns=words_df['word'])\n",
    "lin_similarities.loc[verb_words, verb_words] = get_similarity_matrix(words_df[words_df['synset_pos'] == 'v'], partial(wn.lin_similarity, ic=brown_ic))\n",
    "lin_similarities.loc[noun_words, noun_words] = get_similarity_matrix(words_df[words_df['synset_pos'] == 'n'], partial(wn.lin_similarity, ic=brown_ic))\n",
    "lin_similarities = lin_similarities.astype(float).fillna(0)\n",
    "\n",
    "lin_similarities"
   ]
  },
  {
   "cell_type": "markdown",
   "id": "139eeb7c",
   "metadata": {},
   "source": [
    "# Visualizations"
   ]
  },
  {
   "cell_type": "code",
   "execution_count": 103,
   "id": "28bc8abf",
   "metadata": {},
   "outputs": [
    {
     "data": {
      "image/png": "[encoded data removed]",
      "text/plain": [
       "<Figure size 648x720 with 4 Axes>"
      ]
     },
     "metadata": {
      "needs_background": "light"
     },
     "output_type": "display_data"
    }
   ],
   "source": [
    "def plot_similarity_matrix(ax, similarity_matrix: pd.DataFrame, title: str):\n",
    "    sns.heatmap(similarity_matrix, annot=True, fmt='.2f', cmap='coolwarm', ax=ax, cbar=False)\n",
    "    ax.set_title(title)\n",
    "\n",
    "fig, axs = plt.subplots(2, 2, figsize=(9, 10))\n",
    "\n",
    "plot_similarity_matrix(axs[0, 0], path_similarities, 'Path Similarity')\n",
    "plot_similarity_matrix(axs[0, 1], lch_similarities, 'LCH Similarity')\n",
    "plot_similarity_matrix(axs[1, 0], wup_similarities, 'WUP Similarity')\n",
    "plot_similarity_matrix(axs[1, 1], lin_similarities, 'LIN Similarity')\n",
    "\n",
    "fig.suptitle('Similarity Matrices', fontsize=16)\n",
    "plt.tight_layout()\n",
    "plt.show()\n"
   ]
  },
  {
   "cell_type": "markdown",
   "id": "3f80c756",
   "metadata": {},
   "source": [
    "## Investigating the discrepency in Wu-Palmer Similarity between girl and woman\n",
    "\n",
    "### We noticed that the Wu-Palmer Similarity between woman and girl is ~0.95, while the similarity between girl and woman is 0.63.\n",
    "\n",
    "### To understand this issue, we decided to calculate the similarity manually."
   ]
  },
  {
   "cell_type": "code",
   "execution_count": 104,
   "id": "8d1b35ae",
   "metadata": {},
   "outputs": [
    {
     "name": "stdout",
     "output_type": "stream",
     "text": [
      "similarity between woman and girl: 0.9473684210526315\n",
      "similarity between girl and woman: 0.631578947368421\n"
     ]
    }
   ],
   "source": [
    "print(f\"similarity between woman and girl: {wn.wup_similarity(wn.synset('woman.n.01'), wn.synset('girl.n.01'))}\")\n",
    "print (f\"similarity between girl and woman: {wn.wup_similarity(wn.synset('girl.n.01'), wn.synset('woman.n.01'))}\")"
   ]
  },
  {
   "cell_type": "code",
   "execution_count": 105,
   "id": "dd7b2a1c",
   "metadata": {},
   "outputs": [
    {
     "name": "stdout",
     "output_type": "stream",
     "text": [
      "Manually calculated similarity between woman and girl: 0.9411764705882353\n"
     ]
    }
   ],
   "source": [
    "woman = wn.synset('woman.n.01')\n",
    "girl = wn.synset('girl.n.01')\n",
    "lcs = woman.lowest_common_hypernyms(girl)[0]\n",
    "\n",
    "similarity = 2 * lcs.max_depth() / (woman.max_depth() + girl.max_depth())\n",
    "print(f\"Manually calculated similarity between woman and girl: {similarity}\")"
   ]
  },
  {
   "cell_type": "code",
   "execution_count": 106,
   "id": "1ba524a2",
   "metadata": {},
   "outputs": [
    {
     "name": "stdout",
     "output_type": "stream",
     "text": [
      "Manually calculated similarity between girl and woman: 0.9411764705882353\n"
     ]
    }
   ],
   "source": [
    "woman = wn.synset('woman.n.01')\n",
    "girl = wn.synset('girl.n.01')\n",
    "lcs = girl.lowest_common_hypernyms(woman)[0]\n",
    "\n",
    "similarity = 2 * lcs.max_depth() / (woman.max_depth() + girl.max_depth())\n",
    "print(f\"Manually calculated similarity between girl and woman: {similarity}\")"
   ]
  },
  {
   "cell_type": "markdown",
   "id": "740c5152",
   "metadata": {},
   "source": [
    "As expected, the similarity between girl and woman is the same as the similarity between woman and girl. Perhaps the cached similarity in the wn.wup_similarity function is incorrect."
   ]
  },
  {
   "cell_type": "code",
   "execution_count": 107,
   "id": "98dd4aa8",
   "metadata": {},
   "outputs": [
    {
     "data": {
      "image/png": "[encoded data removed]",
      "text/plain": [
       "<Figure size 648x720 with 1 Axes>"
      ]
     },
     "metadata": {
      "needs_background": "light"
     },
     "output_type": "display_data"
    }
   ],
   "source": [
    "gold_standard_similarity = pd.DataFrame(\n",
    "    columns=['man', 'girl', 'boy', 'woman', 'swim', 'walk'],\n",
    "    index=['man', 'girl', 'boy', 'woman', 'swim', 'walk'],\n",
    "    data={\n",
    "        'man': [1.0, 0.4, 0.7, 0.6, 0.1, 0.1],\n",
    "        'girl': [0.4, 1.0, 0.6, 0.7, 0.1, 0.1],\n",
    "        'boy': [0.7, 0.6, 1.0, 0.4, 0.1, 0.1],\n",
    "        'woman': [0.6, 0.7, 0.4, 1.0, 0.1, 0.1],\n",
    "        'swim': [0.1, 0.1, 0.1, 0.1, 1.0, 0.7],\n",
    "        'walk': [0.1, 0.1, 0.1, 0.1, 0.7, 1.0]\n",
    "})\n",
    "fig, ax = plt.subplots(1, 1, figsize=(9, 10))\n",
    "plot_similarity_matrix(ax, gold_standard_similarity, 'Gold Standard Similarity')\n",
    "plt.show()\n"
   ]
  },
  {
   "cell_type": "code",
   "execution_count": 112,
   "id": "0befdf4f",
   "metadata": {},
   "outputs": [
    {
     "name": "stdout",
     "output_type": "stream",
     "text": [
      "Similarity scores (Pearson correlation with gold standard):\n"
     ]
    },
    {
     "data": {
      "text/html": [
       "<div>\n",
       "<style scoped>\n",
       "    .dataframe tbody tr th:only-of-type {\n",
       "        vertical-align: middle;\n",
       "    }\n",
       "\n",
       "    .dataframe tbody tr th {\n",
       "        vertical-align: top;\n",
       "    }\n",
       "\n",
       "    .dataframe thead th {\n",
       "        text-align: right;\n",
       "    }\n",
       "</style>\n",
       "<table border=\"1\" class=\"dataframe\">\n",
       "  <thead>\n",
       "    <tr style=\"text-align: right;\">\n",
       "      <th></th>\n",
       "      <th>Function</th>\n",
       "      <th>Score</th>\n",
       "    </tr>\n",
       "  </thead>\n",
       "  <tbody>\n",
       "    <tr>\n",
       "      <th>0</th>\n",
       "      <td>Path</td>\n",
       "      <td>0.936580</td>\n",
       "    </tr>\n",
       "    <tr>\n",
       "      <th>1</th>\n",
       "      <td>LCH</td>\n",
       "      <td>0.975836</td>\n",
       "    </tr>\n",
       "    <tr>\n",
       "      <th>2</th>\n",
       "      <td>WUP</td>\n",
       "      <td>0.926219</td>\n",
       "    </tr>\n",
       "    <tr>\n",
       "      <th>3</th>\n",
       "      <td>Lin</td>\n",
       "      <td>0.940212</td>\n",
       "    </tr>\n",
       "  </tbody>\n",
       "</table>\n",
       "</div>"
      ],
      "text/plain": [
       "  Function     Score\n",
       "0     Path  0.936580\n",
       "1      LCH  0.975836\n",
       "2      WUP  0.926219\n",
       "3      Lin  0.940212"
      ]
     },
     "execution_count": 112,
     "metadata": {},
     "output_type": "execute_result"
    }
   ],
   "source": [
    "from scipy.stats import pearsonr\n",
    "\n",
    "similarity_scores = {\n",
    "    'Path': pearsonr(path_similarities.values.flatten(), gold_standard_similarity.values.flatten())[0],\n",
    "    'LCH': pearsonr(lch_similarities.values.flatten(), gold_standard_similarity.values.flatten())[0],\n",
    "    'WUP': pearsonr(wup_similarities.values.flatten(), gold_standard_similarity.values.flatten())[0],\n",
    "    'Lin': pearsonr(lin_similarities.values.flatten(), gold_standard_similarity.values.flatten())[0]\n",
    "}\n",
    "\n",
    "# print(similarity_scores)\n",
    "# similarity_scores = pd.DataFrame(np.array(similarity_scores).T, columns=['Score'])\n",
    "\n",
    "\n",
    "similarity_scores = pd.DataFrame(list(similarity_scores.items()), columns=['Function', 'Score'])\n",
    "\n",
    "\n",
    "print(\"Similarity scores (Pearson correlation with gold standard):\")\n",
    "similarity_scores"
   ]
  },
  {
   "cell_type": "markdown",
   "id": "b7c42743",
   "metadata": {},
   "source": [
    "# Conclusions\n",
    "\n",
    "- ### What similarity seems better?\n",
    "\n",
    "\n",
    "\n",
    "### In this lab we evaluated different similarity functions for synsets, our analysis of various lexical similarity measures reveals that ***Wu-Palmer*** and ***Lin similarity*** exhibit a stronger correlation with human intuition regarding semantic relatedness compared to Path and Leacock-Chodorow similarity. \n",
    "\n",
    "### This is evidenced by their higher Pearson correlation with the gold standard and superior performance in capturing the nuanced relationships between word pairs such as (\"man\", \"woman\") and (\"swim\", \"walk\"). However, it is crucial to acknowledge that the effectiveness of a similarity measure can be context-dependent.  \n",
    "\n",
    "### Further investigation involving correlation with human judgments and evaluation on specific NLP tasks, such as word sense disambiguation or text classification, is necessary to definitively determine the most suitable measure for a given application.  While Wu-Palmer and Lin similarity appear promising based on our initial analysis, future research should explore their limitations and potential areas for improvement, particularly in addressing complex linguistic phenomena like metaphor and polysemy.\n"
   ]
  }
 ],
 "metadata": {
  "kernelspec": {
   "display_name": "Python 3 (ipykernel)",
   "language": "python",
   "name": "python3"
  },
  "language_info": {
   "codemirror_mode": {
    "name": "ipython",
    "version": 3
   },
   "file_extension": ".py",
   "mimetype": "text/x-python",
   "name": "python",
   "nbconvert_exporter": "python",
   "pygments_lexer": "ipython3",
   "version": "3.8.10"
  }
 },
 "nbformat": 4,
 "nbformat_minor": 5
}
