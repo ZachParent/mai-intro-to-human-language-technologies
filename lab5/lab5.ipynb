{
 "cells": [
  {
   "cell_type": "markdown",
   "id": "6f764cfa",
   "metadata": {},
   "source": [
    "# IHLT Lab 5: Lexical Semantics\n",
    "\n",
    "**Authors:** *Zachary Parent ([zachary.parent](mailto:zachary.parent@estudiantat.upc.edu)), Carlos Jiménez ([carlos.humberto.jimenez](mailto:carlos.humberto.jimenez@estudiantat.upc.edu))*\n",
    "\n",
    "### 2024-10-17\n",
    "\n",
    "**Instructions:**\n",
    "\n",
    "- Given the following (lemma, category) pairs:\n",
    "\n",
    "`(’the’,’DT’), (’man’,’NN’), (’swim’,’VB’), (’with’, ’PR’), (’a’, ’DT’),\n",
    "(’girl’,’NN’), (’and’, ’CC’), (’a’, ’DT’), (’boy’, ’NN’), (’whilst’, ’PR’),\n",
    "(’the’, ’DT’), (’woman’, ’NN’), (’walk’, ’VB’)`\n",
    "\n",
    "- For each pair, when possible, print their most frequent WordNet synset\n",
    "\n",
    "- For each pair of words, when possible, print their corresponding least common subsumer (LCS) and their similarity value, using the following functions:\n",
    "\n",
    "    - Path Similarity\n",
    "\n",
    "    - Peacock-Chodorow Similarity\n",
    "\n",
    "    - Wu-Palmer Similarity\n",
    "\n",
    "    - Lin Similarity\n",
    "\n",
    "Normalize similarity values when necessary. What similarity seems better?\n",
    "\n",
    "## Notes\n",
    "\n",
    "- we should normalize the lch_similarity (not all trees have the same depth)\n",
    "- most frequent ~= most likely\n",
    "- lemmas have an attribute 'count'\n",
    "- given synsets we can get lemmas and counts\n",
    "- we should established rules/criteria to identify which similarity is 'best'\n",
    "- not all the words have an entry in wordnet, in that case computing the similarity is not possible\n",
    "  - we should compute our own sorting method by lemmas count\n"
   ]
  },
  {
   "cell_type": "markdown",
   "id": "7c7a084a",
   "metadata": {},
   "source": [
    "## Setup"
   ]
  },
  {
   "cell_type": "code",
   "execution_count": 1,
   "id": "da584623",
   "metadata": {},
   "outputs": [],
   "source": [
    "import nltk\n",
    "from nltk.corpus import wordnet as wn\n",
    "from nltk.corpus import wordnet_ic\n",
    "from nltk.corpus import sentiwordnet as swn\n",
    "import math\n",
    "import operator\n",
    "import pandas as pd\n",
    "import matplotlib.pyplot as plt\n",
    "import seaborn as sns\n",
    "import numpy as np\n",
    "from functools import partial"
   ]
  },
  {
   "cell_type": "code",
   "execution_count": 2,
   "id": "546bb964",
   "metadata": {},
   "outputs": [
    {
     "name": "stderr",
     "output_type": "stream",
     "text": [
      "[nltk_data] Downloading package wordnet to\n",
      "[nltk_data]     /Users/zachparent/nltk_data...\n",
      "[nltk_data]   Package wordnet is already up-to-date!\n",
      "[nltk_data] Downloading package omw-1.4 to\n",
      "[nltk_data]     /Users/zachparent/nltk_data...\n",
      "[nltk_data]   Package omw-1.4 is already up-to-date!\n",
      "[nltk_data] Downloading package sentiwordnet to\n",
      "[nltk_data]     /Users/zachparent/nltk_data...\n",
      "[nltk_data]   Package sentiwordnet is already up-to-date!\n",
      "[nltk_data] Downloading package wordnet_ic to\n",
      "[nltk_data]     /Users/zachparent/nltk_data...\n",
      "[nltk_data]   Package wordnet_ic is already up-to-date!\n"
     ]
    },
    {
     "data": {
      "text/plain": [
       "True"
      ]
     },
     "execution_count": 2,
     "metadata": {},
     "output_type": "execute_result"
    }
   ],
   "source": [
    "nltk.download('wordnet')\n",
    "nltk.download('omw-1.4')\n",
    "nltk.download('sentiwordnet')\n",
    "nltk.download('wordnet_ic')"
   ]
  },
  {
   "cell_type": "code",
   "execution_count": 3,
   "id": "d1b14f3b",
   "metadata": {},
   "outputs": [],
   "source": [
    "dog = wn.synset('dog.n.01')\n",
    "cat = wn.synset('cat.n.01')\n",
    "word = wn.synsets('word', 'n')"
   ]
  },
  {
   "cell_type": "code",
   "execution_count": 4,
   "id": "61331c9d",
   "metadata": {},
   "outputs": [
    {
     "name": "stdout",
     "output_type": "stream",
     "text": [
      "word.n.01\n",
      "word 117\n",
      "\n",
      "word.n.02\n",
      "word 18\n",
      "\n",
      "news.n.01\n",
      "news 21\n",
      "intelligence 0\n",
      "tidings 3\n",
      "word 5\n",
      "\n",
      "word.n.04\n",
      "word 3\n",
      "\n",
      "discussion.n.02\n",
      "discussion 25\n",
      "give-and-take 0\n",
      "word 3\n",
      "\n",
      "parole.n.01\n",
      "parole 0\n",
      "word 1\n",
      "word_of_honor 0\n",
      "\n",
      "word.n.07\n",
      "word 0\n",
      "\n",
      "son.n.02\n",
      "Son 2\n",
      "Word 0\n",
      "Logos 0\n",
      "\n",
      "password.n.01\n",
      "password 0\n",
      "watchword 0\n",
      "word 0\n",
      "parole 0\n",
      "countersign 0\n",
      "\n",
      "bible.n.01\n",
      "Bible 13\n",
      "Christian_Bible 0\n",
      "Book 0\n",
      "Good_Book 0\n",
      "Holy_Scripture 1\n",
      "Holy_Writ 0\n",
      "Scripture 5\n",
      "Word_of_God 1\n",
      "Word 0\n",
      "\n"
     ]
    }
   ],
   "source": [
    "for s in word:\n",
    "    print(s.name())\n",
    "    for l in s.lemmas():\n",
    "        print(l.name(), l.count())\n",
    "        \n",
    "    print()"
   ]
  },
  {
   "cell_type": "markdown",
   "id": "e8bcb5f8",
   "metadata": {},
   "source": [
    "## helper methods"
   ]
  },
  {
   "cell_type": "code",
   "execution_count": 5,
   "id": "ba93a1ee",
   "metadata": {},
   "outputs": [],
   "source": [
    "def getRelations(ss):\n",
    "    lexRels = ['hypernyms', 'instance_hypernyms', 'hyponyms', \\\n",
    "       'instance_hyponyms', 'member_holonyms', 'substance_holonyms', \\\n",
    "       'part_holonyms', 'member_meronyms', 'substance_meronyms', \\\n",
    "       'part_meronyms', 'attributes', 'entailments', 'causes', 'also_sees', \\\n",
    "       'verb_groups', 'similar_tos']\n",
    "    def getRelValue(ss, rel):\n",
    "        method = getattr(ss, rel)\n",
    "        return method()\n",
    "    \n",
    "    results = {}\n",
    "    for rel in lexRels:\n",
    "        val = getRelValue(ss, rel)\n",
    "        if val != []:\n",
    "            results[rel] = val\n",
    "    return results"
   ]
  },
  {
   "cell_type": "code",
   "execution_count": 6,
   "id": "c6c73969",
   "metadata": {},
   "outputs": [],
   "source": [
    "def normalized_lch_similarity(synset1, synset2):\n",
    "    lch_sim = wn.lch_similarity(synset1, synset2)\n",
    "    return 1 / (1 + math.exp(-lch_sim))  # Sigmoid function"
   ]
  },
  {
   "cell_type": "markdown",
   "id": "f969e9db",
   "metadata": {},
   "source": [
    "## WordNet Similarities"
   ]
  },
  {
   "cell_type": "code",
   "execution_count": 7,
   "id": "2652cce3",
   "metadata": {},
   "outputs": [
    {
     "data": {
      "text/plain": [
       "[Synset('carnivore.n.01')]"
      ]
     },
     "execution_count": 7,
     "metadata": {},
     "output_type": "execute_result"
    }
   ],
   "source": [
    "dog.lowest_common_hypernyms(cat) "
   ]
  },
  {
   "cell_type": "code",
   "execution_count": 8,
   "id": "f6ad87f8",
   "metadata": {},
   "outputs": [
    {
     "data": {
      "text/plain": [
       "0.2"
      ]
     },
     "execution_count": 8,
     "metadata": {},
     "output_type": "execute_result"
    }
   ],
   "source": [
    "dog.path_similarity(cat)"
   ]
  },
  {
   "cell_type": "code",
   "execution_count": 9,
   "id": "a3852f81",
   "metadata": {},
   "outputs": [
    {
     "name": "stdout",
     "output_type": "stream",
     "text": [
      "2.0281482472922856\n"
     ]
    },
    {
     "data": {
      "text/plain": [
       "0.8837209302325582"
      ]
     },
     "execution_count": 9,
     "metadata": {},
     "output_type": "execute_result"
    }
   ],
   "source": [
    "print(dog.lch_similarity(cat))\n",
    "normalized_lch_similarity(dog, cat)"
   ]
  },
  {
   "cell_type": "code",
   "execution_count": 10,
   "id": "e4fbfb0f",
   "metadata": {},
   "outputs": [
    {
     "data": {
      "text/plain": [
       "0.8571428571428571"
      ]
     },
     "execution_count": 10,
     "metadata": {},
     "output_type": "execute_result"
    }
   ],
   "source": [
    "wn.wup_similarity(dog,cat) "
   ]
  },
  {
   "cell_type": "code",
   "execution_count": 11,
   "id": "14f7d5fc",
   "metadata": {},
   "outputs": [
    {
     "data": {
      "text/plain": [
       "0.8768009843733973"
      ]
     },
     "execution_count": 11,
     "metadata": {},
     "output_type": "execute_result"
    }
   ],
   "source": [
    "brown_ic = wordnet_ic.ic('ic-brown.dat')\n",
    "wn.lin_similarity(dog, cat, brown_ic)"
   ]
  },
  {
   "cell_type": "markdown",
   "id": "a62a160b",
   "metadata": {},
   "source": [
    "## SentiWordnet "
   ]
  },
  {
   "cell_type": "code",
   "execution_count": 12,
   "id": "a296df8c",
   "metadata": {},
   "outputs": [
    {
     "data": {
      "text/plain": [
       "(0.75, 0.0, 0.25)"
      ]
     },
     "execution_count": 12,
     "metadata": {},
     "output_type": "execute_result"
    }
   ],
   "source": [
    "# getting the wordnet synset\n",
    "synset = wn.synset('good.a.1')\n",
    "# getting the sentiwordnet synset\n",
    "sentiSynset = swn.senti_synset(synset.name())\n",
    "\n",
    "sentiSynset.pos_score(), sentiSynset.neg_score(), sentiSynset.obj_score()"
   ]
  },
  {
   "cell_type": "code",
   "execution_count": 13,
   "id": "15eac63a",
   "metadata": {},
   "outputs": [],
   "source": [
    "words = [('the','DT'), ('man','NN'), ('swim','VB'), ('with', 'PR'), ('a', 'DT'),\n",
    "('girl','NN'), ('and', 'CC'), ('a', 'DT'), ('boy', 'NN'), ('whilst', 'PR'),\n",
    "('the', 'DT'), ('woman', 'NN'), ('walk', 'VB')]"
   ]
  },
  {
   "cell_type": "code",
   "execution_count": 14,
   "id": "496c3752",
   "metadata": {},
   "outputs": [],
   "source": [
    "synset_pos_converter = {\n",
    "    'NN': 'n',\n",
    "    'VB': 'v',\n",
    "}"
   ]
  },
  {
   "cell_type": "code",
   "execution_count": 15,
   "id": "7819a003",
   "metadata": {},
   "outputs": [],
   "source": [
    "def get_most_frequent_synset(word, pos):\n",
    "    max_count = 0\n",
    "    most_frequent_synset = None \n",
    "\n",
    "    for synset in wn.synsets(word, pos):\n",
    "        for lemma in synset.lemmas():\n",
    "            if lemma.name() == word and lemma.count() > max_count:\n",
    "                max_count = lemma.count()\n",
    "                most_frequent_synset = synset.name()\n",
    "                    \n",
    "    return most_frequent_synset"
   ]
  },
  {
   "cell_type": "code",
   "execution_count": 16,
   "id": "f0bdb392",
   "metadata": {},
   "outputs": [
    {
     "name": "stdout",
     "output_type": "stream",
     "text": [
      "Null values:\n",
      "word          0\n",
      "pos           0\n",
      "synset_pos    7\n",
      "dtype: int64\n",
      "Null values:\n",
      "word          0\n",
      "pos           0\n",
      "synset_pos    0\n",
      "dtype: int64\n"
     ]
    },
    {
     "data": {
      "text/html": [
       "<div>\n",
       "<style scoped>\n",
       "    .dataframe tbody tr th:only-of-type {\n",
       "        vertical-align: middle;\n",
       "    }\n",
       "\n",
       "    .dataframe tbody tr th {\n",
       "        vertical-align: top;\n",
       "    }\n",
       "\n",
       "    .dataframe thead th {\n",
       "        text-align: right;\n",
       "    }\n",
       "</style>\n",
       "<table border=\"1\" class=\"dataframe\">\n",
       "  <thead>\n",
       "    <tr style=\"text-align: right;\">\n",
       "      <th></th>\n",
       "      <th>word</th>\n",
       "      <th>pos</th>\n",
       "      <th>synset_pos</th>\n",
       "      <th>synset_accessor</th>\n",
       "    </tr>\n",
       "  </thead>\n",
       "  <tbody>\n",
       "    <tr>\n",
       "      <th>0</th>\n",
       "      <td>man</td>\n",
       "      <td>NN</td>\n",
       "      <td>n</td>\n",
       "      <td>man.n.01</td>\n",
       "    </tr>\n",
       "    <tr>\n",
       "      <th>1</th>\n",
       "      <td>girl</td>\n",
       "      <td>NN</td>\n",
       "      <td>n</td>\n",
       "      <td>girl.n.01</td>\n",
       "    </tr>\n",
       "    <tr>\n",
       "      <th>2</th>\n",
       "      <td>boy</td>\n",
       "      <td>NN</td>\n",
       "      <td>n</td>\n",
       "      <td>male_child.n.01</td>\n",
       "    </tr>\n",
       "    <tr>\n",
       "      <th>3</th>\n",
       "      <td>woman</td>\n",
       "      <td>NN</td>\n",
       "      <td>n</td>\n",
       "      <td>woman.n.01</td>\n",
       "    </tr>\n",
       "    <tr>\n",
       "      <th>4</th>\n",
       "      <td>swim</td>\n",
       "      <td>VB</td>\n",
       "      <td>v</td>\n",
       "      <td>swim.v.01</td>\n",
       "    </tr>\n",
       "    <tr>\n",
       "      <th>5</th>\n",
       "      <td>walk</td>\n",
       "      <td>VB</td>\n",
       "      <td>v</td>\n",
       "      <td>walk.v.01</td>\n",
       "    </tr>\n",
       "  </tbody>\n",
       "</table>\n",
       "</div>"
      ],
      "text/plain": [
       "    word pos synset_pos  synset_accessor\n",
       "0    man  NN          n         man.n.01\n",
       "1   girl  NN          n        girl.n.01\n",
       "2    boy  NN          n  male_child.n.01\n",
       "3  woman  NN          n       woman.n.01\n",
       "4   swim  VB          v        swim.v.01\n",
       "5   walk  VB          v        walk.v.01"
      ]
     },
     "execution_count": 16,
     "metadata": {},
     "output_type": "execute_result"
    }
   ],
   "source": [
    "\n",
    "words_df = pd.DataFrame(words,columns=['word', 'pos'])\n",
    "words_df['synset_pos'] = words_df['pos'].apply(lambda pos: synset_pos_converter[pos] if pos in synset_pos_converter else None)\n",
    "words_df.sort_values(by='synset_pos', inplace=True)\n",
    "words_df.reset_index(drop=True, inplace=True)\n",
    "\n",
    "print(f\"Null values:\\n{words_df.isnull().sum()}\")\n",
    "words_df.dropna(inplace=True)\n",
    "print(f\"Null values:\\n{words_df.isnull().sum()}\")\n",
    "\n",
    "words_df['synset_accessor'] = words_df.apply(lambda row: get_most_frequent_synset(row['word'], row['synset_pos']), axis=1)\n",
    "words_df\n"
   ]
  },
  {
   "cell_type": "code",
   "execution_count": 17,
   "id": "0fdd5e87",
   "metadata": {},
   "outputs": [],
   "source": [
    "def get_similarity_matrix(words_df: pd.DataFrame, similarity_fn: callable) -> pd.DataFrame:\n",
    "    similarity_matrix = pd.DataFrame(columns=words_df['word'], index=words_df['word'])\n",
    "    for _, (word1, _, _, word1_synset_accessor) in words_df.iterrows():\n",
    "        word1_synset = wn.synset(word1_synset_accessor)\n",
    "        for _, (word2, _, _, word2_synset_accessor) in words_df.iterrows():\n",
    "            word2_synset = wn.synset(word2_synset_accessor)\n",
    "            similarity_matrix.loc[word1, word2] = similarity_fn(word1_synset, word2_synset)\n",
    "    return similarity_matrix"
   ]
  },
  {
   "cell_type": "markdown",
   "id": "2838d421",
   "metadata": {},
   "source": [
    "## Path similarities"
   ]
  },
  {
   "cell_type": "code",
   "execution_count": 18,
   "id": "8185a67a",
   "metadata": {},
   "outputs": [],
   "source": [
    "verb_words = words_df[words_df['synset_pos'] == 'v']['word'].tolist()\n",
    "noun_words = words_df[words_df['synset_pos'] == 'n']['word'].tolist()"
   ]
  },
  {
   "cell_type": "code",
   "execution_count": 19,
   "id": "a47b4c65",
   "metadata": {},
   "outputs": [
    {
     "data": {
      "text/html": [
       "<div>\n",
       "<style scoped>\n",
       "    .dataframe tbody tr th:only-of-type {\n",
       "        vertical-align: middle;\n",
       "    }\n",
       "\n",
       "    .dataframe tbody tr th {\n",
       "        vertical-align: top;\n",
       "    }\n",
       "\n",
       "    .dataframe thead th {\n",
       "        text-align: right;\n",
       "    }\n",
       "</style>\n",
       "<table border=\"1\" class=\"dataframe\">\n",
       "  <thead>\n",
       "    <tr style=\"text-align: right;\">\n",
       "      <th>word</th>\n",
       "      <th>man</th>\n",
       "      <th>girl</th>\n",
       "      <th>boy</th>\n",
       "      <th>woman</th>\n",
       "      <th>swim</th>\n",
       "      <th>walk</th>\n",
       "    </tr>\n",
       "  </thead>\n",
       "  <tbody>\n",
       "    <tr>\n",
       "      <th>man</th>\n",
       "      <td>1.000000</td>\n",
       "      <td>0.250000</td>\n",
       "      <td>0.333333</td>\n",
       "      <td>0.333333</td>\n",
       "      <td>0.000000</td>\n",
       "      <td>0.000000</td>\n",
       "    </tr>\n",
       "    <tr>\n",
       "      <th>girl</th>\n",
       "      <td>0.250000</td>\n",
       "      <td>1.000000</td>\n",
       "      <td>0.166667</td>\n",
       "      <td>0.500000</td>\n",
       "      <td>0.000000</td>\n",
       "      <td>0.000000</td>\n",
       "    </tr>\n",
       "    <tr>\n",
       "      <th>boy</th>\n",
       "      <td>0.333333</td>\n",
       "      <td>0.166667</td>\n",
       "      <td>1.000000</td>\n",
       "      <td>0.200000</td>\n",
       "      <td>0.000000</td>\n",
       "      <td>0.000000</td>\n",
       "    </tr>\n",
       "    <tr>\n",
       "      <th>woman</th>\n",
       "      <td>0.333333</td>\n",
       "      <td>0.500000</td>\n",
       "      <td>0.200000</td>\n",
       "      <td>1.000000</td>\n",
       "      <td>0.000000</td>\n",
       "      <td>0.000000</td>\n",
       "    </tr>\n",
       "    <tr>\n",
       "      <th>swim</th>\n",
       "      <td>0.000000</td>\n",
       "      <td>0.000000</td>\n",
       "      <td>0.000000</td>\n",
       "      <td>0.000000</td>\n",
       "      <td>1.000000</td>\n",
       "      <td>0.333333</td>\n",
       "    </tr>\n",
       "    <tr>\n",
       "      <th>walk</th>\n",
       "      <td>0.000000</td>\n",
       "      <td>0.000000</td>\n",
       "      <td>0.000000</td>\n",
       "      <td>0.000000</td>\n",
       "      <td>0.333333</td>\n",
       "      <td>1.000000</td>\n",
       "    </tr>\n",
       "  </tbody>\n",
       "</table>\n",
       "</div>"
      ],
      "text/plain": [
       "word        man      girl       boy     woman      swim      walk\n",
       "man    1.000000  0.250000  0.333333  0.333333  0.000000  0.000000\n",
       "girl   0.250000  1.000000  0.166667  0.500000  0.000000  0.000000\n",
       "boy    0.333333  0.166667  1.000000  0.200000  0.000000  0.000000\n",
       "woman  0.333333  0.500000  0.200000  1.000000  0.000000  0.000000\n",
       "swim   0.000000  0.000000  0.000000  0.000000  1.000000  0.333333\n",
       "walk   0.000000  0.000000  0.000000  0.000000  0.333333  1.000000"
      ]
     },
     "execution_count": 19,
     "metadata": {},
     "output_type": "execute_result"
    }
   ],
   "source": [
    "# path_similarities = get_similarity_matrix(words_df, wn.path_similarity)\n",
    "path_similarities = pd.DataFrame(index=words_df['word'].to_list(), columns=words_df['word'])\n",
    "path_similarities.loc[verb_words, verb_words] = get_similarity_matrix(words_df[words_df['synset_pos'] == 'v'], wn.path_similarity)\n",
    "path_similarities.loc[noun_words, noun_words] = get_similarity_matrix(words_df[words_df['synset_pos'] == 'n'], wn.path_similarity)\n",
    "path_similarities = path_similarities.astype(float).fillna(0)\n",
    "path_similarities"
   ]
  },
  {
   "cell_type": "markdown",
   "id": "f8c79e95",
   "metadata": {},
   "source": [
    "## lch similarities"
   ]
  },
  {
   "cell_type": "code",
   "execution_count": 20,
   "id": "b47f4356",
   "metadata": {},
   "outputs": [
    {
     "data": {
      "text/html": [
       "<div>\n",
       "<style scoped>\n",
       "    .dataframe tbody tr th:only-of-type {\n",
       "        vertical-align: middle;\n",
       "    }\n",
       "\n",
       "    .dataframe tbody tr th {\n",
       "        vertical-align: top;\n",
       "    }\n",
       "\n",
       "    .dataframe thead th {\n",
       "        text-align: right;\n",
       "    }\n",
       "</style>\n",
       "<table border=\"1\" class=\"dataframe\">\n",
       "  <thead>\n",
       "    <tr style=\"text-align: right;\">\n",
       "      <th>word</th>\n",
       "      <th>man</th>\n",
       "      <th>girl</th>\n",
       "      <th>boy</th>\n",
       "      <th>woman</th>\n",
       "      <th>swim</th>\n",
       "      <th>walk</th>\n",
       "    </tr>\n",
       "  </thead>\n",
       "  <tbody>\n",
       "    <tr>\n",
       "      <th>man</th>\n",
       "      <td>0.974359</td>\n",
       "      <td>0.904762</td>\n",
       "      <td>0.926829</td>\n",
       "      <td>0.926829</td>\n",
       "      <td>0.000000</td>\n",
       "      <td>0.000000</td>\n",
       "    </tr>\n",
       "    <tr>\n",
       "      <th>girl</th>\n",
       "      <td>0.904762</td>\n",
       "      <td>0.974359</td>\n",
       "      <td>0.863636</td>\n",
       "      <td>0.950000</td>\n",
       "      <td>0.000000</td>\n",
       "      <td>0.000000</td>\n",
       "    </tr>\n",
       "    <tr>\n",
       "      <th>boy</th>\n",
       "      <td>0.926829</td>\n",
       "      <td>0.863636</td>\n",
       "      <td>0.974359</td>\n",
       "      <td>0.883721</td>\n",
       "      <td>0.000000</td>\n",
       "      <td>0.000000</td>\n",
       "    </tr>\n",
       "    <tr>\n",
       "      <th>woman</th>\n",
       "      <td>0.926829</td>\n",
       "      <td>0.950000</td>\n",
       "      <td>0.883721</td>\n",
       "      <td>0.974359</td>\n",
       "      <td>0.000000</td>\n",
       "      <td>0.000000</td>\n",
       "    </tr>\n",
       "    <tr>\n",
       "      <th>swim</th>\n",
       "      <td>0.000000</td>\n",
       "      <td>0.000000</td>\n",
       "      <td>0.000000</td>\n",
       "      <td>0.000000</td>\n",
       "      <td>0.962963</td>\n",
       "      <td>0.896552</td>\n",
       "    </tr>\n",
       "    <tr>\n",
       "      <th>walk</th>\n",
       "      <td>0.000000</td>\n",
       "      <td>0.000000</td>\n",
       "      <td>0.000000</td>\n",
       "      <td>0.000000</td>\n",
       "      <td>0.896552</td>\n",
       "      <td>0.962963</td>\n",
       "    </tr>\n",
       "  </tbody>\n",
       "</table>\n",
       "</div>"
      ],
      "text/plain": [
       "word        man      girl       boy     woman      swim      walk\n",
       "man    0.974359  0.904762  0.926829  0.926829  0.000000  0.000000\n",
       "girl   0.904762  0.974359  0.863636  0.950000  0.000000  0.000000\n",
       "boy    0.926829  0.863636  0.974359  0.883721  0.000000  0.000000\n",
       "woman  0.926829  0.950000  0.883721  0.974359  0.000000  0.000000\n",
       "swim   0.000000  0.000000  0.000000  0.000000  0.962963  0.896552\n",
       "walk   0.000000  0.000000  0.000000  0.000000  0.896552  0.962963"
      ]
     },
     "execution_count": 20,
     "metadata": {},
     "output_type": "execute_result"
    }
   ],
   "source": [
    "lch_similarities = pd.DataFrame(index=words_df['word'].to_list(), columns=words_df['word'])\n",
    "lch_similarities.loc[verb_words, verb_words] = get_similarity_matrix(words_df[words_df['synset_pos'] == 'v'], normalized_lch_similarity)\n",
    "lch_similarities.loc[noun_words, noun_words] = get_similarity_matrix(words_df[words_df['synset_pos'] == 'n'], normalized_lch_similarity)\n",
    "lch_similarities = lch_similarities.astype(float).fillna(0)\n",
    "\n",
    "lch_similarities"
   ]
  },
  {
   "cell_type": "markdown",
   "id": "7bf90c9e",
   "metadata": {},
   "source": [
    "## wup similarities"
   ]
  },
  {
   "cell_type": "code",
   "execution_count": 21,
   "id": "2626a691",
   "metadata": {},
   "outputs": [
    {
     "data": {
      "text/html": [
       "<div>\n",
       "<style scoped>\n",
       "    .dataframe tbody tr th:only-of-type {\n",
       "        vertical-align: middle;\n",
       "    }\n",
       "\n",
       "    .dataframe tbody tr th {\n",
       "        vertical-align: top;\n",
       "    }\n",
       "\n",
       "    .dataframe thead th {\n",
       "        text-align: right;\n",
       "    }\n",
       "</style>\n",
       "<table border=\"1\" class=\"dataframe\">\n",
       "  <thead>\n",
       "    <tr style=\"text-align: right;\">\n",
       "      <th>word</th>\n",
       "      <th>man</th>\n",
       "      <th>girl</th>\n",
       "      <th>boy</th>\n",
       "      <th>woman</th>\n",
       "      <th>swim</th>\n",
       "      <th>walk</th>\n",
       "    </tr>\n",
       "  </thead>\n",
       "  <tbody>\n",
       "    <tr>\n",
       "      <th>man</th>\n",
       "      <td>1.000000</td>\n",
       "      <td>0.631579</td>\n",
       "      <td>0.666667</td>\n",
       "      <td>0.666667</td>\n",
       "      <td>0.181818</td>\n",
       "      <td>0.181818</td>\n",
       "    </tr>\n",
       "    <tr>\n",
       "      <th>girl</th>\n",
       "      <td>0.631579</td>\n",
       "      <td>1.000000</td>\n",
       "      <td>0.631579</td>\n",
       "      <td>0.631579</td>\n",
       "      <td>0.166667</td>\n",
       "      <td>0.166667</td>\n",
       "    </tr>\n",
       "    <tr>\n",
       "      <th>boy</th>\n",
       "      <td>0.666667</td>\n",
       "      <td>0.631579</td>\n",
       "      <td>1.000000</td>\n",
       "      <td>0.666667</td>\n",
       "      <td>0.181818</td>\n",
       "      <td>0.181818</td>\n",
       "    </tr>\n",
       "    <tr>\n",
       "      <th>woman</th>\n",
       "      <td>0.666667</td>\n",
       "      <td>0.947368</td>\n",
       "      <td>0.666667</td>\n",
       "      <td>1.000000</td>\n",
       "      <td>0.181818</td>\n",
       "      <td>0.181818</td>\n",
       "    </tr>\n",
       "    <tr>\n",
       "      <th>swim</th>\n",
       "      <td>0.181818</td>\n",
       "      <td>0.166667</td>\n",
       "      <td>0.181818</td>\n",
       "      <td>0.181818</td>\n",
       "      <td>1.000000</td>\n",
       "      <td>0.333333</td>\n",
       "    </tr>\n",
       "    <tr>\n",
       "      <th>walk</th>\n",
       "      <td>0.181818</td>\n",
       "      <td>0.166667</td>\n",
       "      <td>0.181818</td>\n",
       "      <td>0.181818</td>\n",
       "      <td>0.333333</td>\n",
       "      <td>1.000000</td>\n",
       "    </tr>\n",
       "  </tbody>\n",
       "</table>\n",
       "</div>"
      ],
      "text/plain": [
       "word        man      girl       boy     woman      swim      walk\n",
       "man    1.000000  0.631579  0.666667  0.666667  0.181818  0.181818\n",
       "girl   0.631579  1.000000  0.631579  0.631579  0.166667  0.166667\n",
       "boy    0.666667  0.631579  1.000000  0.666667  0.181818  0.181818\n",
       "woman  0.666667  0.947368  0.666667  1.000000  0.181818  0.181818\n",
       "swim   0.181818  0.166667  0.181818  0.181818  1.000000  0.333333\n",
       "walk   0.181818  0.166667  0.181818  0.181818  0.333333  1.000000"
      ]
     },
     "execution_count": 21,
     "metadata": {},
     "output_type": "execute_result"
    }
   ],
   "source": [
    "wup_similarities = pd.DataFrame(index=words_df['word'].to_list(), columns=words_df['word'])\n",
    "wup_similarities.loc[:] = get_similarity_matrix(words_df, wn.wup_similarity)\n",
    "wup_similarities = wup_similarities.astype(float)\n",
    "wup_similarities"
   ]
  },
  {
   "cell_type": "markdown",
   "id": "6902b807",
   "metadata": {},
   "source": [
    "## lin similarity"
   ]
  },
  {
   "cell_type": "code",
   "execution_count": 22,
   "id": "0a24df02",
   "metadata": {},
   "outputs": [
    {
     "data": {
      "text/html": [
       "<div>\n",
       "<style scoped>\n",
       "    .dataframe tbody tr th:only-of-type {\n",
       "        vertical-align: middle;\n",
       "    }\n",
       "\n",
       "    .dataframe tbody tr th {\n",
       "        vertical-align: top;\n",
       "    }\n",
       "\n",
       "    .dataframe thead th {\n",
       "        text-align: right;\n",
       "    }\n",
       "</style>\n",
       "<table border=\"1\" class=\"dataframe\">\n",
       "  <thead>\n",
       "    <tr style=\"text-align: right;\">\n",
       "      <th>word</th>\n",
       "      <th>man</th>\n",
       "      <th>girl</th>\n",
       "      <th>boy</th>\n",
       "      <th>woman</th>\n",
       "      <th>swim</th>\n",
       "      <th>walk</th>\n",
       "    </tr>\n",
       "  </thead>\n",
       "  <tbody>\n",
       "    <tr>\n",
       "      <th>man</th>\n",
       "      <td>1.000000</td>\n",
       "      <td>0.713511</td>\n",
       "      <td>0.729472</td>\n",
       "      <td>0.787084</td>\n",
       "      <td>0.000000</td>\n",
       "      <td>0.000000</td>\n",
       "    </tr>\n",
       "    <tr>\n",
       "      <th>girl</th>\n",
       "      <td>0.713511</td>\n",
       "      <td>1.000000</td>\n",
       "      <td>0.292728</td>\n",
       "      <td>0.906780</td>\n",
       "      <td>0.000000</td>\n",
       "      <td>0.000000</td>\n",
       "    </tr>\n",
       "    <tr>\n",
       "      <th>boy</th>\n",
       "      <td>0.729472</td>\n",
       "      <td>0.292728</td>\n",
       "      <td>1.000000</td>\n",
       "      <td>0.318423</td>\n",
       "      <td>0.000000</td>\n",
       "      <td>0.000000</td>\n",
       "    </tr>\n",
       "    <tr>\n",
       "      <th>woman</th>\n",
       "      <td>0.787084</td>\n",
       "      <td>0.906780</td>\n",
       "      <td>0.318423</td>\n",
       "      <td>1.000000</td>\n",
       "      <td>0.000000</td>\n",
       "      <td>0.000000</td>\n",
       "    </tr>\n",
       "    <tr>\n",
       "      <th>swim</th>\n",
       "      <td>0.000000</td>\n",
       "      <td>0.000000</td>\n",
       "      <td>0.000000</td>\n",
       "      <td>0.000000</td>\n",
       "      <td>1.000000</td>\n",
       "      <td>0.491005</td>\n",
       "    </tr>\n",
       "    <tr>\n",
       "      <th>walk</th>\n",
       "      <td>0.000000</td>\n",
       "      <td>0.000000</td>\n",
       "      <td>0.000000</td>\n",
       "      <td>0.000000</td>\n",
       "      <td>0.491005</td>\n",
       "      <td>1.000000</td>\n",
       "    </tr>\n",
       "  </tbody>\n",
       "</table>\n",
       "</div>"
      ],
      "text/plain": [
       "word        man      girl       boy     woman      swim      walk\n",
       "man    1.000000  0.713511  0.729472  0.787084  0.000000  0.000000\n",
       "girl   0.713511  1.000000  0.292728  0.906780  0.000000  0.000000\n",
       "boy    0.729472  0.292728  1.000000  0.318423  0.000000  0.000000\n",
       "woman  0.787084  0.906780  0.318423  1.000000  0.000000  0.000000\n",
       "swim   0.000000  0.000000  0.000000  0.000000  1.000000  0.491005\n",
       "walk   0.000000  0.000000  0.000000  0.000000  0.491005  1.000000"
      ]
     },
     "execution_count": 22,
     "metadata": {},
     "output_type": "execute_result"
    }
   ],
   "source": [
    "lin_similarities = pd.DataFrame(index=words_df['word'].to_list(), columns=words_df['word'])\n",
    "lin_similarities.loc[verb_words, verb_words] = get_similarity_matrix(words_df[words_df['synset_pos'] == 'v'], partial(wn.lin_similarity, ic=brown_ic))\n",
    "lin_similarities.loc[noun_words, noun_words] = get_similarity_matrix(words_df[words_df['synset_pos'] == 'n'], partial(wn.lin_similarity, ic=brown_ic))\n",
    "lin_similarities = lin_similarities.astype(float).fillna(0)\n",
    "lin_similarities\n"
   ]
  },
  {
   "cell_type": "code",
   "execution_count": 23,
   "id": "4309e6aa",
   "metadata": {},
   "outputs": [
    {
     "data": {
      "image/png": "[encoded data removed]",
      "text/plain": [
       "<Figure size 900x1000 with 4 Axes>"
      ]
     },
     "metadata": {},
     "output_type": "display_data"
    }
   ],
   "source": [
    "def plot_similarity_matrix(ax, similarity_matrix: pd.DataFrame, title: str):\n",
    "    sns.heatmap(similarity_matrix, annot=True, fmt='.2f', cmap='coolwarm', ax=ax, cbar=False)\n",
    "    ax.set_title(title)\n",
    "\n",
    "fig, axs = plt.subplots(2, 2, figsize=(9, 10))\n",
    "fig.subplots_adjust(left=0.5)  # Adjust the left margin to accommodate the colorbar\n",
    "\n",
    "plot_similarity_matrix(axs[0, 0], path_similarities, 'Path Similarity')\n",
    "plot_similarity_matrix(axs[0, 1], lch_similarities, 'LCH Similarity')\n",
    "plot_similarity_matrix(axs[1, 0], wup_similarities, 'WUP Similarity')\n",
    "plot_similarity_matrix(axs[1, 1], lin_similarities, 'LIN Similarity')\n",
    "\n",
    "fig.suptitle('Similarity Matrices', fontsize=16)\n",
    "plt.tight_layout()\n",
    "plt.show()\n"
   ]
  },
  {
   "cell_type": "markdown",
   "id": "a2149497",
   "metadata": {},
   "source": [
    "# Conclusions\n",
    "\n",
    "- ### What similarity seems better?"
   ]
  }
 ],
 "metadata": {
  "kernelspec": {
   "display_name": "Python 3 (ipykernel)",
   "language": "python",
   "name": "python3"
  },
  "language_info": {
   "codemirror_mode": {
    "name": "ipython",
    "version": 3
   },
   "file_extension": ".py",
   "mimetype": "text/x-python",
   "name": "python",
   "nbconvert_exporter": "python",
   "pygments_lexer": "ipython3",
   "version": "3.12.7"
  }
 },
 "nbformat": 4,
 "nbformat_minor": 5
}
