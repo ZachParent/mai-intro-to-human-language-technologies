{
 "cells": [
  {
   "cell_type": "markdown",
   "id": "6f764cfa",
   "metadata": {},
   "source": [
    "# IHLT Lab 5: Lexical Semantics\n",
    "\n",
    "**Authors:** *Zachary Parent ([zachary.parent](mailto:zachary.parent@estudiantat.upc.edu)), Carlos Jiménez ([carlos.humberto.jimenez](mailto:carlos.humberto.jimenez@estudiantat.upc.edu))*\n",
    "\n",
    "### 2024-10-17\n",
    "\n",
    "**Instructions:**\n",
    "\n",
    "- Given the following (lemma, category) pairs:\n",
    "\n",
    "`(’the’,’DT’), (’man’,’NN’), (’swim’,’VB’), (’with’, ’PR’), (’a’, ’DT’),\n",
    "(’girl’,’NN’), (’and’, ’CC’), (’a’, ’DT’), (’boy’, ’NN’), (’whilst’, ’PR’),\n",
    "(’the’, ’DT’), (’woman’, ’NN’), (’walk’, ’VB’)`\n",
    "\n",
    "- For each pair, when possible, print their most frequent WordNet synset\n",
    "\n",
    "- For each pair of words, when possible, print their corresponding least common subsumer (LCS) and their similarity value, using the following functions:\n",
    "\n",
    "    - Path Similarity\n",
    "\n",
    "    - Peacock-Chodorow Similarity\n",
    "\n",
    "    - Wu-Palmer Similarity\n",
    "\n",
    "    - Lin Similarity\n",
    "\n",
    "Normalize similarity values when necessary. What similarity seems better?\n",
    "\n",
    "## Notes\n",
    "\n",
    "- we should normalize the lch_similarity (not all trees have the same depth)\n",
    "- most frequent ~= most likely\n",
    "- lemmas have an attribute 'count'\n",
    "- given synsets we can get lemmas and counts\n",
    "- we should established rules/criteria to identify which similarity is 'best'\n",
    "- not all the words have an entry in wordnet, in that case computing the similarity is not possible\n",
    "  - we should compute our own sorting method by lemmas count\n"
   ]
  },
  {
   "cell_type": "markdown",
   "id": "7c7a084a",
   "metadata": {},
   "source": [
    "## Setup"
   ]
  },
  {
   "cell_type": "code",
   "execution_count": 26,
   "id": "da584623",
   "metadata": {},
   "outputs": [],
   "source": [
    "import nltk\n",
    "from nltk.corpus import wordnet as wn\n",
    "from nltk.corpus import wordnet_ic\n",
    "from nltk.corpus import sentiwordnet as swn\n",
    "import math\n",
    "import numpy as np\n",
    "import pandas as pd\n",
    "import matplotlib.pyplot as plt\n",
    "import seaborn as sns\n",
    "from functools import partial"
   ]
  },
  {
   "cell_type": "code",
   "execution_count": 2,
   "id": "546bb964",
   "metadata": {},
   "outputs": [
    {
     "name": "stderr",
     "output_type": "stream",
     "text": [
      "[nltk_data] Downloading package wordnet to\n",
      "[nltk_data]     /Users/zachparent/nltk_data...\n",
      "[nltk_data]   Package wordnet is already up-to-date!\n",
      "[nltk_data] Downloading package omw-1.4 to\n",
      "[nltk_data]     /Users/zachparent/nltk_data...\n",
      "[nltk_data]   Package omw-1.4 is already up-to-date!\n",
      "[nltk_data] Downloading package sentiwordnet to\n",
      "[nltk_data]     /Users/zachparent/nltk_data...\n",
      "[nltk_data]   Package sentiwordnet is already up-to-date!\n",
      "[nltk_data] Downloading package wordnet_ic to\n",
      "[nltk_data]     /Users/zachparent/nltk_data...\n",
      "[nltk_data]   Package wordnet_ic is already up-to-date!\n"
     ]
    },
    {
     "data": {
      "text/plain": [
       "True"
      ]
     },
     "execution_count": 2,
     "metadata": {},
     "output_type": "execute_result"
    }
   ],
   "source": [
    "nltk.download('wordnet')\n",
    "nltk.download('omw-1.4')\n",
    "nltk.download('sentiwordnet')\n",
    "nltk.download('wordnet_ic')"
   ]
  },
  {
   "cell_type": "markdown",
   "id": "e8bcb5f8",
   "metadata": {},
   "source": [
    "## LCH Normalization"
   ]
  },
  {
   "cell_type": "code",
   "execution_count": 3,
   "id": "c6c73969",
   "metadata": {},
   "outputs": [],
   "source": [
    "def get_max_depth(pos: str):\n",
    "    return max(synset.max_depth() for synset in wn.all_synsets(pos))\n",
    "\n",
    "max_lch = {\n",
    "    'n': math.log(2 * get_max_depth('n')),\n",
    "    'v': math.log(2 * get_max_depth('v'))\n",
    "}\n",
    "\n",
    "def normalized_lch_similarity(synset1, synset2, pos: str):\n",
    "    lch_sim = wn.lch_similarity(synset1, synset2)\n",
    "    return lch_sim / max_lch[pos]  # Sigmoid function\n"
   ]
  },
  {
   "cell_type": "markdown",
   "id": "f969e9db",
   "metadata": {},
   "source": [
    "## WordNet Similarities"
   ]
  },
  {
   "cell_type": "code",
   "execution_count": 4,
   "id": "15eac63a",
   "metadata": {},
   "outputs": [],
   "source": [
    "words = [('the','DT'), ('man','NN'), ('swim','VB'), ('with', 'PR'), ('a', 'DT'),\n",
    "('girl','NN'), ('and', 'CC'), ('a', 'DT'), ('boy', 'NN'), ('whilst', 'PR'),\n",
    "('the', 'DT'), ('woman', 'NN'), ('walk', 'VB')]"
   ]
  },
  {
   "cell_type": "code",
   "execution_count": 5,
   "id": "496c3752",
   "metadata": {},
   "outputs": [],
   "source": [
    "synset_pos_converter = {\n",
    "    'NN': 'n',\n",
    "    'VB': 'v',\n",
    "}"
   ]
  },
  {
   "cell_type": "code",
   "execution_count": 6,
   "id": "7819a003",
   "metadata": {},
   "outputs": [],
   "source": [
    "def get_most_frequent_synset(word, pos):\n",
    "    max_count = 0\n",
    "    most_frequent_synset = None \n",
    "\n",
    "    for synset in wn.synsets(word, pos):\n",
    "        for lemma in synset.lemmas():\n",
    "            if lemma.name() == word and lemma.count() > max_count:\n",
    "                max_count = lemma.count()\n",
    "                most_frequent_synset = synset.name()\n",
    "                    \n",
    "    return most_frequent_synset"
   ]
  },
  {
   "cell_type": "code",
   "execution_count": 7,
   "id": "f0bdb392",
   "metadata": {},
   "outputs": [
    {
     "name": "stdout",
     "output_type": "stream",
     "text": [
      "Null values:\n",
      "word          0\n",
      "pos           0\n",
      "synset_pos    7\n",
      "dtype: int64\n",
      "Null values:\n",
      "word          0\n",
      "pos           0\n",
      "synset_pos    0\n",
      "dtype: int64\n"
     ]
    },
    {
     "data": {
      "text/html": [
       "<div>\n",
       "<style scoped>\n",
       "    .dataframe tbody tr th:only-of-type {\n",
       "        vertical-align: middle;\n",
       "    }\n",
       "\n",
       "    .dataframe tbody tr th {\n",
       "        vertical-align: top;\n",
       "    }\n",
       "\n",
       "    .dataframe thead th {\n",
       "        text-align: right;\n",
       "    }\n",
       "</style>\n",
       "<table border=\"1\" class=\"dataframe\">\n",
       "  <thead>\n",
       "    <tr style=\"text-align: right;\">\n",
       "      <th></th>\n",
       "      <th>word</th>\n",
       "      <th>pos</th>\n",
       "      <th>synset_pos</th>\n",
       "      <th>synset_accessor</th>\n",
       "    </tr>\n",
       "  </thead>\n",
       "  <tbody>\n",
       "    <tr>\n",
       "      <th>0</th>\n",
       "      <td>man</td>\n",
       "      <td>NN</td>\n",
       "      <td>n</td>\n",
       "      <td>man.n.01</td>\n",
       "    </tr>\n",
       "    <tr>\n",
       "      <th>1</th>\n",
       "      <td>girl</td>\n",
       "      <td>NN</td>\n",
       "      <td>n</td>\n",
       "      <td>girl.n.01</td>\n",
       "    </tr>\n",
       "    <tr>\n",
       "      <th>2</th>\n",
       "      <td>boy</td>\n",
       "      <td>NN</td>\n",
       "      <td>n</td>\n",
       "      <td>male_child.n.01</td>\n",
       "    </tr>\n",
       "    <tr>\n",
       "      <th>3</th>\n",
       "      <td>woman</td>\n",
       "      <td>NN</td>\n",
       "      <td>n</td>\n",
       "      <td>woman.n.01</td>\n",
       "    </tr>\n",
       "    <tr>\n",
       "      <th>4</th>\n",
       "      <td>swim</td>\n",
       "      <td>VB</td>\n",
       "      <td>v</td>\n",
       "      <td>swim.v.01</td>\n",
       "    </tr>\n",
       "    <tr>\n",
       "      <th>5</th>\n",
       "      <td>walk</td>\n",
       "      <td>VB</td>\n",
       "      <td>v</td>\n",
       "      <td>walk.v.01</td>\n",
       "    </tr>\n",
       "  </tbody>\n",
       "</table>\n",
       "</div>"
      ],
      "text/plain": [
       "    word pos synset_pos  synset_accessor\n",
       "0    man  NN          n         man.n.01\n",
       "1   girl  NN          n        girl.n.01\n",
       "2    boy  NN          n  male_child.n.01\n",
       "3  woman  NN          n       woman.n.01\n",
       "4   swim  VB          v        swim.v.01\n",
       "5   walk  VB          v        walk.v.01"
      ]
     },
     "execution_count": 7,
     "metadata": {},
     "output_type": "execute_result"
    }
   ],
   "source": [
    "\n",
    "words_df = pd.DataFrame(words,columns=['word', 'pos'])\n",
    "words_df['synset_pos'] = words_df['pos'].apply(lambda pos: synset_pos_converter[pos] if pos in synset_pos_converter else None)\n",
    "words_df.sort_values(by='synset_pos', inplace=True)\n",
    "words_df.reset_index(drop=True, inplace=True)\n",
    "\n",
    "print(f\"Null values:\\n{words_df.isnull().sum()}\")\n",
    "words_df.dropna(inplace=True)\n",
    "print(f\"Null values:\\n{words_df.isnull().sum()}\")\n",
    "\n",
    "words_df['synset_accessor'] = words_df.apply(lambda row: get_most_frequent_synset(row['word'], row['synset_pos']), axis=1)\n",
    "words_df\n"
   ]
  },
  {
   "cell_type": "code",
   "execution_count": 8,
   "id": "0fdd5e87",
   "metadata": {},
   "outputs": [],
   "source": [
    "def get_similarity_matrix(words_df: pd.DataFrame, similarity_fn: callable) -> pd.DataFrame:\n",
    "    similarity_matrix = pd.DataFrame(columns=words_df['word'], index=words_df['word'])\n",
    "    for _, (word1, _, _, word1_synset_accessor) in words_df.iterrows():\n",
    "        word1_synset = wn.synset(word1_synset_accessor)\n",
    "        for _, (word2, _, _, word2_synset_accessor) in words_df.iterrows():\n",
    "            word2_synset = wn.synset(word2_synset_accessor)\n",
    "            similarity_matrix.loc[word1, word2] = similarity_fn(word1_synset, word2_synset)\n",
    "    return similarity_matrix"
   ]
  },
  {
   "cell_type": "markdown",
   "id": "2838d421",
   "metadata": {},
   "source": [
    "## Path Similarity"
   ]
  },
  {
   "cell_type": "code",
   "execution_count": 9,
   "id": "8185a67a",
   "metadata": {},
   "outputs": [],
   "source": [
    "verb_words = words_df[words_df['synset_pos'] == 'v']['word'].tolist()\n",
    "noun_words = words_df[words_df['synset_pos'] == 'n']['word'].tolist()"
   ]
  },
  {
   "cell_type": "code",
   "execution_count": 10,
   "id": "a47b4c65",
   "metadata": {},
   "outputs": [
    {
     "data": {
      "text/html": [
       "<div>\n",
       "<style scoped>\n",
       "    .dataframe tbody tr th:only-of-type {\n",
       "        vertical-align: middle;\n",
       "    }\n",
       "\n",
       "    .dataframe tbody tr th {\n",
       "        vertical-align: top;\n",
       "    }\n",
       "\n",
       "    .dataframe thead th {\n",
       "        text-align: right;\n",
       "    }\n",
       "</style>\n",
       "<table border=\"1\" class=\"dataframe\">\n",
       "  <thead>\n",
       "    <tr style=\"text-align: right;\">\n",
       "      <th>word</th>\n",
       "      <th>man</th>\n",
       "      <th>girl</th>\n",
       "      <th>boy</th>\n",
       "      <th>woman</th>\n",
       "      <th>swim</th>\n",
       "      <th>walk</th>\n",
       "    </tr>\n",
       "  </thead>\n",
       "  <tbody>\n",
       "    <tr>\n",
       "      <th>man</th>\n",
       "      <td>1.000000</td>\n",
       "      <td>0.250000</td>\n",
       "      <td>0.333333</td>\n",
       "      <td>0.333333</td>\n",
       "      <td>0.000000</td>\n",
       "      <td>0.000000</td>\n",
       "    </tr>\n",
       "    <tr>\n",
       "      <th>girl</th>\n",
       "      <td>0.250000</td>\n",
       "      <td>1.000000</td>\n",
       "      <td>0.166667</td>\n",
       "      <td>0.500000</td>\n",
       "      <td>0.000000</td>\n",
       "      <td>0.000000</td>\n",
       "    </tr>\n",
       "    <tr>\n",
       "      <th>boy</th>\n",
       "      <td>0.333333</td>\n",
       "      <td>0.166667</td>\n",
       "      <td>1.000000</td>\n",
       "      <td>0.200000</td>\n",
       "      <td>0.000000</td>\n",
       "      <td>0.000000</td>\n",
       "    </tr>\n",
       "    <tr>\n",
       "      <th>woman</th>\n",
       "      <td>0.333333</td>\n",
       "      <td>0.500000</td>\n",
       "      <td>0.200000</td>\n",
       "      <td>1.000000</td>\n",
       "      <td>0.000000</td>\n",
       "      <td>0.000000</td>\n",
       "    </tr>\n",
       "    <tr>\n",
       "      <th>swim</th>\n",
       "      <td>0.000000</td>\n",
       "      <td>0.000000</td>\n",
       "      <td>0.000000</td>\n",
       "      <td>0.000000</td>\n",
       "      <td>1.000000</td>\n",
       "      <td>0.333333</td>\n",
       "    </tr>\n",
       "    <tr>\n",
       "      <th>walk</th>\n",
       "      <td>0.000000</td>\n",
       "      <td>0.000000</td>\n",
       "      <td>0.000000</td>\n",
       "      <td>0.000000</td>\n",
       "      <td>0.333333</td>\n",
       "      <td>1.000000</td>\n",
       "    </tr>\n",
       "  </tbody>\n",
       "</table>\n",
       "</div>"
      ],
      "text/plain": [
       "word        man      girl       boy     woman      swim      walk\n",
       "man    1.000000  0.250000  0.333333  0.333333  0.000000  0.000000\n",
       "girl   0.250000  1.000000  0.166667  0.500000  0.000000  0.000000\n",
       "boy    0.333333  0.166667  1.000000  0.200000  0.000000  0.000000\n",
       "woman  0.333333  0.500000  0.200000  1.000000  0.000000  0.000000\n",
       "swim   0.000000  0.000000  0.000000  0.000000  1.000000  0.333333\n",
       "walk   0.000000  0.000000  0.000000  0.000000  0.333333  1.000000"
      ]
     },
     "execution_count": 10,
     "metadata": {},
     "output_type": "execute_result"
    }
   ],
   "source": [
    "# path_similarities = get_similarity_matrix(words_df, wn.path_similarity)\n",
    "path_similarities = pd.DataFrame(index=words_df['word'].to_list(), columns=words_df['word'])\n",
    "path_similarities.loc[verb_words, verb_words] = get_similarity_matrix(words_df[words_df['synset_pos'] == 'v'], wn.path_similarity)\n",
    "path_similarities.loc[noun_words, noun_words] = get_similarity_matrix(words_df[words_df['synset_pos'] == 'n'], wn.path_similarity)\n",
    "path_similarities = path_similarities.astype(float).fillna(0)\n",
    "\n",
    "path_similarities"
   ]
  },
  {
   "cell_type": "markdown",
   "id": "f8c79e95",
   "metadata": {},
   "source": [
    "## Leacock-Chodorow Similarity"
   ]
  },
  {
   "cell_type": "code",
   "execution_count": 11,
   "id": "b47f4356",
   "metadata": {},
   "outputs": [
    {
     "data": {
      "text/html": [
       "<div>\n",
       "<style scoped>\n",
       "    .dataframe tbody tr th:only-of-type {\n",
       "        vertical-align: middle;\n",
       "    }\n",
       "\n",
       "    .dataframe tbody tr th {\n",
       "        vertical-align: top;\n",
       "    }\n",
       "\n",
       "    .dataframe thead th {\n",
       "        text-align: right;\n",
       "    }\n",
       "</style>\n",
       "<table border=\"1\" class=\"dataframe\">\n",
       "  <thead>\n",
       "    <tr style=\"text-align: right;\">\n",
       "      <th>word</th>\n",
       "      <th>man</th>\n",
       "      <th>girl</th>\n",
       "      <th>boy</th>\n",
       "      <th>woman</th>\n",
       "      <th>swim</th>\n",
       "      <th>walk</th>\n",
       "    </tr>\n",
       "  </thead>\n",
       "  <tbody>\n",
       "    <tr>\n",
       "      <th>man</th>\n",
       "      <td>1.000000</td>\n",
       "      <td>0.618897</td>\n",
       "      <td>0.697983</td>\n",
       "      <td>0.697983</td>\n",
       "      <td>0.000000</td>\n",
       "      <td>0.000000</td>\n",
       "    </tr>\n",
       "    <tr>\n",
       "      <th>girl</th>\n",
       "      <td>0.618897</td>\n",
       "      <td>1.000000</td>\n",
       "      <td>0.507432</td>\n",
       "      <td>0.809449</td>\n",
       "      <td>0.000000</td>\n",
       "      <td>0.000000</td>\n",
       "    </tr>\n",
       "    <tr>\n",
       "      <th>boy</th>\n",
       "      <td>0.697983</td>\n",
       "      <td>0.507432</td>\n",
       "      <td>1.000000</td>\n",
       "      <td>0.557553</td>\n",
       "      <td>0.000000</td>\n",
       "      <td>0.000000</td>\n",
       "    </tr>\n",
       "    <tr>\n",
       "      <th>woman</th>\n",
       "      <td>0.697983</td>\n",
       "      <td>0.809449</td>\n",
       "      <td>0.557553</td>\n",
       "      <td>1.000000</td>\n",
       "      <td>0.000000</td>\n",
       "      <td>0.000000</td>\n",
       "    </tr>\n",
       "    <tr>\n",
       "      <th>swim</th>\n",
       "      <td>0.000000</td>\n",
       "      <td>0.000000</td>\n",
       "      <td>0.000000</td>\n",
       "      <td>0.000000</td>\n",
       "      <td>1.025186</td>\n",
       "      <td>0.679499</td>\n",
       "    </tr>\n",
       "    <tr>\n",
       "      <th>walk</th>\n",
       "      <td>0.000000</td>\n",
       "      <td>0.000000</td>\n",
       "      <td>0.000000</td>\n",
       "      <td>0.000000</td>\n",
       "      <td>0.679499</td>\n",
       "      <td>1.025186</td>\n",
       "    </tr>\n",
       "  </tbody>\n",
       "</table>\n",
       "</div>"
      ],
      "text/plain": [
       "word        man      girl       boy     woman      swim      walk\n",
       "man    1.000000  0.618897  0.697983  0.697983  0.000000  0.000000\n",
       "girl   0.618897  1.000000  0.507432  0.809449  0.000000  0.000000\n",
       "boy    0.697983  0.507432  1.000000  0.557553  0.000000  0.000000\n",
       "woman  0.697983  0.809449  0.557553  1.000000  0.000000  0.000000\n",
       "swim   0.000000  0.000000  0.000000  0.000000  1.025186  0.679499\n",
       "walk   0.000000  0.000000  0.000000  0.000000  0.679499  1.025186"
      ]
     },
     "execution_count": 11,
     "metadata": {},
     "output_type": "execute_result"
    }
   ],
   "source": [
    "lch_similarities = pd.DataFrame(index=words_df['word'].to_list(), columns=words_df['word'])\n",
    "lch_similarities.loc[verb_words, verb_words] = get_similarity_matrix(words_df[words_df['synset_pos'] == 'v'], partial(normalized_lch_similarity, pos='v'))\n",
    "lch_similarities.loc[noun_words, noun_words] = get_similarity_matrix(words_df[words_df['synset_pos'] == 'n'], partial(normalized_lch_similarity, pos='n'))\n",
    "lch_similarities = lch_similarities.astype(float).fillna(0)\n",
    "\n",
    "lch_similarities"
   ]
  },
  {
   "cell_type": "markdown",
   "id": "7bf90c9e",
   "metadata": {},
   "source": [
    "## Wu-Palmer Similarity"
   ]
  },
  {
   "cell_type": "code",
   "execution_count": 12,
   "id": "2626a691",
   "metadata": {},
   "outputs": [
    {
     "data": {
      "text/html": [
       "<div>\n",
       "<style scoped>\n",
       "    .dataframe tbody tr th:only-of-type {\n",
       "        vertical-align: middle;\n",
       "    }\n",
       "\n",
       "    .dataframe tbody tr th {\n",
       "        vertical-align: top;\n",
       "    }\n",
       "\n",
       "    .dataframe thead th {\n",
       "        text-align: right;\n",
       "    }\n",
       "</style>\n",
       "<table border=\"1\" class=\"dataframe\">\n",
       "  <thead>\n",
       "    <tr style=\"text-align: right;\">\n",
       "      <th>word</th>\n",
       "      <th>man</th>\n",
       "      <th>girl</th>\n",
       "      <th>boy</th>\n",
       "      <th>woman</th>\n",
       "      <th>swim</th>\n",
       "      <th>walk</th>\n",
       "    </tr>\n",
       "  </thead>\n",
       "  <tbody>\n",
       "    <tr>\n",
       "      <th>man</th>\n",
       "      <td>1.000000</td>\n",
       "      <td>0.631579</td>\n",
       "      <td>0.666667</td>\n",
       "      <td>0.666667</td>\n",
       "      <td>0.181818</td>\n",
       "      <td>0.181818</td>\n",
       "    </tr>\n",
       "    <tr>\n",
       "      <th>girl</th>\n",
       "      <td>0.631579</td>\n",
       "      <td>1.000000</td>\n",
       "      <td>0.631579</td>\n",
       "      <td>0.631579</td>\n",
       "      <td>0.166667</td>\n",
       "      <td>0.166667</td>\n",
       "    </tr>\n",
       "    <tr>\n",
       "      <th>boy</th>\n",
       "      <td>0.666667</td>\n",
       "      <td>0.631579</td>\n",
       "      <td>1.000000</td>\n",
       "      <td>0.666667</td>\n",
       "      <td>0.181818</td>\n",
       "      <td>0.181818</td>\n",
       "    </tr>\n",
       "    <tr>\n",
       "      <th>woman</th>\n",
       "      <td>0.666667</td>\n",
       "      <td>0.947368</td>\n",
       "      <td>0.666667</td>\n",
       "      <td>1.000000</td>\n",
       "      <td>0.181818</td>\n",
       "      <td>0.181818</td>\n",
       "    </tr>\n",
       "    <tr>\n",
       "      <th>swim</th>\n",
       "      <td>0.181818</td>\n",
       "      <td>0.166667</td>\n",
       "      <td>0.181818</td>\n",
       "      <td>0.181818</td>\n",
       "      <td>1.000000</td>\n",
       "      <td>0.333333</td>\n",
       "    </tr>\n",
       "    <tr>\n",
       "      <th>walk</th>\n",
       "      <td>0.181818</td>\n",
       "      <td>0.166667</td>\n",
       "      <td>0.181818</td>\n",
       "      <td>0.181818</td>\n",
       "      <td>0.333333</td>\n",
       "      <td>1.000000</td>\n",
       "    </tr>\n",
       "  </tbody>\n",
       "</table>\n",
       "</div>"
      ],
      "text/plain": [
       "word        man      girl       boy     woman      swim      walk\n",
       "man    1.000000  0.631579  0.666667  0.666667  0.181818  0.181818\n",
       "girl   0.631579  1.000000  0.631579  0.631579  0.166667  0.166667\n",
       "boy    0.666667  0.631579  1.000000  0.666667  0.181818  0.181818\n",
       "woman  0.666667  0.947368  0.666667  1.000000  0.181818  0.181818\n",
       "swim   0.181818  0.166667  0.181818  0.181818  1.000000  0.333333\n",
       "walk   0.181818  0.166667  0.181818  0.181818  0.333333  1.000000"
      ]
     },
     "execution_count": 12,
     "metadata": {},
     "output_type": "execute_result"
    }
   ],
   "source": [
    "wup_similarities = pd.DataFrame(index=words_df['word'].to_list(), columns=words_df['word'])\n",
    "wup_similarities.loc[:] = get_similarity_matrix(words_df, wn.wup_similarity)\n",
    "wup_similarities = wup_similarities.astype(float)\n",
    "\n",
    "wup_similarities"
   ]
  },
  {
   "cell_type": "markdown",
   "id": "6902b807",
   "metadata": {},
   "source": [
    "## Lin Similarity"
   ]
  },
  {
   "cell_type": "code",
   "execution_count": 13,
   "id": "0a24df02",
   "metadata": {},
   "outputs": [
    {
     "data": {
      "text/html": [
       "<div>\n",
       "<style scoped>\n",
       "    .dataframe tbody tr th:only-of-type {\n",
       "        vertical-align: middle;\n",
       "    }\n",
       "\n",
       "    .dataframe tbody tr th {\n",
       "        vertical-align: top;\n",
       "    }\n",
       "\n",
       "    .dataframe thead th {\n",
       "        text-align: right;\n",
       "    }\n",
       "</style>\n",
       "<table border=\"1\" class=\"dataframe\">\n",
       "  <thead>\n",
       "    <tr style=\"text-align: right;\">\n",
       "      <th>word</th>\n",
       "      <th>man</th>\n",
       "      <th>girl</th>\n",
       "      <th>boy</th>\n",
       "      <th>woman</th>\n",
       "      <th>swim</th>\n",
       "      <th>walk</th>\n",
       "    </tr>\n",
       "  </thead>\n",
       "  <tbody>\n",
       "    <tr>\n",
       "      <th>man</th>\n",
       "      <td>1.000000</td>\n",
       "      <td>0.713511</td>\n",
       "      <td>0.729472</td>\n",
       "      <td>0.787084</td>\n",
       "      <td>0.000000</td>\n",
       "      <td>0.000000</td>\n",
       "    </tr>\n",
       "    <tr>\n",
       "      <th>girl</th>\n",
       "      <td>0.713511</td>\n",
       "      <td>1.000000</td>\n",
       "      <td>0.292728</td>\n",
       "      <td>0.906780</td>\n",
       "      <td>0.000000</td>\n",
       "      <td>0.000000</td>\n",
       "    </tr>\n",
       "    <tr>\n",
       "      <th>boy</th>\n",
       "      <td>0.729472</td>\n",
       "      <td>0.292728</td>\n",
       "      <td>1.000000</td>\n",
       "      <td>0.318423</td>\n",
       "      <td>0.000000</td>\n",
       "      <td>0.000000</td>\n",
       "    </tr>\n",
       "    <tr>\n",
       "      <th>woman</th>\n",
       "      <td>0.787084</td>\n",
       "      <td>0.906780</td>\n",
       "      <td>0.318423</td>\n",
       "      <td>1.000000</td>\n",
       "      <td>0.000000</td>\n",
       "      <td>0.000000</td>\n",
       "    </tr>\n",
       "    <tr>\n",
       "      <th>swim</th>\n",
       "      <td>0.000000</td>\n",
       "      <td>0.000000</td>\n",
       "      <td>0.000000</td>\n",
       "      <td>0.000000</td>\n",
       "      <td>1.000000</td>\n",
       "      <td>0.491005</td>\n",
       "    </tr>\n",
       "    <tr>\n",
       "      <th>walk</th>\n",
       "      <td>0.000000</td>\n",
       "      <td>0.000000</td>\n",
       "      <td>0.000000</td>\n",
       "      <td>0.000000</td>\n",
       "      <td>0.491005</td>\n",
       "      <td>1.000000</td>\n",
       "    </tr>\n",
       "  </tbody>\n",
       "</table>\n",
       "</div>"
      ],
      "text/plain": [
       "word        man      girl       boy     woman      swim      walk\n",
       "man    1.000000  0.713511  0.729472  0.787084  0.000000  0.000000\n",
       "girl   0.713511  1.000000  0.292728  0.906780  0.000000  0.000000\n",
       "boy    0.729472  0.292728  1.000000  0.318423  0.000000  0.000000\n",
       "woman  0.787084  0.906780  0.318423  1.000000  0.000000  0.000000\n",
       "swim   0.000000  0.000000  0.000000  0.000000  1.000000  0.491005\n",
       "walk   0.000000  0.000000  0.000000  0.000000  0.491005  1.000000"
      ]
     },
     "execution_count": 13,
     "metadata": {},
     "output_type": "execute_result"
    }
   ],
   "source": [
    "brown_ic = wordnet_ic.ic('ic-brown.dat')\n",
    "\n",
    "lin_similarities = pd.DataFrame(index=words_df['word'].to_list(), columns=words_df['word'])\n",
    "lin_similarities.loc[verb_words, verb_words] = get_similarity_matrix(words_df[words_df['synset_pos'] == 'v'], partial(wn.lin_similarity, ic=brown_ic))\n",
    "lin_similarities.loc[noun_words, noun_words] = get_similarity_matrix(words_df[words_df['synset_pos'] == 'n'], partial(wn.lin_similarity, ic=brown_ic))\n",
    "lin_similarities = lin_similarities.astype(float).fillna(0)\n",
    "\n",
    "lin_similarities\n"
   ]
  },
  {
   "cell_type": "code",
   "execution_count": 14,
   "id": "4309e6aa",
   "metadata": {},
   "outputs": [
    {
     "data": {
      "image/png": "[encoded data removed]",
      "text/plain": [
       "<Figure size 900x1000 with 4 Axes>"
      ]
     },
     "metadata": {},
     "output_type": "display_data"
    }
   ],
   "source": [
    "def plot_similarity_matrix(ax, similarity_matrix: pd.DataFrame, title: str):\n",
    "    sns.heatmap(similarity_matrix, annot=True, fmt='.2f', cmap='coolwarm', ax=ax, cbar=False)\n",
    "    ax.set_title(title)\n",
    "\n",
    "fig, axs = plt.subplots(2, 2, figsize=(9, 10))\n",
    "\n",
    "plot_similarity_matrix(axs[0, 0], path_similarities, 'Path Similarity')\n",
    "plot_similarity_matrix(axs[0, 1], lch_similarities, 'LCH Similarity')\n",
    "plot_similarity_matrix(axs[1, 0], wup_similarities, 'WUP Similarity')\n",
    "plot_similarity_matrix(axs[1, 1], lin_similarities, 'LIN Similarity')\n",
    "\n",
    "fig.suptitle('Similarity Matrices', fontsize=16)\n",
    "plt.tight_layout()\n",
    "plt.show()\n"
   ]
  },
  {
   "cell_type": "markdown",
   "id": "bc03c0e7",
   "metadata": {},
   "source": [
    "## Investigating the discrepency in Wu-Palmer Similarity between girl and woman\n",
    "\n",
    "We noticed that the Wu-Palmer Similarity between woman and girl is ~0.95, while the similarity between girl and woman is 0.63.\n",
    "\n",
    "To understand this issue, we decided to calculate the similarity manually."
   ]
  },
  {
   "cell_type": "code",
   "execution_count": 15,
   "id": "52ebaf07",
   "metadata": {},
   "outputs": [
    {
     "name": "stdout",
     "output_type": "stream",
     "text": [
      "similarity between woman and girl: 0.9473684210526315\n",
      "similarity between girl and woman: 0.631578947368421\n"
     ]
    }
   ],
   "source": [
    "print(f\"similarity between woman and girl: {wn.wup_similarity(wn.synset('woman.n.01'), wn.synset('girl.n.01'))}\")\n",
    "print (f\"similarity between girl and woman: {wn.wup_similarity(wn.synset('girl.n.01'), wn.synset('woman.n.01'))}\")"
   ]
  },
  {
   "cell_type": "code",
   "execution_count": 16,
   "id": "2a72bc8b",
   "metadata": {},
   "outputs": [
    {
     "name": "stdout",
     "output_type": "stream",
     "text": [
      "Manually calculated similarity between woman and girl: 0.9411764705882353\n"
     ]
    }
   ],
   "source": [
    "woman = wn.synset('woman.n.01')\n",
    "girl = wn.synset('girl.n.01')\n",
    "lcs = woman.lowest_common_hypernyms(girl)[0]\n",
    "\n",
    "similarity = 2 * lcs.max_depth() / (woman.max_depth() + girl.max_depth())\n",
    "print(f\"Manually calculated similarity between woman and girl: {similarity}\")"
   ]
  },
  {
   "cell_type": "code",
   "execution_count": 17,
   "id": "f3df6f13",
   "metadata": {},
   "outputs": [
    {
     "name": "stdout",
     "output_type": "stream",
     "text": [
      "Manually calculated similarity between girl and woman: 0.9411764705882353\n"
     ]
    }
   ],
   "source": [
    "woman = wn.synset('woman.n.01')\n",
    "girl = wn.synset('girl.n.01')\n",
    "lcs = girl.lowest_common_hypernyms(woman)[0]\n",
    "\n",
    "similarity = 2 * lcs.max_depth() / (woman.max_depth() + girl.max_depth())\n",
    "print(f\"Manually calculated similarity between girl and woman: {similarity}\")"
   ]
  },
  {
   "cell_type": "markdown",
   "id": "a1e1530e",
   "metadata": {},
   "source": [
    "As expected, the similarity between girl and woman is the same as the similarity between woman and girl. Perhaps the cached similarity in the wn.wup_similarity function is incorrect."
   ]
  },
  {
   "cell_type": "code",
   "execution_count": 34,
   "id": "db70000d",
   "metadata": {},
   "outputs": [
    {
     "data": {
      "image/png": "[encoded data removed]",
      "text/plain": [
       "<Figure size 900x1000 with 1 Axes>"
      ]
     },
     "metadata": {},
     "output_type": "display_data"
    }
   ],
   "source": [
    "gold_standard_similarity = pd.DataFrame(\n",
    "    columns=['man', 'girl', 'boy', 'woman', 'swim', 'walk'],\n",
    "    index=['man', 'girl', 'boy', 'woman', 'swim', 'walk'],\n",
    "    data={\n",
    "        'man': [1.0, 0.4, 0.7, 0.6, 0.1, 0.1],\n",
    "        'girl': [0.4, 1.0, 0.6, 0.7, 0.1, 0.1],\n",
    "        'boy': [0.7, 0.6, 1.0, 0.4, 0.1, 0.1],\n",
    "        'woman': [0.6, 0.7, 0.4, 1.0, 0.1, 0.1],\n",
    "        'swim': [0.1, 0.1, 0.1, 0.1, 1.0, 0.7],\n",
    "        'walk': [0.1, 0.1, 0.1, 0.1, 0.7, 1.0]\n",
    "})\n",
    "fig, ax = plt.subplots(1, 1, figsize=(9, 10))\n",
    "plot_similarity_matrix(ax, gold_standard_similarity, 'Gold Standard Similarity')\n",
    "plt.show()\n"
   ]
  },
  {
   "cell_type": "code",
   "execution_count": 40,
   "id": "c1138a1b",
   "metadata": {},
   "outputs": [
    {
     "ename": "AttributeError",
     "evalue": "'dict' object has no attribute 'T'",
     "output_type": "error",
     "traceback": [
      "\u001b[0;31m---------------------------------------------------------------------------\u001b[0m",
      "\u001b[0;31mAttributeError\u001b[0m                            Traceback (most recent call last)",
      "Cell \u001b[0;32mIn[40], line 9\u001b[0m\n\u001b[1;32m      1\u001b[0m \u001b[38;5;28;01mfrom\u001b[39;00m \u001b[38;5;21;01mscipy\u001b[39;00m\u001b[38;5;21;01m.\u001b[39;00m\u001b[38;5;21;01mstats\u001b[39;00m \u001b[38;5;28;01mimport\u001b[39;00m pearsonr\n\u001b[1;32m      3\u001b[0m similarity_scores \u001b[38;5;241m=\u001b[39m {\n\u001b[1;32m      4\u001b[0m     \u001b[38;5;124m'\u001b[39m\u001b[38;5;124mPath\u001b[39m\u001b[38;5;124m'\u001b[39m: pearsonr(path_similarities\u001b[38;5;241m.\u001b[39mvalues\u001b[38;5;241m.\u001b[39mflatten(), gold_standard_similarity\u001b[38;5;241m.\u001b[39mvalues\u001b[38;5;241m.\u001b[39mflatten())[\u001b[38;5;241m0\u001b[39m],\n\u001b[1;32m      5\u001b[0m     \u001b[38;5;124m'\u001b[39m\u001b[38;5;124mLCH\u001b[39m\u001b[38;5;124m'\u001b[39m: pearsonr(lch_similarities\u001b[38;5;241m.\u001b[39mvalues\u001b[38;5;241m.\u001b[39mflatten(), gold_standard_similarity\u001b[38;5;241m.\u001b[39mvalues\u001b[38;5;241m.\u001b[39mflatten())[\u001b[38;5;241m0\u001b[39m],\n\u001b[1;32m      6\u001b[0m     \u001b[38;5;124m'\u001b[39m\u001b[38;5;124mWUP\u001b[39m\u001b[38;5;124m'\u001b[39m: pearsonr(wup_similarities\u001b[38;5;241m.\u001b[39mvalues\u001b[38;5;241m.\u001b[39mflatten(), gold_standard_similarity\u001b[38;5;241m.\u001b[39mvalues\u001b[38;5;241m.\u001b[39mflatten())[\u001b[38;5;241m0\u001b[39m],\n\u001b[1;32m      7\u001b[0m     \u001b[38;5;124m'\u001b[39m\u001b[38;5;124mLin\u001b[39m\u001b[38;5;124m'\u001b[39m: pearsonr(lin_similarities\u001b[38;5;241m.\u001b[39mvalues\u001b[38;5;241m.\u001b[39mflatten(), gold_standard_similarity\u001b[38;5;241m.\u001b[39mvalues\u001b[38;5;241m.\u001b[39mflatten())[\u001b[38;5;241m0\u001b[39m]\n\u001b[1;32m      8\u001b[0m }\n\u001b[0;32m----> 9\u001b[0m similarity_scores \u001b[38;5;241m=\u001b[39m pd\u001b[38;5;241m.\u001b[39mDataFrame(\u001b[43msimilarity_scores\u001b[49m\u001b[38;5;241;43m.\u001b[39;49m\u001b[43mT\u001b[49m, columns\u001b[38;5;241m=\u001b[39m[\u001b[38;5;124m'\u001b[39m\u001b[38;5;124mScore\u001b[39m\u001b[38;5;124m'\u001b[39m])\n\u001b[1;32m     11\u001b[0m \u001b[38;5;28mprint\u001b[39m(\u001b[38;5;124m\"\u001b[39m\u001b[38;5;124mSimilarity scores (Pearson correlation with gold standard):\u001b[39m\u001b[38;5;124m\"\u001b[39m)\n\u001b[1;32m     12\u001b[0m similarity_scores\n",
      "\u001b[0;31mAttributeError\u001b[0m: 'dict' object has no attribute 'T'"
     ]
    }
   ],
   "source": [
    "from scipy.stats import pearsonr\n",
    "\n",
    "similarity_scores = {\n",
    "    'Path': pearsonr(path_similarities.values.flatten(), gold_standard_similarity.values.flatten())[0],\n",
    "    'LCH': pearsonr(lch_similarities.values.flatten(), gold_standard_similarity.values.flatten())[0],\n",
    "    'WUP': pearsonr(wup_similarities.values.flatten(), gold_standard_similarity.values.flatten())[0],\n",
    "    'Lin': pearsonr(lin_similarities.values.flatten(), gold_standard_similarity.values.flatten())[0]\n",
    "}\n",
    "similarity_scores = pd.DataFrame(np.array(similarity_scores).T, columns=['Score'])\n",
    "\n",
    "print(\"Similarity scores (Pearson correlation with gold standard):\")\n",
    "similarity_scores"
   ]
  },
  {
   "cell_type": "code",
   "execution_count": null,
   "id": "e21a96cc",
   "metadata": {},
   "outputs": [],
   "source": []
  },
  {
   "cell_type": "markdown",
   "id": "a2149497",
   "metadata": {},
   "source": [
    "# Conclusions\n",
    "\n",
    "- ### What similarity seems better?"
   ]
  }
 ],
 "metadata": {
  "kernelspec": {
   "display_name": "Python 3 (ipykernel)",
   "language": "python",
   "name": "python3"
  },
  "language_info": {
   "codemirror_mode": {
    "name": "ipython",
    "version": 3
   },
   "file_extension": ".py",
   "mimetype": "text/x-python",
   "name": "python",
   "nbconvert_exporter": "python",
   "pygments_lexer": "ipython3",
   "version": "3.12.7"
  }
 },
 "nbformat": 4,
 "nbformat_minor": 5
}
