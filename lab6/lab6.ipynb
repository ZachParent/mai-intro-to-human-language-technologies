{
 "cells": [
  {
   "cell_type": "markdown",
   "id": "3d17522b",
   "metadata": {},
   "source": [
    "# IHLT Lab 6: Word Sense Disambiguation\n",
    "\n",
    "**Authors:** *Zachary Parent ([zachary.parent](mailto:zachary.parent@estudiantat.upc.edu)), Carlos Jiménez ([carlos.humberto.jimenez](mailto:carlos.humberto.jimenez@estudiantat.upc.edu))*\n",
    "\n",
    "### 2024-10-24\n",
    "\n",
    "**Instructions:**\n",
    "\n",
    "1. Read all pairs of sentences of the SMTeuroparl files of test set within the evaluation framework of the project.\n",
    "\n",
    "2. Apply WSD algorithms to the words in the sentences.\n",
    "\n",
    "3. Compute their similarities by considering senses and Jaccard coefficient.\n",
    "\n",
    "4. Compare the results with those in session 2 (document) and 3 (morphology) in which words and lemmas were considered.\n",
    "\n",
    "5. Compare the results with gold standard by giving the pearson correlation between them.\n",
    "\n",
    "## Notes\n",
    "\n",
    "* this time we are forced to use TextServer (only session)\n",
    "* spoiler alert: using word sense will not work as well\n",
    "    * best approach is morphology\n",
    "* if we combine approaches from symset, lemmas, tokens into one model, we will probably get better results\n",
    "* could use lemma tokens as a fallback\n",
    "* could combine similarity metrics, such as all the previous methods, and use a model, like KNN or decision tree, to get better results on the project\n",
    "* could use metadata for features, like document length, parts of speech\n",
    "* lesk is quite bad, UKB is slightly better\n",
    "* the wn response is a different format than we are used to, e.g. `10285313-n`\n",
    "    * to get the symset, use `wn.synset_from_pos_and_offset('n',10285313)`\n",
    "* textserver python API is not working, but we could use the browser console to hit the web API\n",
    "* the browser GUI works too\n",
    "* it's a good idea to cache the results from textserver\n",
    "* we will decide what to do with tokens that don't have a sense, we could ignore the ones without a sense. if we keep the ones, we will apply the same pre-processing as in session 2 and 3\n",
    "    * he's being coy, but we should probably not discard the words\n",
    "    * if the API doesn't work, it will be OK to not use UKB\n"
   ]
  },
  {
   "cell_type": "markdown",
   "id": "54ace28a",
   "metadata": {},
   "source": [
    "## Setup"
   ]
  },
  {
   "cell_type": "code",
   "execution_count": 1,
   "id": "4bc74633",
   "metadata": {},
   "outputs": [],
   "source": [
    "import nltk\n",
    "from nltk.corpus import wordnet as wn\n",
    "from nltk.corpus import wordnet_ic\n",
    "from nltk.corpus import sentiwordnet as swn\n",
    "import math\n",
    "import numpy as np\n",
    "import pandas as pd\n",
    "import matplotlib.pyplot as plt\n",
    "import seaborn as sns\n",
    "from functools import partial\n",
    "import itertools\n",
    "from textserver import TextServer"
   ]
  },
  {
   "cell_type": "code",
   "execution_count": 2,
   "id": "8a4d3b09",
   "metadata": {},
   "outputs": [
    {
     "name": "stderr",
     "output_type": "stream",
     "text": [
      "[nltk_data] Downloading package wordnet to\n",
      "[nltk_data]     /home/carlos.jimenez/nltk_data...\n",
      "[nltk_data]   Package wordnet is already up-to-date!\n",
      "[nltk_data] Downloading package omw-1.4 to\n",
      "[nltk_data]     /home/carlos.jimenez/nltk_data...\n",
      "[nltk_data]   Package omw-1.4 is already up-to-date!\n",
      "[nltk_data] Downloading package sentiwordnet to\n",
      "[nltk_data]     /home/carlos.jimenez/nltk_data...\n",
      "[nltk_data]   Package sentiwordnet is already up-to-date!\n",
      "[nltk_data] Downloading package wordnet_ic to\n",
      "[nltk_data]     /home/carlos.jimenez/nltk_data...\n",
      "[nltk_data]   Package wordnet_ic is already up-to-date!\n"
     ]
    },
    {
     "data": {
      "text/plain": [
       "True"
      ]
     },
     "execution_count": 2,
     "metadata": {},
     "output_type": "execute_result"
    }
   ],
   "source": [
    "nltk.download('wordnet')\n",
    "nltk.download('omw-1.4')\n",
    "nltk.download('sentiwordnet')\n",
    "nltk.download('wordnet_ic')"
   ]
  },
  {
   "cell_type": "code",
   "execution_count": 3,
   "id": "9000c023",
   "metadata": {},
   "outputs": [],
   "source": [
    "context = ['I', 'went', 'to', 'the', 'bank', 'to', 'deposit', 'money', '.']\n",
    "synset = nltk.wsd.lesk(context, 'bank', 'n')"
   ]
  },
  {
   "cell_type": "code",
   "execution_count": 4,
   "id": "9231aef5",
   "metadata": {},
   "outputs": [
    {
     "data": {
      "text/plain": [
       "('savings_bank.n.02',\n",
       " 'a container (usually with a slot in the top) for keeping money at home')"
      ]
     },
     "execution_count": 4,
     "metadata": {},
     "output_type": "execute_result"
    }
   ],
   "source": [
    "synset.name(), synset.definition()"
   ]
  },
  {
   "cell_type": "markdown",
   "id": "aaa6dcc7",
   "metadata": {},
   "source": [
    "### 1. Read all pairs of sentences of the SMTeuroparl files of test set within the evaluation framework of the project."
   ]
  },
  {
   "cell_type": "code",
   "execution_count": 8,
   "id": "04b09438",
   "metadata": {},
   "outputs": [],
   "source": [
    "BASE_PATH = './'"
   ]
  },
  {
   "cell_type": "code",
   "execution_count": 9,
   "id": "567647fa",
   "metadata": {},
   "outputs": [],
   "source": [
    "assert BASE_PATH is not None, \"BASE_PATH is not set\""
   ]
  },
  {
   "cell_type": "code",
   "execution_count": 10,
   "id": "87201980",
   "metadata": {},
   "outputs": [
    {
     "data": {
      "text/html": [
       "<div>\n",
       "<style scoped>\n",
       "    .dataframe tbody tr th:only-of-type {\n",
       "        vertical-align: middle;\n",
       "    }\n",
       "\n",
       "    .dataframe tbody tr th {\n",
       "        vertical-align: top;\n",
       "    }\n",
       "\n",
       "    .dataframe thead th {\n",
       "        text-align: right;\n",
       "    }\n",
       "</style>\n",
       "<table border=\"1\" class=\"dataframe\">\n",
       "  <thead>\n",
       "    <tr style=\"text-align: right;\">\n",
       "      <th></th>\n",
       "      <th>0</th>\n",
       "      <th>1</th>\n",
       "    </tr>\n",
       "  </thead>\n",
       "  <tbody>\n",
       "    <tr>\n",
       "      <th>0</th>\n",
       "      <td>The leaders have now been given a new chance a...</td>\n",
       "      <td>The leaders benefit aujourd' hui of a new luck...</td>\n",
       "    </tr>\n",
       "    <tr>\n",
       "      <th>1</th>\n",
       "      <td>Amendment No 7 proposes certain changes in the...</td>\n",
       "      <td>Amendment No 7 is proposing certain changes in...</td>\n",
       "    </tr>\n",
       "    <tr>\n",
       "      <th>2</th>\n",
       "      <td>Let me remind you that our allies include ferv...</td>\n",
       "      <td>I would like to remind you that among our alli...</td>\n",
       "    </tr>\n",
       "    <tr>\n",
       "      <th>3</th>\n",
       "      <td>The vote will take place today at 5.30 p.m.</td>\n",
       "      <td>The vote will take place at 5.30pm</td>\n",
       "    </tr>\n",
       "    <tr>\n",
       "      <th>4</th>\n",
       "      <td>The fishermen are inactive, tired and disappoi...</td>\n",
       "      <td>The fishermen are inactive, tired and disappoi...</td>\n",
       "    </tr>\n",
       "  </tbody>\n",
       "</table>\n",
       "</div>"
      ],
      "text/plain": [
       "                                                   0  \\\n",
       "0  The leaders have now been given a new chance a...   \n",
       "1  Amendment No 7 proposes certain changes in the...   \n",
       "2  Let me remind you that our allies include ferv...   \n",
       "3        The vote will take place today at 5.30 p.m.   \n",
       "4  The fishermen are inactive, tired and disappoi...   \n",
       "\n",
       "                                                   1  \n",
       "0  The leaders benefit aujourd' hui of a new luck...  \n",
       "1  Amendment No 7 is proposing certain changes in...  \n",
       "2  I would like to remind you that among our alli...  \n",
       "3                 The vote will take place at 5.30pm  \n",
       "4  The fishermen are inactive, tired and disappoi...  "
      ]
     },
     "execution_count": 10,
     "metadata": {},
     "output_type": "execute_result"
    }
   ],
   "source": [
    "dt = pd.read_csv(\n",
    "    f\"{BASE_PATH}/test-gold/STS.input.SMTeuroparl.txt\", sep=\"\\t\", header=None\n",
    ")\n",
    "dt.head()"
   ]
  },
  {
   "cell_type": "markdown",
   "id": "13177672",
   "metadata": {},
   "source": [
    "### 2. Apply WSD algorithms to the words in the sentences."
   ]
  },
  {
   "cell_type": "markdown",
   "id": "3b790f34",
   "metadata": {},
   "source": [
    "### 3. Compute their similarities by considering senses and Jaccard coefficient."
   ]
  },
  {
   "cell_type": "markdown",
   "id": "f449f295",
   "metadata": {},
   "source": [
    "### 4. Results comparison"
   ]
  },
  {
   "cell_type": "markdown",
   "id": "b9ab671a",
   "metadata": {},
   "source": [
    "#### Lab2 (document)"
   ]
  },
  {
   "cell_type": "code",
   "execution_count": null,
   "id": "f0ec78a3",
   "metadata": {},
   "outputs": [],
   "source": []
  },
  {
   "cell_type": "markdown",
   "id": "8de41a2d",
   "metadata": {},
   "source": [
    "#### Lab3 (morphology)"
   ]
  },
  {
   "cell_type": "code",
   "execution_count": null,
   "id": "eaccea79",
   "metadata": {},
   "outputs": [],
   "source": []
  },
  {
   "cell_type": "markdown",
   "id": "e5ca8a26",
   "metadata": {},
   "source": [
    "### gold standard"
   ]
  },
  {
   "cell_type": "code",
   "execution_count": null,
   "id": "d5f1de50",
   "metadata": {},
   "outputs": [],
   "source": []
  },
  {
   "cell_type": "markdown",
   "id": "0df2fd07",
   "metadata": {},
   "source": [
    "# Analysis & Conclusions\n",
    "\n",
    "\n"
   ]
  }
 ],
 "metadata": {
  "kernelspec": {
   "display_name": "Python 3 (ipykernel)",
   "language": "python",
   "name": "python3"
  },
  "language_info": {
   "codemirror_mode": {
    "name": "ipython",
    "version": 3
   },
   "file_extension": ".py",
   "mimetype": "text/x-python",
   "name": "python",
   "nbconvert_exporter": "python",
   "pygments_lexer": "ipython3",
   "version": "3.8.10"
  }
 },
 "nbformat": 4,
 "nbformat_minor": 5
}
