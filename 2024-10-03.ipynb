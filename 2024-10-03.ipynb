{
 "cells": [
  {
   "cell_type": "code",
   "execution_count": 1,
   "metadata": {},
   "outputs": [
    {
     "name": "stdout",
     "output_type": "stream",
     "text": [
      "Transition probabilities (A):\n",
      "      DT   JJ   NN  NNS  VBZ  VBP\n",
      "DT   0.0  0.0  0.0    0  0.5  0.4\n",
      "JJ   0.2  0.0  0.0    0  0.0  0.0\n",
      "NN   0.5  0.8  0.0    0  0.2  0.4\n",
      "NNS  0.3  0.2  0.1    0  0.3  0.2\n",
      "VBZ  0.0  0.0  0.9    0  0.0  0.0\n",
      "VBP  0.0  0.0  0.0    1  0.0  0.0\n",
      "\n",
      "Emission probabilities (B):\n",
      "     the  big  kid  fish  time  fishes  times\n",
      "DT     1  0.0  0.0   0.0   0.0     0.0    0.0\n",
      "JJ     0  0.8  0.2   0.0   0.0     0.0    0.0\n",
      "NN     0  0.0  0.3   0.4   0.3     0.0    0.0\n",
      "NNS    0  0.0  0.0   0.3   0.0     0.4    0.3\n",
      "VBZ    0  0.0  0.0   0.0   0.0     0.6    0.4\n",
      "VBP    0  0.0  0.0   0.7   0.3     0.0    0.0\n",
      "\n",
      "Initial state probabilities (π):\n",
      "     probability\n",
      "DT           0.4\n",
      "JJ           0.2\n",
      "NN           0.0\n",
      "NNS          0.3\n",
      "VBZ          0.0\n",
      "VBP          0.1\n"
     ]
    }
   ],
   "source": [
    "import pandas as pd\n",
    "import numpy as np\n",
    "\n",
    "# Transition probabilities (A)\n",
    "A_data = {\n",
    "    'DT': [0, 0.2, 0.5, 0.3, 0, 0],\n",
    "    'JJ': [0, 0, 0.8, 0.2, 0, 0],\n",
    "    'NN': [0, 0, 0, 0.1, 0.9, 0],\n",
    "    'NNS': [0, 0, 0, 0, 0, 1],\n",
    "    'VBZ': [0.5, 0, 0.2, 0.3, 0, 0],\n",
    "    'VBP': [0.4, 0, 0.4, 0.2, 0, 0]\n",
    "}\n",
    "A_df = pd.DataFrame(A_data, index=['DT', 'JJ', 'NN', 'NNS', 'VBZ', 'VBP'])\n",
    "\n",
    "# Emission probabilities (B)\n",
    "B_data = {\n",
    "    'the': [1, 0, 0, 0, 0, 0],\n",
    "    'big': [0, 0.8, 0, 0, 0, 0],\n",
    "    'kid': [0, 0.2, 0.3, 0, 0, 0],\n",
    "    'fish': [0, 0, 0.4, 0.3, 0, 0.7],\n",
    "    'time': [0, 0, 0.3, 0, 0, 0.3],\n",
    "    'fishes': [0, 0, 0, 0.4, 0.6, 0],\n",
    "    'times': [0, 0, 0, 0.3, 0.4, 0]\n",
    "}\n",
    "B_df = pd.DataFrame(B_data, index=['DT', 'JJ', 'NN', 'NNS', 'VBZ', 'VBP'])\n",
    "\n",
    "# Initial state probabilities (π)\n",
    "pi_data = {\n",
    "    'probability': [0.4, 0.2, 0, 0.3, 0, 0.1]\n",
    "}\n",
    "pi_df = pd.DataFrame(pi_data, index=['DT', 'JJ', 'NN', 'NNS', 'VBZ', 'VBP'])\n",
    "\n",
    "# Display the DataFrames\n",
    "print(\"Transition probabilities (A):\")\n",
    "print(A_df)\n",
    "print(\"\\nEmission probabilities (B):\")\n",
    "print(B_df)\n",
    "print(\"\\nInitial state probabilities (π):\")\n",
    "print(pi_df)"
   ]
  },
  {
   "cell_type": "code",
   "execution_count": 2,
   "metadata": {},
   "outputs": [
    {
     "name": "stdout",
     "output_type": "stream",
     "text": [
      "Observations: ['the', 'kid', 'fishes', 'fish']\n",
      "Most likely POS tags: ['DT', 'NN', 'VBZ', 'NNS']\n"
     ]
    }
   ],
   "source": [
    "def viterbi(observations, A, B, pi):\n",
    "    T = len(observations)\n",
    "    N = len(A)\n",
    "    states = A.index.tolist()\n",
    "\n",
    "    # Initialize viterbi and backpointer matrices\n",
    "    viterbi_matrix = np.zeros((N, T))\n",
    "    backpointer = np.zeros((N, T), dtype=int)\n",
    "\n",
    "    # Initialize first column of viterbi matrix\n",
    "    for s in range(N):\n",
    "        viterbi_matrix[s, 0] = pi.iloc[s, 0] * B.loc[states[s], observations[0]]\n",
    "\n",
    "    # Run Viterbi for t > 0\n",
    "    for t in range(1, T):\n",
    "        for s in range(N):\n",
    "            prob = [viterbi_matrix[s0, t-1] * A.iloc[s, s0] * B.loc[states[s], observations[t]] for s0 in range(N)]\n",
    "            viterbi_matrix[s, t] = max(prob)\n",
    "            backpointer[s, t] = np.argmax(prob)\n",
    "\n",
    "    # Backtrack\n",
    "    best_path_pointer = np.argmax(viterbi_matrix[:, -1])\n",
    "    best_path = [states[best_path_pointer]]\n",
    "    for t in range(T-1, 0, -1):\n",
    "        best_path_pointer = backpointer[best_path_pointer, t]\n",
    "        best_path.insert(0, states[best_path_pointer])\n",
    "\n",
    "    return viterbi_matrix, best_path\n",
    "\n",
    "# Example usage\n",
    "observations = ['the', 'kid', 'fishes', 'fish']\n",
    "viterbi_matrix, best_path = viterbi(observations, A_df, B_df, pi_df)\n",
    "print(f\"Observations: {observations}\")\n",
    "print(f\"Most likely POS tags: {best_path}\")\n"
   ]
  }
 ],
 "metadata": {
  "kernelspec": {
   "display_name": ".venv-ihlt",
   "language": "python",
   "name": "python3"
  },
  "language_info": {
   "codemirror_mode": {
    "name": "ipython",
    "version": 3
   },
   "file_extension": ".py",
   "mimetype": "text/x-python",
   "name": "python",
   "nbconvert_exporter": "python",
   "pygments_lexer": "ipython3",
   "version": "3.12.5"
  }
 },
 "nbformat": 4,
 "nbformat_minor": 2
}
