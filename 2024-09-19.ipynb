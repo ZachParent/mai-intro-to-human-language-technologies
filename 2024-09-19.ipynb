{
 "cells": [
  {
   "cell_type": "code",
   "execution_count": 1,
   "metadata": {},
   "outputs": [],
   "source": [
    "import pandas as pd\n",
    "import numpy as np"
   ]
  },
  {
   "cell_type": "code",
   "execution_count": 5,
   "metadata": {},
   "outputs": [
    {
     "data": {
      "text/html": [
       "<div>\n",
       "<style scoped>\n",
       "    .dataframe tbody tr th:only-of-type {\n",
       "        vertical-align: middle;\n",
       "    }\n",
       "\n",
       "    .dataframe tbody tr th {\n",
       "        vertical-align: top;\n",
       "    }\n",
       "\n",
       "    .dataframe thead th {\n",
       "        text-align: right;\n",
       "    }\n",
       "</style>\n",
       "<table border=\"1\" class=\"dataframe\">\n",
       "  <thead>\n",
       "    <tr style=\"text-align: right;\">\n",
       "      <th></th>\n",
       "      <th>english</th>\n",
       "      <th>catalan</th>\n",
       "    </tr>\n",
       "  </thead>\n",
       "  <tbody>\n",
       "    <tr>\n",
       "      <th>N</th>\n",
       "      <td>1300000</td>\n",
       "      <td>1100000</td>\n",
       "    </tr>\n",
       "    <tr>\n",
       "      <th>B</th>\n",
       "      <td>22600</td>\n",
       "      <td>36800</td>\n",
       "    </tr>\n",
       "    <tr>\n",
       "      <th>a</th>\n",
       "      <td>17000</td>\n",
       "      <td>21000</td>\n",
       "    </tr>\n",
       "    <tr>\n",
       "      <th>he</th>\n",
       "      <td>10000</td>\n",
       "      <td>11900</td>\n",
       "    </tr>\n",
       "    <tr>\n",
       "      <th>mail</th>\n",
       "      <td>3900</td>\n",
       "      <td>420</td>\n",
       "    </tr>\n",
       "  </tbody>\n",
       "</table>\n",
       "</div>"
      ],
      "text/plain": [
       "      english  catalan\n",
       "N     1300000  1100000\n",
       "B       22600    36800\n",
       "a       17000    21000\n",
       "he      10000    11900\n",
       "mail     3900      420"
      ]
     },
     "execution_count": 5,
     "metadata": {},
     "output_type": "execute_result"
    }
   ],
   "source": [
    "df = pd.DataFrame(columns=['english', 'catalan'],index=['N', 'B', 'a', 'he', 'mail', 'sent', 'to', 'mordorian'], data=[\n",
    "    [1300000,1100000],\n",
    "    [22600,36800],\n",
    "    [17000, 21000],\n",
    "    [10000, 11900],\n",
    "    [3900, 420],\n",
    "    [850, 910],\n",
    "    [25000, 750],\n",
    "    [0, 0],\n",
    "])\n",
    "\n",
    "df.head()"
   ]
  },
  {
   "cell_type": "code",
   "execution_count": 26,
   "metadata": {},
   "outputs": [],
   "source": [
    "\n",
    "def MLE(word, language):\n",
    "    return np.log(df.loc[word, language] / df.loc['N', language] + 0.00000001) / np.log(10)"
   ]
  },
  {
   "cell_type": "code",
   "execution_count": 24,
   "metadata": {},
   "outputs": [
    {
     "name": "stdout",
     "output_type": "stream",
     "text": [
      "MLE(he, english) =  -2.1139433523068365\n",
      "MLE(he, catalan) =  -1.9658457237656939\n"
     ]
    }
   ],
   "source": [
    "print('MLE(he, english) = ', MLE('he', 'english'))\n",
    "print('MLE(he, catalan) = ', MLE('he', 'catalan'))"
   ]
  },
  {
   "cell_type": "code",
   "execution_count": 29,
   "metadata": {},
   "outputs": [],
   "source": [
    "def MLE_on_sentence(sentence, language):\n",
    "    words = sentence.split()\n",
    "    return sum([MLE(word, language) for word in words])"
   ]
  },
  {
   "cell_type": "code",
   "execution_count": 30,
   "metadata": {},
   "outputs": [
    {
     "name": "stdout",
     "output_type": "stream",
     "text": [
      "MLE(he sent mail to, english) =  -9.537340987653018\n",
      "MLE(he sent mail to, catalan) =  -11.632648438163358\n",
      "MLE(he sent mail to mordorian, english) =  -17.537340987653018\n",
      "MLE(he sent mail to mordorian, catalan) =  -19.632648438163358\n"
     ]
    }
   ],
   "source": [
    "\n",
    "print('MLE(he sent mail to, english) = ', MLE_on_sentence('he sent mail to', 'english'))\n",
    "print('MLE(he sent mail to, catalan) = ', MLE_on_sentence('he sent mail to', 'catalan'))\n",
    "\n",
    "print('MLE(he sent mail to mordorian, english) = ', MLE_on_sentence('he sent mail to mordorian', 'english'))\n",
    "print('MLE(he sent mail to mordorian, catalan) = ', MLE_on_sentence('he sent mail to mordorian', 'catalan'))"
   ]
  },
  {
   "cell_type": "code",
   "execution_count": 33,
   "metadata": {},
   "outputs": [],
   "source": [
    "def LID(word, language):\n",
    "    return np.log((df.loc[word, language] +0.5) / (df.loc['N', language] + 0.5 * df.loc['B', language])) / np.log(10)"
   ]
  },
  {
   "cell_type": "code",
   "execution_count": 35,
   "metadata": {},
   "outputs": [
    {
     "name": "stdout",
     "output_type": "stream",
     "text": [
      "LID(he, english) =  -2.11768034702807\n",
      "LID(he, catalan) =  -1.973031949725112\n"
     ]
    }
   ],
   "source": [
    "print('LID(he, english) = ', LID('he', 'english'))\n",
    "print('LID(he, catalan) = ', LID('he', 'catalan'))"
   ]
  },
  {
   "cell_type": "code",
   "execution_count": 37,
   "metadata": {},
   "outputs": [],
   "source": [
    "def LID_on_sentence(sentence, language):\n",
    "    words = sentence.split()\n",
    "    return sum([LID(word, language) for word in words])"
   ]
  },
  {
   "cell_type": "code",
   "execution_count": 38,
   "metadata": {},
   "outputs": [
    {
     "name": "stdout",
     "output_type": "stream",
     "text": [
      "LID(he sent mail to, english) =  -9.552043235995225\n",
      "LID(he sent mail to, catalan) =  -11.660426778085771\n",
      "LID(he sent mail to mordorian, english) =  -15.97077529286852\n",
      "LID(he sent mail to mordorian, catalan) =  -18.010053932151358\n"
     ]
    }
   ],
   "source": [
    "\n",
    "print('LID(he sent mail to, english) = ', LID_on_sentence('he sent mail to', 'english'))\n",
    "print('LID(he sent mail to, catalan) = ', LID_on_sentence('he sent mail to', 'catalan'))\n",
    "\n",
    "print('LID(he sent mail to mordorian, english) = ', LID_on_sentence('he sent mail to mordorian', 'english'))\n",
    "print('LID(he sent mail to mordorian, catalan) = ', LID_on_sentence('he sent mail to mordorian', 'catalan'))"
   ]
  }
 ],
 "metadata": {
  "kernelspec": {
   "display_name": "base",
   "language": "python",
   "name": "python3"
  },
  "language_info": {
   "codemirror_mode": {
    "name": "ipython",
    "version": 3
   },
   "file_extension": ".py",
   "mimetype": "text/x-python",
   "name": "python",
   "nbconvert_exporter": "python",
   "pygments_lexer": "ipython3",
   "version": "3.12.4"
  }
 },
 "nbformat": 4,
 "nbformat_minor": 2
}
