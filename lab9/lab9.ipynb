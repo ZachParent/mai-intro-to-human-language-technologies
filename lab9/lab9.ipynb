{
 "cells": [
  {
   "cell_type": "markdown",
   "metadata": {},
   "source": [
    "# IHLT Lab 9: Coreferences\n",
    "\n",
    "**Author:** *Zachary Parent ([zachary.parent](mailto:zachary.parent@estudiantat.upc.edu))*\n",
    "\n",
    "### 2024-12-02\n",
    "\n",
    "**Instructions:**\n",
    "\n",
    "- Consider the first paragraph in Alice's Adventures in Wonderland, by Lewis Carroll:\n",
    "  - Alice was beginning to get very tired of sitting by her sister on the bank, \n",
    "  and of having nothing to do: once or twice she had peeped into the book her \n",
    "  sister was reading, but it had no pictures or conversations in it, 'and what is the use of a book,' thought Alice 'without pictures or conversations?'\n",
    "- It can be downloaded from:\n",
    "  - http://www.gutenberg.org/files/11/11-0.txt\n",
    "- Apply the spaCy coreference solver to the previous paragraph.\n",
    "- Show the coreference chains.\n",
    "- What do you think about them? Justify your answer."
   ]
  }
 ],
 "metadata": {
  "language_info": {
   "name": "python"
  }
 },
 "nbformat": 4,
 "nbformat_minor": 2
}
