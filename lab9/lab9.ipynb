{
 "cells": [
  {
   "cell_type": "markdown",
   "metadata": {},
   "source": [
    "# IHLT Lab 9: Coreferences\n",
    "\n",
    "**Author:** *Zachary Parent ([zachary.parent](mailto:zachary.parent@estudiantat.upc.edu))*\n",
    "\n",
    "### 2024-12-02\n",
    "\n",
    "**Instructions:**\n",
    "\n",
    "- Consider the first paragraph in Alice's Adventures in Wonderland, by Lewis Carroll:\n",
    "  > Alice was beginning to get very tired of sitting by her sister on the bank, \n",
    "  > and of having nothing to do: once or twice she had peeped into the book her \n",
    "  > sister was reading, but it had no pictures or conversations in it, 'and what is the use of a book,' thought Alice 'without pictures or conversations?'\n",
    "- It can be downloaded from:\n",
    "  - http://www.gutenberg.org/files/11/11-0.txt\n",
    "- Apply the spaCy coreference solver to the previous paragraph.\n",
    "- Show the coreference chains.\n",
    "- What do you think about them? Justify your answer."
   ]
  },
  {
   "cell_type": "code",
   "execution_count": 1,
   "metadata": {},
   "outputs": [],
   "source": [
    "import spacy"
   ]
  },
  {
   "cell_type": "code",
   "execution_count": 2,
   "metadata": {},
   "outputs": [
    {
     "name": "stderr",
     "output_type": "stream",
     "text": [
      "/Users/zachparent/src/MAI/ihlt/lab9/.venv-spacy/lib/python3.9/site-packages/tqdm/auto.py:21: TqdmWarning: IProgress not found. Please update jupyter and ipywidgets. See https://ipywidgets.readthedocs.io/en/stable/user_install.html\n",
      "  from .autonotebook import tqdm as notebook_tqdm\n",
      "/Users/zachparent/src/MAI/ihlt/lab9/.venv-spacy/lib/python3.9/site-packages/spacy_transformers/layers/hf_shim.py:118: FutureWarning: You are using `torch.load` with `weights_only=False` (the current default value), which uses the default pickle module implicitly. It is possible to construct malicious pickle data which will execute arbitrary code during unpickling (See https://github.com/pytorch/pytorch/blob/main/SECURITY.md#untrusted-models for more details). In a future release, the default value for `weights_only` will be flipped to `True`. This limits the functions that could be executed during unpickling. Arbitrary objects will no longer be allowed to be loaded via this mode unless they are explicitly allowlisted by the user via `torch.serialization.add_safe_globals`. We recommend you start setting `weights_only=True` for any use case where you don't have full control of the loaded file. Please open an issue on GitHub for any issues related to this experimental feature.\n",
      "  self._model.load_state_dict(torch.load(filelike, map_location=device))\n",
      "/Users/zachparent/src/MAI/ihlt/lab9/.venv-spacy/lib/python3.9/site-packages/thinc/shims/pytorch.py:253: FutureWarning: You are using `torch.load` with `weights_only=False` (the current default value), which uses the default pickle module implicitly. It is possible to construct malicious pickle data which will execute arbitrary code during unpickling (See https://github.com/pytorch/pytorch/blob/main/SECURITY.md#untrusted-models for more details). In a future release, the default value for `weights_only` will be flipped to `True`. This limits the functions that could be executed during unpickling. Arbitrary objects will no longer be allowed to be loaded via this mode unless they are explicitly allowlisted by the user via `torch.serialization.add_safe_globals`. We recommend you start setting `weights_only=True` for any use case where you don't have full control of the loaded file. Please open an issue on GitHub for any issues related to this experimental feature.\n",
      "  model.load_state_dict(torch.load(filelike, map_location=device))\n"
     ]
    },
    {
     "data": {
      "text/plain": [
       "<coreferee.manager.CorefereeBroker at 0x154635d90>"
      ]
     },
     "execution_count": 2,
     "metadata": {},
     "output_type": "execute_result"
    }
   ],
   "source": [
    "nlp_exp = spacy.load(\"en_coreference_web_trf\")\n",
    "\n",
    "nlp_coref = spacy.load('en_core_web_lg')\n",
    "nlp_coref.add_pipe('coreferee')\n"
   ]
  },
  {
   "cell_type": "code",
   "execution_count": 3,
   "metadata": {},
   "outputs": [],
   "source": [
    "paragraph = \"\"\"Alice was beginning to get very tired of sitting by her sister on the bank, \n",
    "  and of having nothing to do: once or twice she had peeped into the book her \n",
    "  sister was reading, but it had no pictures or conversations in it,\n",
    "  'and what is the use of a book,' thought Alice 'without pictures or conversations?'\"\"\""
   ]
  },
  {
   "cell_type": "code",
   "execution_count": 4,
   "metadata": {},
   "outputs": [
    {
     "name": "stdout",
     "output_type": "stream",
     "text": [
      "{'coref_clusters_1': [Alice, her, she, her, Alice], 'coref_clusters_2': [her sister, her \n",
      "  sister], 'coref_clusters_3': [the book her \n",
      "  sister was reading, it, it]}\n"
     ]
    },
    {
     "name": "stderr",
     "output_type": "stream",
     "text": [
      "/Users/zachparent/src/MAI/ihlt/lab9/.venv-spacy/lib/python3.9/site-packages/thinc/shims/pytorch.py:114: FutureWarning: `torch.cuda.amp.autocast(args...)` is deprecated. Please use `torch.amp.autocast('cuda', args...)` instead.\n",
      "  with torch.cuda.amp.autocast(self._mixed_precision):\n"
     ]
    }
   ],
   "source": [
    "doc_exp = nlp_exp(paragraph)\n",
    "\n",
    "print(doc_exp.spans)"
   ]
  },
  {
   "cell_type": "code",
   "execution_count": 5,
   "metadata": {},
   "outputs": [
    {
     "name": "stdout",
     "output_type": "stream",
     "text": [
      "0: Alice(0), her(10), she(27), her(33), Alice(62)\n",
      "1: bank(14), it(47)\n",
      "2: book(32), it(40)\n"
     ]
    }
   ],
   "source": [
    "doc_coref = nlp_coref(paragraph)\n",
    "\n",
    "doc_coref._.coref_chains.print()"
   ]
  },
  {
   "cell_type": "markdown",
   "metadata": {},
   "source": [
    "# Analysis\n",
    "\n",
    "## Spacy's experimental coreference solver\n",
    "\n",
    "The coreference chains produced by spaCy's experimental coreference solver are accurate in this case. It is worth being skeptical, because they can sometimes produce incorrect results, so we went item by item to check the results. Below are the annotations from the coreference chains:\n",
    "\n",
    "> Alice[`1`] was beginning to get very tired of sitting by [her[`1`] sister][`2`] on the bank, \n",
    ">  and of having nothing to do: once or twice she[`1`] had peeped into [the book [her[`1`] \n",
    ">  sister][`2`] was reading][`3`], but it[`3`] had no pictures or conversations in it[`3`],\n",
    ">  'and what is the use of a book,' thought Alice[`1`] 'without pictures or conversations?'\n",
    "\n",
    "These seem to be sensible coreferences, resolving to Alice (`1`), her sister (`2`), and the book (`3`). These coreferences remain consistent throughout the paragraph. The coreferences do not miss any anaphoric references, and the antecedents are correct.\n",
    "\n",
    "## Coreferee\n",
    "\n",
    "> Alice[`1`] was beginning to get very tired of sitting by her[`1`] sister on the bank[`2`], \n",
    ">  and of having nothing to do: once or twice she[`1`] had peeped into the book[3] her[`1`] \n",
    ">  sister was reading, but it[`3`] had no pictures or conversations in it[`2`],\n",
    ">  'and what is the use of a book,' thought Alice[`1`] 'without pictures or conversations?'\n",
    "\n",
    "The coreference chains produced by Coreferee are not as accurate. The coreference chains are not as consistent throughout the paragraph, and the antecedents are not always correct. For example, the coreference chains resolve \"it\" to \"bank\" in the first sentence, but \"it\" to \"book\" in the second sentence. This is an error. It also does not keep track of the sister, which is an error."
   ]
  }
 ],
 "metadata": {
  "kernelspec": {
   "display_name": ".venv-ihlt",
   "language": "python",
   "name": "python3"
  },
  "language_info": {
   "codemirror_mode": {
    "name": "ipython",
    "version": 3
   },
   "file_extension": ".py",
   "mimetype": "text/x-python",
   "name": "python",
   "nbconvert_exporter": "python",
   "pygments_lexer": "ipython3",
   "version": "3.9.20"
  }
 },
 "nbformat": 4,
 "nbformat_minor": 2
}
