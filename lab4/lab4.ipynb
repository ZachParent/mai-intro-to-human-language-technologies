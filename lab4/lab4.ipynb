{
 "cells": [
  {
   "cell_type": "markdown",
   "id": "8dad9b6f",
   "metadata": {},
   "source": [
    "# IHLT Lab 4: Part of Speech\n",
    "\n",
    "**Authors:** *Zachary Parent ([zachary.parent](mailto:zachary.parent@estudiantat.upc.edu)), Carlos Jiménez ([carlos.humberto.jimenez](mailto:carlos.humberto.jimenez@estudiantat.upc.edu))*\n",
    "\n",
    "### 2024-10-10\n",
    "\n",
    "**Instructions:**\n",
    "\n",
    "1. Consider Treebank corpus.\n",
    "\n",
    "    - Train HMM, TnT, perceptron and CRF models using the first 500, 1000, 1500, 2000, 2500 and 3000 sentences.\n",
    "\n",
    "    - Evaluate the resulting 24 models using sentences from 3001.\n",
    "\n",
    "2. Provide a figure with four learning curves, each per model type (X=training set size; Y=accuracy).\n",
    "\n",
    "    - Which model would you select? Justify the answer.\n",
    "\n",
    "\n",
    "## Notes\n"
   ]
  }
 ],
 "metadata": {
  "kernelspec": {
   "display_name": "Python 3 (ipykernel)",
   "language": "python",
   "name": "python3"
  },
  "language_info": {
   "codemirror_mode": {
    "name": "ipython",
    "version": 3
   },
   "file_extension": ".py",
   "mimetype": "text/x-python",
   "name": "python",
   "nbconvert_exporter": "python",
   "pygments_lexer": "ipython3",
   "version": "3.8.10"
  }
 },
 "nbformat": 4,
 "nbformat_minor": 5
}
